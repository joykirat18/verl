{
 "cells": [
  {
   "cell_type": "code",
   "execution_count": 1,
   "id": "c9b1d2ce",
   "metadata": {},
   "outputs": [
    {
     "name": "stderr",
     "output_type": "stream",
     "text": [
      "/nas-ssd2/joykirat/code/verl-fork/verl/venv/lib/python3.12/site-packages/tqdm/auto.py:21: TqdmWarning: IProgress not found. Please update jupyter and ipywidgets. See https://ipywidgets.readthedocs.io/en/stable/user_install.html\n",
      "  from .autonotebook import tqdm as notebook_tqdm\n",
      "Loading checkpoint shards: 100%|██████████| 3/3 [00:00<00:00,  3.81it/s]\n"
     ]
    }
   ],
   "source": [
    "import os\n",
    "\n",
    "os.environ['HF_HOME'] = '/nas-ssd2/joykirat/.cache/huggingface'\n",
    "os.environ['CUDA_VISIBLE_DEVICES'] = '7'\n",
    "from transformers import AutoTokenizer, AutoModelForCausalLM\n",
    "\n",
    "tokenizer = AutoTokenizer.from_pretrained(\"Qwen/Qwen3-4B\")\n",
    "model = AutoModelForCausalLM.from_pretrained(\"Qwen/Qwen3-4B\", attn_implementation=\"eager\")\n"
   ]
  },
  {
   "cell_type": "code",
   "execution_count": 2,
   "id": "f1b6427a",
   "metadata": {},
   "outputs": [
    {
     "data": {
      "text/plain": [
       "Qwen3ForCausalLM(\n",
       "  (model): Qwen3Model(\n",
       "    (embed_tokens): Embedding(151936, 2560)\n",
       "    (layers): ModuleList(\n",
       "      (0-35): 36 x Qwen3DecoderLayer(\n",
       "        (self_attn): Qwen3Attention(\n",
       "          (q_proj): Linear(in_features=2560, out_features=4096, bias=False)\n",
       "          (k_proj): Linear(in_features=2560, out_features=1024, bias=False)\n",
       "          (v_proj): Linear(in_features=2560, out_features=1024, bias=False)\n",
       "          (o_proj): Linear(in_features=4096, out_features=2560, bias=False)\n",
       "          (q_norm): Qwen3RMSNorm((128,), eps=1e-06)\n",
       "          (k_norm): Qwen3RMSNorm((128,), eps=1e-06)\n",
       "        )\n",
       "        (mlp): Qwen3MLP(\n",
       "          (gate_proj): Linear(in_features=2560, out_features=9728, bias=False)\n",
       "          (up_proj): Linear(in_features=2560, out_features=9728, bias=False)\n",
       "          (down_proj): Linear(in_features=9728, out_features=2560, bias=False)\n",
       "          (act_fn): SiLU()\n",
       "        )\n",
       "        (input_layernorm): Qwen3RMSNorm((2560,), eps=1e-06)\n",
       "        (post_attention_layernorm): Qwen3RMSNorm((2560,), eps=1e-06)\n",
       "      )\n",
       "    )\n",
       "    (norm): Qwen3RMSNorm((2560,), eps=1e-06)\n",
       "    (rotary_emb): Qwen3RotaryEmbedding()\n",
       "  )\n",
       "  (lm_head): Linear(in_features=2560, out_features=151936, bias=False)\n",
       ")"
      ]
     },
     "execution_count": 2,
     "metadata": {},
     "output_type": "execute_result"
    }
   ],
   "source": [
    "model.to(\"cuda\")"
   ]
  },
  {
   "cell_type": "code",
   "execution_count": null,
   "id": "5c6cc442",
   "metadata": {},
   "outputs": [],
   "source": [
    "sentence = \"<think>\\nOkay, let's try to figure out this problem. So, Maureen is tracking her mean quiz scores. The problem says that if she scores an 11 on the next quiz, her mean will increase by 1. Also, if she scores 11 on each of the next three quizzes, her mean will increase by 2. We need to find her current mean. Hmm, let's break this down step by step.\\n\\nFirst, let me recall that the mean is the total sum of all scores divided by the number of quizzes. Let me denote her current mean as m, and the number of quizzes she has taken so far as n. Therefore, the total sum of her current scores is n * m.\\n\\nNow, let's consider the first scenario: if she scores an 11 on the next quiz, her mean increases by 1. So, after taking one more quiz, the total number of quizzes becomes n + 1, and the total sum becomes n * m + 11. The new mean would be (n * m + 11) / (n + 1). According to the problem, this new mean is equal to her current mean plus 1. So, we can write the equation:\\n\\n(n * m + 11) / (n + 1) = m + 1.\\n\\nLet me simplify this equation. Multiply both sides by (n + 1):\\n\\nn * m + 11 = (m + 1)(n + 1)\\n\\nExpanding the right side:\\n\\nn * m + 11 = m * n + m + n + 1\\n\\nSubtract n * m from both sides:\\n\\n11 = m + n + 1\\n\\nSo, m + n = 10. Let me note that down as equation (1): m + n = 10.\\n\\nNow, moving on to the second scenario: if she scores 11 on each of the next three quizzes, her mean increases by 2. So, after three more quizzes, the total number of quizzes is n + 3, and the total sum is n * m + 11 * 3 = n * m + 33. The new mean is (n * m + 33) / (n + 3). According to the problem, this is equal to her current mean plus 2. Therefore:\\n\\n(n * m + 33) / (n + 3) = m + 2.\\n\\nAgain, multiply both sides by (n + 3):\\n\\nn * m + 33 = (m + 2)(n + 3)\\n\\nExpanding the right side:\\n\\nn * m + 33 = m * n + 3m + 2n + 6\\n\\nSubtract n * m from both sides:\\n\\n33 = 3m + 2n + 6\\n\\nSimplify:\\n\\n33 - 6 = 3m + 2n => 27 = 3m + 2n. Let me note this as equation (2): 3m + 2n = 27.\\n\\nNow, we have two equations:\\n\\n1) m + n = 10\\n\\n2) 3m + 2n = 27\\n\\nWe can solve these equations simultaneously. Let me solve equation (1) for n: n = 10 - m. Substitute this into equation (2):\\n\\n3m + 2*(10 - m) = 27\\n\\nSimplify:\\n\\n3m + 20 - 2m = 27 => m + 20 = 27 => m = 7.\\n\\nSo, the current mean is 7. Let me check if this is correct.\\n\\nIf m = 7, then n = 10 - 7 = 3. So, she has taken 3 quizzes so far, with a total of 21 points (3*7). \\n\\nFirst scenario: adding an 11. Total becomes 21 + 11 = 32, over 4 quizzes. 32 / 4 = 8, which is 7 + 1. Correct.\\n\\nSecond scenario: adding three 11s. Total becomes 21 + 33 = 54, over 6 quizzes. 54 / 6 = 9, which is 7 + 2. Correct.\\n\\nSo, the answer is 7. Therefore, the mean of her quiz scores currently is 7.\\n\\n**Final Answer**\\nThe mean of her quiz scores currently is \\\\boxed{7}.\\n</think>\\n\\nTo determine Maureen's current mean quiz score, we analyze the two given conditions:\\n\\n---\\n\\n### **First Condition:**\\n\\n- If Maureen scores an 11 on the next quiz, her mean increases by 1.\\n- Let her current mean be $ m $, and the number of quizzes taken so far be $ n $.\\n- After one more quiz, the new mean is:\\n\\n$$\\n\\\\frac{nm + 11}{n + 1} = m + 1\\n$$\\n\\nSolving this yields:\\n\\n$$\\nm + n = 10 \\\\quad \\\\text{(Equation 1)}\\n$$\\n\\n---\\n\\n### **Second Condition:**\\n\\n- If she scores 11 on each of the next three quizzes, her mean increases by 2.\\n- The new mean is:\\n\\n$$\\n\\\\frac{nm + 33}{n + 3} = m + 2\\n$$\\n\\nSolving this yields:\\n\\n$$\\n3m + 2n = 27 \\\\quad \\\\text{(Equation 2)}\\n$$\\n\\n---\\n\\n### **Solving the System of Equations:**\\n\\nFrom Equation 1:  \\n$$\\nn = 10 - m\\n$$\\n\\nSubstitute into Equation 2:\\n\\n$$\\n3m + 2(10 - m) = 27 \\\\Rightarrow m = 7\\n$$\\n\\n---\\n\\n### **Verification:**\\n\\n- $ n = 10 - 7 = 3 $\\n- Total score: $ 3 \\\\times 7 = 21 $\\n- After one 11: $ \\\\frac{21 + 11}{4} = 8 $, which is 1 more than 7.\\n- After three 11s: $ \\\\frac{21 + 33}{6} = 9 $, which is 2 more than 7.\\n\\nBoth conditions are satisfied.\\n\\n---\\n\\n### **Final Answer**\\n\\n$$\\n\\\\boxed{7}\\n$$\""
   ]
  },
  {
   "cell_type": "code",
   "execution_count": 21,
   "id": "1c3b0513",
   "metadata": {},
   "outputs": [],
   "source": [
    "input_tokenized = tokenizer(sentence, return_tensors=\"pt\").to(\"cuda\")\n"
   ]
  },
  {
   "cell_type": "code",
   "execution_count": 5,
   "id": "39756ff6",
   "metadata": {},
   "outputs": [],
   "source": [
    "import torch\n",
    "with torch.no_grad():\n",
    "    output = model(**input_tokenized, output_attentions=True)\n"
   ]
  },
  {
   "cell_type": "code",
   "execution_count": null,
   "id": "891f57e4",
   "metadata": {},
   "outputs": [
    {
     "data": {
      "text/plain": [
       "torch.Size([1, 32, 1362, 1362])"
      ]
     },
     "execution_count": 14,
     "metadata": {},
     "output_type": "execute_result"
    }
   ],
   "source": [
    "output.attentions[0].shape # (batch_size, num_heads, sequence_length, sequence_length)"
   ]
  },
  {
   "cell_type": "code",
   "execution_count": 22,
   "id": "38552645",
   "metadata": {},
   "outputs": [
    {
     "data": {
      "text/plain": [
       "'</think>'"
      ]
     },
     "execution_count": 22,
     "metadata": {},
     "output_type": "execute_result"
    }
   ],
   "source": [
    "tokenizer.decode(input_tokenized['input_ids'][0][-1])"
   ]
  },
  {
   "cell_type": "code",
   "execution_count": 24,
   "id": "812b1cbc",
   "metadata": {},
   "outputs": [
    {
     "name": "stdout",
     "output_type": "stream",
     "text": [
      "Step 1: Okay, let's try to figure out this problem.\n",
      "\n",
      "Step 2: So, Maureen is tracking her mean quiz scores. The problem says that if she scores an 11 on the next quiz, her mean will increase by 1. Also, if she scores 11 on each of the next three quizzes, her mean will increase by 2. We need to find her current mean.\n",
      "\n",
      "Step 3: Hmm, let's break this down step by step.\n",
      "\n",
      "Step 4: First, let me recall that the mean is the total sum of all scores divided by the number of quizzes.\n",
      "\n",
      "Step 5: Let me denote her current mean as m, and the number of quizzes she has taken so far as n.\n",
      "\n",
      "Step 6: Therefore, the total sum of her current scores is n * m.\n",
      "\n",
      "Step 7: Now, let's consider the first scenario: if she scores an 11 on the next quiz, her mean increases by 1.\n",
      "\n",
      "Step 8: So, after taking one more quiz, the total number of quizzes becomes n + 1, and the total sum becomes n * m + 11. The new mean would be (n * m + 11) / (n + 1). According to the problem, this new mean is equal to her current mean plus 1.\n",
      "\n",
      "Step 9: So, we can write the equation:\n",
      "\n",
      "(n * m + 11) / (n + 1) = m + 1.\n",
      "\n",
      "Step 10: Let me simplify this equation. Multiply both sides by (n + 1):\n",
      "\n",
      "n * m + 11 = (m + 1)(n + 1)\n",
      "\n",
      "Expanding the right side:\n",
      "\n",
      "n * m + 11 = m * n + m + n + 1\n",
      "\n",
      "Subtract n * m from both sides:\n",
      "\n",
      "11 = m + n + 1\n",
      "\n",
      "Step 11: So, m + n = 10.\n",
      "\n",
      "Step 12: Let me note that down as equation (1): m + n = 10.\n",
      "\n",
      "Step 13: Now, moving on to the second scenario: if she scores 11 on each of the next three quizzes, her mean increases by 2.\n",
      "\n",
      "Step 14: So, after three more quizzes, the total number of quizzes is n + 3, and the total sum is n * m + 11 * 3 = n * m + 33. The new mean is (n * m + 33) / (n + 3). According to the problem, this is equal to her current mean plus 2.\n",
      "\n",
      "Step 15: Therefore:\n",
      "\n",
      "(n * m + 33) / (n + 3) = m + 2.\n",
      "\n",
      "Again, multiply both sides by (n + 3):\n",
      "\n",
      "n * m + 33 = (m + 2)(n + 3)\n",
      "\n",
      "Expanding the right side:\n",
      "\n",
      "n * m + 33 = m * n + 3m + 2n + 6\n",
      "\n",
      "Subtract n * m from both sides:\n",
      "\n",
      "33 = 3m + 2n + 6\n",
      "\n",
      "Simplify:\n",
      "\n",
      "33 - 6 = 3m + 2n => 27 = 3m + 2n.\n",
      "\n",
      "Step 16: Let me note this as equation (2): 3m + 2n = 27.\n",
      "\n",
      "Step 17: Now, we have two equations:\n",
      "\n",
      "1) m + n = 10\n",
      "\n",
      "2) 3m + 2n = 27\n",
      "\n",
      "We can solve these equations simultaneously.\n",
      "\n",
      "Step 18: Let me solve equation (1) for n: n = 10 - m. Substitute this into equation (2):\n",
      "\n",
      "3m + 2*(10 - m) = 27\n",
      "\n",
      "Simplify:\n",
      "\n",
      "3m + 20 - 2m = 27 => m + 20 = 27 => m = 7.\n",
      "\n",
      "Step 19: So, the current mean is 7.\n",
      "\n",
      "Step 20: Let me check if this is correct.\n",
      "\n",
      "If m = 7, then n = 10 - 7 = 3.\n",
      "\n",
      "Step 21: So, she has taken 3 quizzes so far, with a total of 21 points (3*7).\n",
      "\n",
      "Step 22: First scenario: adding an 11. Total becomes 21 + 11 = 32, over 4 quizzes. 32 / 4 = 8, which is 7 + 1.\n",
      "\n",
      "Step 23: Correct.\n",
      "\n",
      "Second scenario: adding three 11s. Total becomes 21 + 33 = 54, over 6 quizzes. 54 / 6 = 9, which is 7 + 2.\n",
      "\n",
      "Step 24: Correct.\n",
      "\n",
      "Step 25: So, the answer is 7.\n",
      "\n",
      "Step 26: Therefore, the mean of her quiz scores currently is 7.\n",
      "\n",
      "**Final Answer**\n",
      "The mean of her quiz scores currently is \\boxed{7}.\n",
      "\n"
     ]
    }
   ],
   "source": [
    "import re\n",
    "\n",
    "def split_by_tokens(reasoning_chain, split_tokens):\n",
    "    # Sort tokens by length (longest first) to avoid substring confusion\n",
    "    split_tokens = sorted(split_tokens, key=len, reverse=True)\n",
    "    # Create a regex pattern to match any token, with word boundaries if applicable\n",
    "    token_pattern = r'(' + '|'.join([re.escape(token) for token in split_tokens]) + r')'\n",
    "    \n",
    "    # Find all the split positions\n",
    "    matches = list(re.finditer(token_pattern, reasoning_chain))\n",
    "    if not matches:\n",
    "        return [reasoning_chain]  # No tokens present\n",
    "\n",
    "    steps = []\n",
    "    prev_end = 0\n",
    "    for match in matches:\n",
    "        start = match.start()\n",
    "        # Gather the section before this token (if any)\n",
    "        if start > prev_end:\n",
    "            section = reasoning_chain[prev_end:start].strip()\n",
    "            if section:\n",
    "                steps.append(section)\n",
    "        # Gather the token and everything after it, until the next token (done in next iteration)\n",
    "        prev_end = start\n",
    "\n",
    "    # After the last match, add the last section\n",
    "    last_section = reasoning_chain[matches[-1].start():].strip()\n",
    "    if last_section:\n",
    "        steps.append(last_section)\n",
    "\n",
    "    return steps\n",
    "\n",
    "# Example usage:\n",
    "split_tokens = [\n",
    "    \"Wait\", \"Alternatively\", \"Another angle\", \"Another approach\", \"But wait\", \"Hold on\", \"Hmm\", \"Maybe\",\n",
    "    \"Looking back\", \"Okay\", \"Let me\", \"First\", \"Then\", \"Alright\", \"Compute\", \"Correct\", \"Good\", \"Got it\",\n",
    "    \"I don’t see any errors\", \"I think\", \"Let me double-check\", \"Let’s see\", \"Now\", \"Remember\", \"Seems solid\",\n",
    "    \"Similarly\", \"So\", \"Starting\", \"That’s correct\", \"That seems right\", \"Therefore\", \"Thus\"\n",
    "]\n",
    "\n",
    "reasoning_chain = '''\n",
    "\\nOkay, let's try to figure out this problem. So, Maureen is tracking her mean quiz scores. The problem says that if she scores an 11 on the next quiz, her mean will increase by 1. Also, if she scores 11 on each of the next three quizzes, her mean will increase by 2. We need to find her current mean. Hmm, let's break this down step by step.\\n\\nFirst, let me recall that the mean is the total sum of all scores divided by the number of quizzes. Let me denote her current mean as m, and the number of quizzes she has taken so far as n. Therefore, the total sum of her current scores is n * m.\\n\\nNow, let's consider the first scenario: if she scores an 11 on the next quiz, her mean increases by 1. So, after taking one more quiz, the total number of quizzes becomes n + 1, and the total sum becomes n * m + 11. The new mean would be (n * m + 11) / (n + 1). According to the problem, this new mean is equal to her current mean plus 1. So, we can write the equation:\\n\\n(n * m + 11) / (n + 1) = m + 1.\\n\\nLet me simplify this equation. Multiply both sides by (n + 1):\\n\\nn * m + 11 = (m + 1)(n + 1)\\n\\nExpanding the right side:\\n\\nn * m + 11 = m * n + m + n + 1\\n\\nSubtract n * m from both sides:\\n\\n11 = m + n + 1\\n\\nSo, m + n = 10. Let me note that down as equation (1): m + n = 10.\\n\\nNow, moving on to the second scenario: if she scores 11 on each of the next three quizzes, her mean increases by 2. So, after three more quizzes, the total number of quizzes is n + 3, and the total sum is n * m + 11 * 3 = n * m + 33. The new mean is (n * m + 33) / (n + 3). According to the problem, this is equal to her current mean plus 2. Therefore:\\n\\n(n * m + 33) / (n + 3) = m + 2.\\n\\nAgain, multiply both sides by (n + 3):\\n\\nn * m + 33 = (m + 2)(n + 3)\\n\\nExpanding the right side:\\n\\nn * m + 33 = m * n + 3m + 2n + 6\\n\\nSubtract n * m from both sides:\\n\\n33 = 3m + 2n + 6\\n\\nSimplify:\\n\\n33 - 6 = 3m + 2n => 27 = 3m + 2n. Let me note this as equation (2): 3m + 2n = 27.\\n\\nNow, we have two equations:\\n\\n1) m + n = 10\\n\\n2) 3m + 2n = 27\\n\\nWe can solve these equations simultaneously. Let me solve equation (1) for n: n = 10 - m. Substitute this into equation (2):\\n\\n3m + 2*(10 - m) = 27\\n\\nSimplify:\\n\\n3m + 20 - 2m = 27 => m + 20 = 27 => m = 7.\\n\\nSo, the current mean is 7. Let me check if this is correct.\\n\\nIf m = 7, then n = 10 - 7 = 3. So, she has taken 3 quizzes so far, with a total of 21 points (3*7). \\n\\nFirst scenario: adding an 11. Total becomes 21 + 11 = 32, over 4 quizzes. 32 / 4 = 8, which is 7 + 1. Correct.\\n\\nSecond scenario: adding three 11s. Total becomes 21 + 33 = 54, over 6 quizzes. 54 / 6 = 9, which is 7 + 2. Correct.\\n\\nSo, the answer is 7. Therefore, the mean of her quiz scores currently is 7.\\n\\n**Final Answer**\\nThe mean of her quiz scores currently is \\\\boxed{7}.\\n\n",
    "'''\n",
    "\n",
    "mini_steps = split_by_tokens(reasoning_chain, split_tokens)\n",
    "for i, step in enumerate(mini_steps, start=1):\n",
    "    print(f\"Step {i}: {step}\\n\")\n"
   ]
  },
  {
   "cell_type": "code",
   "execution_count": 25,
   "id": "ac96bebe",
   "metadata": {},
   "outputs": [
    {
     "data": {
      "text/plain": [
       "26"
      ]
     },
     "execution_count": 25,
     "metadata": {},
     "output_type": "execute_result"
    }
   ],
   "source": [
    "len(mini_steps)"
   ]
  },
  {
   "cell_type": "code",
   "execution_count": null,
   "id": "4ce336b4",
   "metadata": {},
   "outputs": [],
   "source": []
  }
 ],
 "metadata": {
  "kernelspec": {
   "display_name": "venv",
   "language": "python",
   "name": "python3"
  },
  "language_info": {
   "codemirror_mode": {
    "name": "ipython",
    "version": 3
   },
   "file_extension": ".py",
   "mimetype": "text/x-python",
   "name": "python",
   "nbconvert_exporter": "python",
   "pygments_lexer": "ipython3",
   "version": "3.12.3"
  }
 },
 "nbformat": 4,
 "nbformat_minor": 5
}
