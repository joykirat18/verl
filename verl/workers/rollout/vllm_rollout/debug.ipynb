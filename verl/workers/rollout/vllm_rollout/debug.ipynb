{
 "cells": [
  {
   "cell_type": "code",
   "execution_count": 1,
   "id": "de4fb45e",
   "metadata": {},
   "outputs": [],
   "source": [
    "from transformers import AutoTokenizer"
   ]
  },
  {
   "cell_type": "code",
   "execution_count": 2,
   "id": "377fe8dd",
   "metadata": {},
   "outputs": [],
   "source": [
    "tokenizer = AutoTokenizer.from_pretrained(\"Qwen/Qwen3-4B\", trust_remote_code=True)"
   ]
  },
  {
   "cell_type": "code",
   "execution_count": 5,
   "id": "bfc7fc4a",
   "metadata": {},
   "outputs": [
    {
     "name": "stdout",
     "output_type": "stream",
     "text": [
      "Eviction percentage: 0.0\n",
      "Uniformity score: 1.0\n",
      "len of reasoning steps: 1\n",
      "First reasoning step: ['The', 'Ġanswer', 'Ġis', 'Ġ', '1', '.']\n",
      "Length of new reasoning steps: 1\n"
     ]
    }
   ],
   "source": [
    "from redundant_token_eviction_confidence import redundant_token_eviction\n",
    "\n",
    "reasoning_chain = \"The answer is 1.\"\n",
    "confidence_scores = [0.9, 0.8, 0.7, 0.6, 0.5, 0.4]\n",
    "tokenizer = AutoTokenizer.from_pretrained(\"Qwen/Qwen3-4B\")\n",
    "input_ids = tokenizer.encode(reasoning_chain, return_tensors=\"pt\")[0]\n",
    "\n",
    "steps_to_evict, new_reasoning_chain = redundant_token_eviction(\n",
    "    reasoning_chain=reasoning_chain,\n",
    "    confidence_scores=confidence_scores,\n",
    "    tokenizer=tokenizer,\n",
    "    input_ids=input_ids)"
   ]
  },
  {
   "cell_type": "code",
   "execution_count": 6,
   "id": "11e0359d",
   "metadata": {},
   "outputs": [
    {
     "data": {
      "text/plain": [
       "'The answer is 1.'"
      ]
     },
     "execution_count": 6,
     "metadata": {},
     "output_type": "execute_result"
    }
   ],
   "source": [
    "new_reasoning_chain"
   ]
  },
  {
   "cell_type": "code",
   "execution_count": null,
   "id": "5cf31579",
   "metadata": {},
   "outputs": [],
   "source": []
  }
 ],
 "metadata": {
  "kernelspec": {
   "display_name": "venv",
   "language": "python",
   "name": "python3"
  },
  "language_info": {
   "codemirror_mode": {
    "name": "ipython",
    "version": 3
   },
   "file_extension": ".py",
   "mimetype": "text/x-python",
   "name": "python",
   "nbconvert_exporter": "python",
   "pygments_lexer": "ipython3",
   "version": "3.12.3"
  }
 },
 "nbformat": 4,
 "nbformat_minor": 5
}
