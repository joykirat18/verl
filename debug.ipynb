{
 "cells": [
  {
   "cell_type": "code",
   "execution_count": 8,
   "id": "2ddc1af8",
   "metadata": {},
   "outputs": [],
   "source": [
    "data_source = ['math-amc', 'math-aime', 'gpqa', 'mip-insufficient', 'mip-question', 'bbh', 'bbh_boolean_expressions', 'bbh_causal_judgement', 'bbh_date_understanding', 'bbh_disambiguation_qa', 'bbh_logical_deduction_five_objects', 'bbh_movie_recommendation', 'bbh_navigate', 'bbh_object_counting', 'bbh_snarks', 'underthink-bench', ]"
   ]
  },
  {
   "cell_type": "code",
   "execution_count": 2,
   "id": "5217088d",
   "metadata": {},
   "outputs": [
    {
     "name": "stdout",
     "output_type": "stream",
     "text": [
      "INFO 10-01 09:38:55 [importing.py:53] Triton module has been replaced with a placeholder.\n",
      "INFO 10-01 09:38:55 [__init__.py:239] Automatically detected platform cuda.\n"
     ]
    }
   ],
   "source": [
    "import os\n",
    "\n",
    "os.environ['HF_HOME'] = '/nas-ssd2/joykirat/.cache/huggingface'\n",
    "os.environ['CUDA_VISIBLE_DEVICES'] = '7'\n",
    "from transformers import AutoTokenizer, AutoModelForCausalLM\n",
    "from vllm import LLM\n",
    "\n",
    "tokenizer = AutoTokenizer.from_pretrained(\"Qwen/Qwen3-4B\")\n",
    "# Qwen/Qwen3-4B\n",
    "# deepseek-ai/DeepSeek-R1-Distill-Llama-8B\n",
    "# deepseek-ai/DeepSeek-R1-Distill-Qwen-7B\n",
    "# model = LLM(model=\"Qwen/Qwen3-4B\", gpu_memory_utilization=0.95, tensor_parallel_size=1, task=\"embed\")\n",
    "\n",
    "\n",
    "\n"
   ]
  },
  {
   "cell_type": "code",
   "execution_count": 1,
   "id": "739a2ddb",
   "metadata": {},
   "outputs": [],
   "source": [
    "import json\n",
    "data = []\n",
    "with open('/nas-ssd2/joykirat/code/verl-fork/verl/TTS_attention/rollouts.jsonl', 'r') as f:\n",
    "    for line in f:\n",
    "        data.append(json.loads(line))\n",
    "        "
   ]
  },
  {
   "cell_type": "code",
   "execution_count": 3,
   "id": "ead5a0ce",
   "metadata": {},
   "outputs": [
    {
     "name": "stdout",
     "output_type": "stream",
     "text": [
      "math-amc 0.636144578313253 415\n",
      "gpqa 0.3715736040609137 985\n",
      "math-aime 0.24269662921348314 445\n"
     ]
    }
   ],
   "source": [
    "import numpy as np\n",
    "\n",
    "accuracy_by_source = {}\n",
    "for line in data:\n",
    "    if line['data_source'] not in accuracy_by_source:\n",
    "        if 'bbh_' in line['data_source']:\n",
    "            line['data_source'] = 'bbh'\n",
    "        accuracy_by_source[line['data_source']] = []\n",
    "    accuracy_by_source[line['data_source']].append(line['final_reward'])\n",
    "    \n",
    "for source in accuracy_by_source:\n",
    "    mean_accuracy = np.mean(accuracy_by_source[source])\n",
    "    print(source, mean_accuracy, len(accuracy_by_source[source]))\n",
    "    \n",
    "    "
   ]
  },
  {
   "cell_type": "code",
   "execution_count": 4,
   "id": "cada0243",
   "metadata": {},
   "outputs": [],
   "source": [
    "# import numpy as np\n",
    "# response_length_list = {}\n",
    "# from tqdm import tqdm\n",
    "# for line in tqdm(data):\n",
    "#     if line['data_source'] not in response_length_list:\n",
    "#         response_length_list[line['data_source']] = []\n",
    "#     response_length_list[line['data_source']].append(len(tokenizer.encode(line['response'])))\n",
    "# for source in response_length_list:\n",
    "#     mean_response_length = np.mean(response_length_list[source])\n",
    "#     print(source, mean_response_length)\n",
    "            "
   ]
  },
  {
   "cell_type": "code",
   "execution_count": 29,
   "id": "c78bcf68",
   "metadata": {},
   "outputs": [],
   "source": [
    "import re\n",
    "from math_verify.errors import TimeoutException\n",
    "from math_verify.metric import math_metric\n",
    "from math_verify.parser import ExprExtractionConfig, LatexExtractionConfig\n",
    "\n",
    "def clean_prediction(model_output: str) -> str:\n",
    "    \"\"\"\n",
    "    Try to normalize model outputs like 'Answer: C. Cotton' into '\\boxed{C}'.\n",
    "    \"\"\"\n",
    "\n",
    "    # If boxed answer is already there, keep it\n",
    "    boxed_match = re.search(r'\\\\boxed\\{([A-Za-z0-9]+)\\}', model_output)\n",
    "    if boxed_match:\n",
    "        return f\"\\\\boxed{{{boxed_match.group(1)}}}\"\n",
    "\n",
    "    # Otherwise, try to find a single-letter multiple-choice answer\n",
    "    choice_match = re.search(r'\\b([A-E])\\b', model_output)\n",
    "    if choice_match:\n",
    "        return f\"\\\\boxed{{{choice_match.group(1)}}}\"\n",
    "\n",
    "    # If nothing found, just return as-is\n",
    "    return model_output.strip()\n",
    "\n",
    "def getRawCorrectness(model_output: str, ground_truth: str) -> float:\n",
    "    verify_func = math_metric(\n",
    "        gold_extraction_target=(LatexExtractionConfig(),),\n",
    "        pred_extraction_target=(ExprExtractionConfig(), LatexExtractionConfig()),\n",
    "    )\n",
    "\n",
    "    ret_score = 0.0\n",
    "    ground_truth_boxed = f\"\\\\boxed{{{ground_truth}}}\"\n",
    "\n",
    "    try:\n",
    "        pred_clean = clean_prediction(model_output)\n",
    "        ret_score, _ = verify_func([ground_truth_boxed], [pred_clean])\n",
    "    except Exception:\n",
    "        pass\n",
    "\n",
    "    return ret_score\n",
    "\n",
    "def getCorrectness(model_output: str, ground_truth: str) -> float:\n",
    "    if '</think>' in model_output:\n",
    "        model_output = model_output.split('</think>')[-1]\n",
    "\n",
    "    verify_func = math_metric(\n",
    "        gold_extraction_target=(LatexExtractionConfig(),),\n",
    "        pred_extraction_target=(ExprExtractionConfig(), LatexExtractionConfig()),\n",
    "    )\n",
    "\n",
    "    ret_score = 0.0\n",
    "    ground_truth_boxed = f\"\\\\boxed{{{ground_truth}}}\"\n",
    "\n",
    "    try:\n",
    "        pred_clean = clean_prediction(model_output)\n",
    "        ret_score, _ = verify_func([ground_truth_boxed], [pred_clean])\n",
    "    except Exception:\n",
    "        pass\n",
    "\n",
    "    return ret_score\n"
   ]
  },
  {
   "cell_type": "code",
   "execution_count": 30,
   "id": "9444a12d",
   "metadata": {},
   "outputs": [
    {
     "data": {
      "text/plain": [
       "{'data_source': 'math-aime',\n",
       " 'prompt': \"user\\nLet $\\\\triangle ABC$ be an isosceles triangle with $\\\\angle A = 90^\\\\circ.$ There exists a point $P$ inside $\\\\triangle ABC$ such that $\\\\angle PAB = \\\\angle PBC = \\\\angle PCA$ and $AP = 10.$ Find the area of $\\\\triangle ABC.$ Let's think step by step and output the final answer within \\\\boxed{}.\\nassistant\\n\",\n",
       " 'response': \"<think>\\nOkay, so I need to find the area of triangle ABC, which is an isosceles right triangle with a right angle at A. There's a point P inside the triangle such that the angles PAB, PBC, and PCA are all equal. Also, AP is given as 10 units. Hmm, okay, let me try to visualize this.\\n\\nFirst, let me sketch the triangle. Since it's an isosceles right triangle with the right angle at A, sides AB and AC must be equal in length. Let me denote AB = AC = x, and BC would be the hypotenuse, so its length is x√2. The area of the triangle would then be (AB * AC)/2 = (x^2)/2. So if I can find x, I can compute the area.\\n\\nNow, there's a point P inside the triangle such that angle PAB = angle PBC = angle PCA. Let me denote this common angle as θ. So, ∠PAB = θ, ∠PBC = θ, ∠PCA = θ.\\n\\nI need to relate these angles to the sides of the triangle. Maybe coordinate geometry can help here? Let me try to assign coordinates to the triangle.\\n\\nLet me place point A at the origin (0, 0). Since it's an isosceles right triangle with legs AB and AC, let me let AB be along the x-axis and AC along the y-axis. So, point B is at (x, 0) and point C is at (0, x). Then, point P is somewhere inside the triangle.\\n\\nNow, let me denote the coordinates of point P as (p, q). Then, I can express the angles θ in terms of coordinates.\\n\\nFirst, angle PAB is the angle between AP and AB. Since AB is along the x-axis, the angle between AP and the x-axis is θ. The slope of AP is q/p, so tan(θ) = q/p. Therefore, θ = arctan(q/p). \\n\\nNext, angle PBC is the angle between BP and BC. Hmm, this might be a bit more complex. Let me think. Point B is at (x, 0), and point C is at (0, x). The line BC goes from (x, 0) to (0, x), so its slope is (x - 0)/(0 - x) = -1. Therefore, the line BC is y = -x + x, which simplifies to y = -x + x? Wait, no. Wait, if we plug in point B (x, 0) into the equation, then y = -x + c. When x = x, y = 0, so 0 = -x + c => c = x. Therefore, equation of BC is y = -x + x? Wait, that can't be right. Wait, if point B is (x, 0) and point C is (0, x), then the line BC connects (x,0) to (0,x). The slope is (x - 0)/(0 - x) = -1, so the equation is y - 0 = -1*(x - x), which is y = -x + x? Wait, that seems like y = 0? Wait, that can't be. Let me recast it properly.\\n\\nLet me use the two-point formula. The line through (x, 0) and (0, x). The slope is (x - 0)/(0 - x) = -1. So, the equation is y - 0 = -1*(x - x), which is y = -x + x? Wait, that seems confusing. Wait, the standard formula is y - y1 = m(x - x1). So, using point B (x, 0): y - 0 = -1*(x - x) => y = -1*(x - x) => y = 0? That can't be. Wait, no, I think I confused variables here. Let me use different notation.\\n\\nLet me denote the coordinates of point B as (a, 0) and point C as (0, a), so that the hypotenuse BC is from (a, 0) to (0, a). Then the slope is (a - 0)/(0 - a) = -1. Therefore, the equation of line BC is y - 0 = -1*(x - a) => y = -x + a. So yes, the equation is y = -x + a. Therefore, for any point on BC, y + x = a.\\n\\nNow, angle PBC is the angle between BP and BC. So, we need to find the angle between BP and BC. Let me think about how to compute that. Alternatively, maybe I can use vectors or coordinate geometry to find tan(theta) for angle PBC.\\n\\nAlternatively, maybe using trigonometric identities or coordinate relations. Since angle PBC = theta, and angle PCA = theta as well.\\n\\nAlternatively, maybe using trigonometric Ceva's theorem? Since we have concurrent lines from the vertices with certain angles. Wait, Ceva's theorem is about concurrency of lines, but here we have angles. Maybe trigonometric Ceva's theorem applies here?\\n\\nYes, trigonometric Ceva's theorem states that for concurrent lines from the vertices of a triangle, the product of the sines of the angles is equal. Wait, let me recall the exact formula.\\n\\nTrigonometric Ceva's Theorem: If three cevians are drawn from the vertices of a triangle, making angles with the sides, then the cevians are concurrent if and only if\\n\\n[sin(angle1)/sin(angle2)] * [sin(angle3)/sin(angle4)] * [sin(angle5)/sin(angle6)] = 1.\\n\\nBut I need to recall the exact statement. Alternatively, for a point P inside triangle ABC, the cevians AP, BP, CP satisfy:\\n\\n[sin(∠PAB)/sin(∠PAC)] * [sin(∠PBC)/sin(∠PBA)] * [sin(∠PCA)/sin(∠PCB)] = 1.\\n\\nBut in our case, we have ∠PAB = ∠PBC = ∠PCA = θ. Let me denote the angles accordingly.\\n\\nLet me define:\\n\\nAt vertex A: ∠PAB = θ, and since triangle ABC is right-angled at A, the angle between AB and AC is 90 degrees. So, ∠PAC = 90° - θ.\\n\\nAt vertex B: ∠PBC = θ, and the angle between BA and BC is... Wait, angle at B in triangle ABC is 45°, since it's an isosceles right triangle. Wait, no: since ABC is isosceles right-angled at A, angles at B and C are each 45 degrees. So, at vertex B, angle ABC is 45°, and ∠PBC = θ. Therefore, the other angle formed at vertex B by the cevian BP would be ∠PBA = 45° - θ.\\n\\nSimilarly, at vertex C: ∠PCA = θ, and angle at C is 45°, so the other angle at vertex C formed by cevian CP would be ∠PCB = 45° - θ.\\n\\nTherefore, applying trigonometric Ceva's theorem:\\n\\n[sin(∠PAB)/sin(∠PAC)] * [sin(∠PBC)/sin(∠PBA)] * [sin(∠PCA)/sin(∠PCB)] = 1.\\n\\nSubstituting the known angles:\\n\\n[sin(θ)/sin(90° - θ)] * [sin(θ)/sin(45° - θ)] * [sin(θ)/sin(45° - θ)] = 1.\\n\\nSimplify:\\n\\n[sinθ / cosθ] * [sinθ / sin(45° - θ)]² = 1.\\n\\nBecause sin(90° - θ) = cosθ.\\n\\nTherefore:\\n\\ntanθ * [sin²θ / sin²(45° - θ)] = 1.\\n\\nSo, tanθ = [sin²(45° - θ)] / sin²θ.\\n\\nHmm, this seems complicated, but maybe we can solve for θ.\\n\\nAlternatively, perhaps there's another approach. But let me see if I can proceed with this equation.\\n\\nAlternatively, maybe we can let θ be some angle and try to find relations. But maybe I need to relate this with the given AP = 10.\\n\\nBut perhaps I need to relate coordinates. Let me try coordinate geometry again.\\n\\nLet me consider coordinates again with A(0,0), B(x, 0), C(0, x), P(p, q).\\n\\nGiven that angle PAB = θ. Since angle between AP and AB is θ, and AB is along x-axis, so tanθ = q/p.\\n\\nSimilarly, angle PBC = θ. Let me find tan(theta) for angle PBC.\\n\\nPoint B is at (x, 0). The line BP goes from (x, 0) to (p, q). The line BC is from (x, 0) to (0, x), which has slope -1 as before.\\n\\nSo, angle between BP and BC is θ. So, if I can find the angle between vectors BP and BC, that would be θ.\\n\\nAlternatively, the slope of BP is (q - 0)/(p - x) = q/(p - x). The slope of BC is -1, as before. The angle between two lines with slopes m1 and m2 is given by tan(angle) = |(m2 - m1)/(1 + m1*m2)|.\\n\\nSo, tan(theta) = |(m_BC - m_BP)/(1 + m_BC * m_BP)|.\\n\\nSo tan(theta) = |(-1 - [q/(p - x)]) / [1 + (-1)*(q/(p - x))] |.\\n\\nLet me compute this:\\n\\nLet me denote m1 = -1, m2 = q/(p - x). Then tan(theta) = |(m1 - m2)/(1 + m1*m2)| = |(-1 - q/(p - x)) / (1 - q/(p - x))|.\\n\\nSimplify numerator and denominator:\\n\\nNumerator: -1 - q/(p - x) = -(1 + q/(p - x)) = -( (p - x) + q ) / (p - x )\\n\\nDenominator: 1 - q/(p - x) = ( (p - x) - q ) / (p - x )\\n\\nTherefore tan(theta) = | [ - ( (p - x) + q ) / (p - x ) ] / [ ( (p - x) - q ) / (p - x ) ] | = | - ( (p - x) + q ) / ( (p - x) - q ) | = | ( (x - p) + q ) / ( (p - x) - q ) |.\\n\\nNote that (x - p) + q is the numerator, and denominator is (p - x - q) = - (x - p + q). Therefore, tan(theta) = | [ (x - p + q) ] / [ - (x - p + q) ] | = | -1 | = 1.\\n\\nWait, that's interesting. So tan(theta) = 1? But that would mean theta = 45 degrees? But that can't be, because if theta is 45 degrees, then angle PAB = 45 degrees, but in triangle ABC, angle at A is 90 degrees, so angle PAB = 45 degrees would mean that AP bisects angle A? But AP is given as 10, but if that's the case, maybe?\\n\\nWait, but according to this calculation, tan(theta) = 1, so theta is 45 degrees? But then, angle PBC = theta = 45 degrees. However, angle at B is 45 degrees, so angle PBC = 45 degrees would imply that point P is located such that BP is making 45 degrees with BC? Wait, but if angle PBC is 45 degrees, and angle ABC is 45 degrees, that would imply that point P lies on the angle bisector? Wait, maybe not. Wait, angle ABC is 45 degrees, and angle PBC is 45 degrees, meaning that P lies on the line that splits angle ABC into 45 degrees and 0? Wait, that would mean that P lies on BA? But P is inside the triangle, so that would only be possible if P is on BA, but then angle PAB would be something else. Wait, but if theta is 45 degrees, then angle PAB is 45 degrees. But angle at A is 90 degrees, so angle PAB = 45 degrees would mean that AP is making 45 degrees with AB, so AP would be along the angle bisector of angle A, which is the line y = x (if AB is x-axis and AC is y-axis). Wait, but if AP is along y = x, then P would be somewhere on that line. But if angle PBC is 45 degrees, then maybe?\\n\\nBut if theta is 45 degrees, then angle PCA is also 45 degrees. Let's check if that's possible.\\n\\nBut if angle PCA is 45 degrees, then at point C, angle between PC and CA is 45 degrees. Since angle at C is 45 degrees, then angle between PC and CB would be 45 - 45 = 0 degrees? Which would mean that PC is along CB? But that would place P on CB, but P is inside the triangle. If P is on CB, then angle PAB and angle PBC would be... but if P is on CB, then angle PAB is the angle between AP and AB. But if P is on CB, then AP would be a line from A to a point on CB. However, if angle PBC is 45 degrees, then since angle at B is 45 degrees, that would require that BP is along BC, but that would mean P is on BC. But then angle PBC would be zero? Wait, no. Wait, if P is on BC, then angle PBC is zero? Wait, no. Wait, angle PBC is the angle between BP and BC. If P is on BC, then BP is along BC, so angle between BP and BC is zero. But according to our previous calculation, tan(theta) = 1, so theta is 45 degrees, but if P is on BC, then theta would be zero. Contradiction. Therefore, there must be a mistake in my calculation.\\n\\nWait, so where did I go wrong? Let me check again.\\n\\nI said that tan(theta) for angle PBC is 1, leading to theta = 45 degrees. But that leads to inconsistency. Therefore, my calculation must be wrong.\\n\\nLet me re-examine the calculation of tan(theta) for angle PBC.\\n\\nWe have the formula for tan(theta) between two lines with slopes m1 and m2:\\n\\ntan(theta) = |(m2 - m1)/(1 + m1*m2)|.\\n\\nBut in our case, angle between BP and BC is theta. So, the lines are BP and BC. So m1 is the slope of BC, which is -1, and m2 is the slope of BP, which is (q - 0)/(p - x) = q/(p - x). Therefore, tan(theta) = |(m2 - m1)/(1 + m1*m2)| = |[ q/(p - x) - (-1) ] / [1 + (-1)*(q/(p - x)) ]| = | [ q/(p - x) + 1 ] / [1 - q/(p - x) ] |.\\n\\nThen, as before, numerator is [ (q + p - x ) / (p - x) ] and denominator is [ (p - x - q ) / (p - x) ].\\n\\nTherefore tan(theta) = | [ q + p - x ] / [ p - x - q ] | = | [ (p + q - x) / (p - x - q) ] | = | [ (p + q - x ) / -(x - p + q) ] | = | - (p + q - x ) / (x - p + q) | = | (x - p - q ) / (x - p + q ) |.\\n\\nWait, here's a mistake in my previous calculation. Earlier, I thought that numerator was (x - p + q) and denominator was (p - x - q), but actually, the numerator is (p + q - x) and denominator is (p - x - q) = -(x - p + q). Therefore tan(theta) is | (p + q - x) / (p - x - q) | = | (p + q - x) / [ - (x - p + q) ] | = | - (p + q - x) / (x - p + q) | = | (x - p - q) / (x - p + q) |. Wait, no:\\n\\nWait, p + q - x is equal to -(x - p - q). Wait, perhaps it's better to write as follows:\\n\\nLet me denote N = p + q - x and D = p - x - q. Then tan(theta) = |N/D|. But D = p - x - q = -(x + q - p) = -(x - p + q). Therefore tan(theta) = |N/D| = | (p + q - x) / -(x - p + q) | = | - (p + q - x) / (x - p + q) | = | (x - p - q) / (x - p + q) |. Wait, no. Let me check:\\n\\nWait, if N = p + q - x, D = p - x - q = -(x + q - p) = -(x - p + q). Therefore N/D = (p + q - x)/[-(x - p + q)] = -(p + q - x)/(x - p + q) = -( (x - p - q) ) / (x - p + q). Wait, no. Let me think:\\n\\nWait, (p + q - x) = -(x - p - q). Therefore, N/D = -(x - p - q)/[ -(x - p + q) ] = (x - p - q)/(x - p + q). Therefore tan(theta) = |(x - p - q)/(x - p + q)|.\\n\\nSo tan(theta) is equal to |(x - p - q)/(x - p + q)|. But since P is inside the triangle, coordinates p and q are positive, and x > p, x > q, and p + q < x? Wait, not necessarily. Wait, since P is inside triangle ABC, which has vertices at (0,0), (x,0), (0,x). Therefore, for P(p, q) to be inside, we need p > 0, q > 0, and p + q < x. Therefore, x - p - q is positive, and x - p + q is positive as well. Therefore, tan(theta) = (x - p - q)/(x - p + q).\\n\\nBut we also have from angle PAB that tan(theta) = q/p. Therefore, we have:\\n\\nq/p = (x - p - q)/(x - p + q).\\n\\nSo this is one equation.\\n\\nSimilarly, we also have angle PCA = theta. Let's try to get another equation from that.\\n\\nAngle PCA is the angle between PC and CA. Point C is at (0, x), and line CA is along the y-axis from C to A. The line PC connects point C(0, x) to P(p, q). So, the angle between PC and CA is theta.\\n\\nSince CA is along the negative y-axis from C, and PC is going to P(p, q). Let me compute tan(theta) for angle PCA.\\n\\nAlternatively, similar to before, we can use the slope of PC. The slope of PC is (q - x)/(p - 0) = (q - x)/p. The line CA is vertical (along y-axis). Therefore, the angle between PC and CA is the angle between PC and the vertical line. The slope of PC is (q - x)/p. Therefore, the angle theta between PC and the vertical can be found by tan(theta) = horizontal change / vertical change. Wait, if we consider the line PC, its slope is (q - x)/p. The angle between PC and the vertical (CA) can be calculated as follows.\\n\\nLet me think of the line PC making an angle phi with the horizontal axis. Then tan(phi) = slope of PC = (q - x)/p. Then the angle between PC and the vertical is 90° - phi. Therefore, tan(theta) = tan(90° - phi) = cot(phi) = 1/tan(phi) = p/(x - q). Therefore, tan(theta) = p/(x - q).\\n\\nBut angle PCA = theta, so tan(theta) = p/(x - q).\\n\\nBut we also have from angle PAB that tan(theta) = q/p. Therefore:\\n\\nq/p = p/(x - q).\\n\\nCross-multiplying:\\n\\nq(x - q) = p^2.\\n\\nWhich gives:\\n\\nqx - q^2 = p^2.\\n\\nSo that is our second equation.\\n\\nEarlier, from angle PBC, we had:\\n\\nq/p = (x - p - q)/(x - p + q).\\n\\nSo we have two equations:\\n\\n1) q(x - q) = p^2.\\n\\n2) q/p = (x - p - q)/(x - p + q).\\n\\nSo, now we need to solve these two equations along with the fact that AP = 10.\\n\\nAP is the distance from A(0,0) to P(p, q), which is sqrt(p^2 + q^2) = 10. Therefore, p^2 + q^2 = 100. So that is the third equation.\\n\\nSo now we have three equations:\\n\\n1) qx - q^2 = p^2.\\n\\n2) q/p = (x - p - q)/(x - p + q).\\n\\n3) p^2 + q^2 = 100.\\n\\nSo, maybe we can use equation 1 and 3 to eliminate variables.\\n\\nFrom equation 1: qx - q^2 = p^2.\\n\\nFrom equation 3: p^2 = 100 - q^2.\\n\\nTherefore, substituting into equation 1:\\n\\nqx - q^2 = 100 - q^2 => qx = 100 => x = 100/q.\\n\\nSo x is expressed in terms of q: x = 100/q.\\n\\nSo now, we can substitute x = 100/q into equation 2.\\n\\nEquation 2: q/p = (x - p - q)/(x - p + q).\\n\\nLet me denote that.\\n\\nLet me write equation 2 again with x = 100/q:\\n\\nq/p = [ (100/q - p - q) / (100/q - p + q) ].\\n\\nLet me simplify numerator and denominator:\\n\\nNumerator: (100/q - p - q) = (100 - pq - q^2)/q.\\n\\nDenominator: (100/q - p + q) = (100 - pq + q^2)/q.\\n\\nTherefore, the ratio becomes [ (100 - pq - q^2)/q ] / [ (100 - pq + q^2)/q ] = [100 - pq - q^2]/[100 - pq + q^2].\\n\\nTherefore, equation 2 becomes:\\n\\nq/p = [100 - pq - q^2]/[100 - pq + q^2].\\n\\nLet me denote pq as a variable? Maybe not. Let me denote pq = something.\\n\\nAlternatively, note that from equation 1: qx - q^2 = p^2, and x = 100/q, so:\\n\\nq*(100/q) - q^2 = p^2 => 100 - q^2 = p^2. Which is equation 3, so that's consistent.\\n\\nTherefore, we can use equation 3: p^2 + q^2 = 100. So we can express p^2 = 100 - q^2.\\n\\nBut in equation 2, we have:\\n\\nq/p = [100 - pq - q^2]/[100 - pq + q^2].\\n\\nLet me write 100 - pq - q^2 as 100 - q^2 - pq = p^2 - pq (since p^2 = 100 - q^2). Therefore:\\n\\nNumerator: p^2 - pq = p(p - q).\\n\\nSimilarly, denominator: 100 - pq + q^2 = p^2 + q^2 - pq = 100 - pq (since p^2 + q^2 = 100). Wait, wait:\\n\\nWait, 100 - pq + q^2 = (p^2 + q^2) - pq + q^2? Wait, no. Wait, original expression:\\n\\nDenominator: 100 - pq + q^2. Since p^2 + q^2 = 100, then 100 = p^2 + q^2, so denominator is (p^2 + q^2) - pq + q^2 = p^2 + 2q^2 - pq? Wait, no:\\n\\nWait, 100 - pq + q^2 = (p^2 + q^2) - pq + q^2? Wait no, that's not. Wait, 100 - pq + q^2 = p^2 + q^2 - pq + q^2? No, that would be p^2 + 2q^2 - pq.\\n\\nBut maybe this is not helpful. Let me think again.\\n\\nAlternatively, let me write the ratio:\\n\\n[100 - pq - q^2]/[100 - pq + q^2] = [ (p^2) - pq ] / [100 - pq + q^2 ].\\n\\nBut p^2 = 100 - q^2, so substituting:\\n\\nNumerator: (100 - q^2) - pq = 100 - q^2 - pq.\\n\\nDenominator: 100 - pq + q^2.\\n\\nSo the ratio is (100 - q^2 - pq)/(100 - pq + q^2). Which is the same as before.\\n\\nSo equation 2 is:\\n\\nq/p = (100 - q^2 - pq)/(100 - pq + q^2).\\n\\nLet me denote pq as k for simplicity. Let me set k = pq.\\n\\nThen, the equation becomes:\\n\\nq/p = (100 - q^2 - k)/(100 - k + q^2).\\n\\nBut k = pq, so:\\n\\nq/p = [100 - q^2 - pq]/[100 - pq + q^2].\\n\\nBut since k = pq, we can write:\\n\\nq/p = [100 - q^2 - k]/[100 - k + q^2].\\n\\nBut this still seems complicated. Maybe cross-multiplying:\\n\\nq/p = [100 - q^2 - pq]/[100 - pq + q^2]\\n\\nMultiply both sides by denominator:\\n\\nq/p * [100 - pq + q^2] = 100 - q^2 - pq.\\n\\nMultiply both sides by p to eliminate denominator:\\n\\nq [100 - pq + q^2] = p [100 - q^2 - pq].\\n\\nLet me expand both sides:\\n\\nLeft side: 100q - pq^2 + q^3.\\n\\nRight side: 100p - p q^2 - p^2 q.\\n\\nTherefore:\\n\\n100q - pq^2 + q^3 = 100p - p q^2 - p^2 q.\\n\\nNotice that -pq^2 appears on both sides, so they cancel out.\\n\\nThus:\\n\\n100q + q^3 = 100p - p^2 q.\\n\\nLet me bring all terms to left side:\\n\\n100q + q^3 - 100p + p^2 q = 0.\\n\\nFactor terms:\\n\\nGroup terms with q:\\n\\nq^3 + 100q + p^2 q - 100p = 0.\\n\\nFactor q from first three terms? Wait:\\n\\nq^3 + q*(100 + p^2) - 100p = 0.\\n\\nBut from equation 3, p^2 + q^2 = 100 => p^2 = 100 - q^2.\\n\\nSubstitute p^2 = 100 - q^2:\\n\\nq^3 + q*(100 + 100 - q^2) - 100p = 0.\\n\\nSimplify inside the parentheses:\\n\\n100 + 100 - q^2 = 200 - q^2.\\n\\nTherefore:\\n\\nq^3 + q*(200 - q^2) - 100p = 0.\\n\\nCompute q^3 + 200q - q^3 - 100p = 0.\\n\\nSimplify:\\n\\n200q - 100p = 0 => 200q = 100p => p = 2q.\\n\\nSo, we found that p = 2q.\\n\\nGreat! So p is twice q.\\n\\nNow, with p = 2q, and from equation 3: p^2 + q^2 = 100.\\n\\nSubstitute p = 2q:\\n\\n(2q)^2 + q^2 = 100 => 4q^2 + q^2 = 100 => 5q^2 = 100 => q^2 = 20 => q = sqrt(20) = 2√5.\\n\\nSince q is positive (as P is inside the triangle), q = 2√5, so p = 2q = 4√5.\\n\\nTherefore, coordinates of P are (4√5, 2√5).\\n\\nNow, recall from earlier that x = 100/q.\\n\\nSince q = 2√5, x = 100 / (2√5) = 50 / √5 = 10√5.\\n\\nTherefore, the legs AB and AC are of length x = 10√5. Therefore, the area of triangle ABC is (AB * AC)/2 = ( (10√5)^2 ) / 2 = (100 * 5)/2 = 500 / 2 = 250.\\n\\nWait, so the area is 250? Let me check if this is consistent with all the conditions.\\n\\nLet me verify the angles. First, check if angle PAB = angle PBC = angle PCA = theta.\\n\\nFirst, compute theta from tan(theta) = q/p = (2√5)/ (4√5) = 1/2. Therefore, theta = arctan(1/2). Let me check if angle PBC is also arctan(1/2).\\n\\nEarlier, we had tan(theta) for angle PBC is (x - p - q)/(x - p + q). Let me compute that with x = 10√5, p = 4√5, q = 2√5.\\n\\nCompute numerator: x - p - q = 10√5 - 4√5 - 2√5 = 4√5.\\n\\nDenominator: x - p + q = 10√5 - 4√5 + 2√5 = 8√5.\\n\\nTherefore tan(theta) = 4√5 / 8√5 = 0.5 = 1/2. Which matches tan(theta) = q/p = 1/2. So that's consistent.\\n\\nSimilarly, check angle PCA. Earlier, we had tan(theta) = p/(x - q) = 4√5 / (10√5 - 2√5) = 4√5 / 8√5 = 1/2. Which also matches. Therefore, all angles are equal to theta with tan(theta) = 1/2. Therefore, this seems correct.\\n\\nTherefore, the area of triangle ABC is 250. Therefore, the answer should be \\\\boxed{250}.\\n\\nBut wait, let me check if AP is indeed 10. AP is from (0,0) to (4√5, 2√5). The distance is sqrt( (4√5)^2 + (2√5)^2 ) = sqrt( 16*5 + 4*5 ) = sqrt( 80 + 20 ) = sqrt(100) = 10. Correct. So all conditions are satisfied.\\n\\nTherefore, the area is 250. Therefore, I think the answer is 250.\\n\\n**Final Answer**\\n\\\\boxed{250}\\n</think>\\n\\nTo determine the area of triangle $ \\\\triangle ABC $, we are given that it is an **isosceles right triangle** with the right angle at $ A $, and there exists a point $ P $ inside the triangle such that:\\n\\n- $ \\\\angle PAB = \\\\angle PBC = \\\\angle PCA = \\\\theta $\\n- $ AP = 10 $\\n\\n---\\n\\n### Step 1: Coordinate Setup\\n\\nWe place the triangle in the coordinate plane for convenience:\\n\\n- Let $ A = (0, 0) $\\n- Since the triangle is isosceles and right-angled at $ A $, let $ AB = AC = x $, so:\\n  - $ B = (x, 0) $\\n  - $ C = (0, x) $\\n- Let $ P = (p, q) $ be the point inside the triangle.\\n\\n---\\n\\n### Step 2: Use Given Point $ P $\\n\\nWe are told that $ AP = 10 $, so:\\n\\n$$\\nAP = \\\\sqrt{p^2 + q^2} = 10 \\\\Rightarrow p^2 + q^2 = 100 \\\\tag{1}\\n$$\\n\\n---\\n\\n### Step 3: Angle Relationships\\n\\nFrom the given, all three angles $ \\\\angle PAB $, $ \\\\angle PBC $, and $ \\\\angle PCA $ are equal, say $ \\\\theta $.\\n\\nLet’s calculate $ \\\\tan(\\\\theta) $ in two different ways using geometry and coordinate relationships.\\n\\n#### From $ \\\\angle PAB $\\n\\nSince $ AB $ lies on the x-axis, the angle $ \\\\angle PAB $ is the angle between $ \\\\vec{AP} $ and $ \\\\vec{AB} $, and thus:\\n\\n$$\\n\\\\tan(\\\\theta) = \\\\frac{q}{p} \\\\tag{2}\\n$$\\n\\n#### From $ \\\\angle PBC $\\n\\nThe line $ BC $ has slope $ -1 $, and line $ BP $ has slope $ \\\\frac{q}{p - x} $.\\n\\nUsing the angle between two lines with slopes $ m_1 $ and $ m_2 $, the tangent of the angle $ \\\\theta $ is:\\n\\n$$\\n\\\\tan(\\\\theta) = \\\\left| \\\\frac{m_2 - m_1}{1 + m_1 m_2} \\\\right| = \\\\left| \\\\frac{ \\\\frac{q}{p - x} + 1 }{ 1 - \\\\frac{q}{p - x} } \\\\right| = \\\\left| \\\\frac{x - p - q}{x - p + q} \\\\right| \\\\tag{3}\\n$$\\n\\nWe now equate equations (2) and (3):\\n\\n$$\\n\\\\frac{q}{p} = \\\\frac{x - p - q}{x - p + q} \\\\tag{4}\\n$$\\n\\n---\\n\\n### Step 4: Solve the System of Equations\\n\\nWe now have three equations:\\n\\n1. $ p^2 + q^2 = 100 $  (from $ AP = 10 $)\\n2. $ \\\\frac{q}{p} = \\\\frac{x - p - q}{x - p + q} $  (from angle equality)\\n3. $ qx - q^2 = p^2 $  (from another angle relation, see derivation)\\n\\nFrom equation (3), if we set $ x = \\\\frac{100}{q} $, then substituting into equation (4) and simplifying leads to the result:\\n\\n$$\\np = 2q\\n$$\\n\\nSubstitute into equation (1):\\n\\n$$\\n(2q)^2 + q^2 = 100 \\\\Rightarrow 4q^2 + q^2 = 100 \\\\Rightarrow 5q^2 = 100 \\\\Rightarrow q^2 = 20\\n$$\\n\\nThus:\\n\\n$$\\nq = \\\\sqrt{20} = 2\\\\sqrt{5}, \\\\quad p = 2q = 4\\\\sqrt{5}\\n$$\\n\\nNow substitute into $ x = \\\\frac{100}{q} = \\\\frac{100}{2\\\\sqrt{5}} = 10\\\\sqrt{5} $\\n\\n---\\n\\n### Step 5: Compute the Area\\n\\nWe now have the length of the legs $ AB = AC = x = 10\\\\sqrt{5} $\\n\\nThe area of triangle $ ABC $ is:\\n\\n$$\\n\\\\text{Area} = \\\\frac{1}{2} \\\\cdot AB \\\\cdot AC = \\\\frac{1}{2} \\\\cdot (10\\\\sqrt{5}) \\\\cdot (10\\\\sqrt{5}) = \\\\frac{1}{2} \\\\cdot 500 = \\\\boxed{250}\\n$$\\n\\n---\\n\\n### Final Answer\\n\\n$$\\n\\\\boxed{250}\\n$$\",\n",
       " 'ground_truth': '250',\n",
       " 'score': {'score': 4.0, 'soft_format': 0.25, 'hard_format': 0.25},\n",
       " 'difficulty': None,\n",
       " 'reason': \"score: {'score': 4.0, 'soft_format': 0.25, 'hard_format': 0.25}\",\n",
       " 'final_reward': 1}"
      ]
     },
     "execution_count": 30,
     "metadata": {},
     "output_type": "execute_result"
    }
   ],
   "source": [
    "line"
   ]
  },
  {
   "cell_type": "code",
   "execution_count": 31,
   "id": "1e19a2fc",
   "metadata": {},
   "outputs": [
    {
     "name": "stderr",
     "output_type": "stream",
     "text": [
      " 10%|▉         | 176/1845 [00:01<00:17, 96.83it/s] We did not manage to extract a prediction in the correct format. Gold: ['\\\\boxed{A}'], Pred: ['To determine the difference between the **correct relativistic value** and the']\n",
      " 35%|███▍      | 641/1845 [00:07<00:11, 107.44it/s]We did not manage to extract a prediction in the correct format. Gold: ['\\\\boxed{D}'], Pred: ['To determine the correct answer for the given Michael addition reactions, we need to analyze the nature of the substrates and products for each of the three reactions, and match them with the proposed answers.\\n\\n---\\n\\n###']\n",
      "100%|██████████| 1845/1845 [00:20<00:00, 88.58it/s] \n"
     ]
    }
   ],
   "source": [
    "import numpy as np\n",
    "correctness_response_length_list = {}\n",
    "from tqdm import tqdm\n",
    "for line in tqdm(data):\n",
    "    if line['data_source'] not in correctness_response_length_list:\n",
    "        correctness_response_length_list[line['data_source']] = []\n",
    "    question = line['prompt']\n",
    "    correctness_response_length_list[line['data_source']].append((question, getCorrectness(line['response'], line['ground_truth']), len(tokenizer.encode(line['response']))))\n",
    "    \n",
    "            \n",
    "            \n",
    "            "
   ]
  },
  {
   "cell_type": "code",
   "execution_count": 32,
   "id": "22c5215e",
   "metadata": {},
   "outputs": [],
   "source": [
    "def compute_aucoaa(data):\n",
    "    # data is a list of (correctness, response_length) tuples\n",
    "    n = len(data)\n",
    "    tmax = max(length for _,_, length in data)\n",
    "    oaa_t_list = []\n",
    "    for t in range(tmax + 1):\n",
    "        filtered = [correct for _,correct, length in data if length < t]\n",
    "        if filtered:\n",
    "            oaa_t = sum(filtered) / n  # Denominator is always n, per definition\n",
    "        else:\n",
    "            oaa_t = 0.0\n",
    "        oaa_t_list.append(oaa_t)\n",
    "    aucoaa = sum(oaa_t_list) / len(oaa_t_list)\n",
    "    return aucoaa\n"
   ]
  },
  {
   "cell_type": "code",
   "execution_count": 33,
   "id": "08506db8",
   "metadata": {},
   "outputs": [],
   "source": [
    "import numpy as np\n",
    "from collections import defaultdict\n",
    "\n",
    "def compute_accuracy_from_runs(prompts, accuracies, n_runs=5):\n",
    "    \"\"\"\n",
    "    prompts: list of prompt IDs (each repeated n_runs times)\n",
    "    accuracies: list of 0/1, same length as prompts\n",
    "    n_runs: number of answers per prompt (default 5)\n",
    "    \n",
    "    Returns:\n",
    "        dict with per-answer, per-prompt, and per-run accuracy + std\n",
    "    \"\"\"\n",
    "    assert len(prompts) == len(accuracies), \"Both lists must have the same length\"\n",
    "\n",
    "    accuracies = np.array(accuracies)\n",
    "    total_answers = len(accuracies)\n",
    "\n",
    "    # ------------------\n",
    "    # Per-answer accuracy (binomial estimate)\n",
    "    # ------------------\n",
    "    acc_answer = accuracies.mean()\n",
    "    std_answer = np.sqrt(acc_answer * (1 - acc_answer) / total_answers)\n",
    "\n",
    "    # ------------------\n",
    "    # Per-prompt accuracy\n",
    "    # ------------------\n",
    "    prompt_correct = defaultdict(list)\n",
    "    for p, a in zip(prompts, accuracies):\n",
    "        prompt_correct[p].append(a)\n",
    "\n",
    "    prompt_solved = np.array([np.mean(v) for v in prompt_correct.values()])\n",
    "    acc_prompt = prompt_solved.mean()\n",
    "    std_prompt = prompt_solved.std(ddof=1)\n",
    "\n",
    "    # ------------------\n",
    "    # Per-run accuracy (like papers report)\n",
    "    # ------------------\n",
    "    # initialize n_runs lists (one per run)\n",
    "    run_correct = [[] for _ in range(n_runs)]\n",
    "\n",
    "    for p in set(prompts):\n",
    "        answers = prompt_correct[p]   # length = n_runs\n",
    "        for i, a in enumerate(answers):\n",
    "            run_correct[i].append(a)\n",
    "\n",
    "    run_accs = np.array([np.mean(r) for r in run_correct])\n",
    "    acc_run = run_accs.mean()\n",
    "    std_run = run_accs.std(ddof=1)\n",
    "\n",
    "    return {\n",
    "        \"per_run_accuracy\": acc_run,\n",
    "        \"per_run_std\": std_run,\n",
    "    }\n"
   ]
  },
  {
   "cell_type": "code",
   "execution_count": 34,
   "id": "9e63045f",
   "metadata": {},
   "outputs": [
    {
     "name": "stdout",
     "output_type": "stream",
     "text": [
      "Data Source:  math-amc\n",
      "Accuracy: 0.6819277108433734\n",
      "Std: 0.01827198902181095\n",
      "Response Length: 7030.110843373494\n",
      "Max Response Length: 10000\n",
      "Min Response Length: 1309\n",
      "AUC-OAA:  0.2948326854061582\n",
      "--------------------------------\n",
      "Data Source:  gpqa\n",
      "Accuracy: 0.4517766497461929\n",
      "Std: 0.023809217054941257\n",
      "Response Length: 7625.045685279188\n",
      "Max Response Length: 10002\n",
      "Min Response Length: 1193\n",
      "AUC-OAA:  0.16018077825383348\n",
      "--------------------------------\n",
      "Data Source:  math-aime\n",
      "Accuracy: 0.27640449438202247\n",
      "Std: 0.0170401695371945\n",
      "Response Length: 9192.880898876405\n",
      "Max Response Length: 10001\n",
      "Min Response Length: 2631\n",
      "AUC-OAA:  0.07978673928135721\n",
      "--------------------------------\n"
     ]
    }
   ],
   "source": [
    "for key in correctness_response_length_list.keys():\n",
    "    print(\"Data Source: \", key)\n",
    "    prompt_list = [prompt for prompt, _, _ in correctness_response_length_list[key]]\n",
    "    accuracy_list = [correct for _, correct, _ in correctness_response_length_list[key]]\n",
    "    response_length_list = [length for _, _, length in correctness_response_length_list[key]]\n",
    "\n",
    "    result = compute_accuracy_from_runs(prompt_list, accuracy_list)\n",
    "    print(f\"Accuracy: {result['per_run_accuracy']}\")\n",
    "    print(f\"Std: {result['per_run_std']}\")\n",
    "    print(f\"Response Length: {np.mean(response_length_list)}\")\n",
    "    print(f\"Max Response Length: {max(response_length_list)}\")\n",
    "    print(f\"Min Response Length: {min(response_length_list)}\")\n",
    "\n",
    "    print(\"AUC-OAA: \", compute_aucoaa(correctness_response_length_list[key]))\n",
    "    print(\"--------------------------------\")\n",
    "    \n",
    "    # print(result)\n",
    "    "
   ]
  },
  {
   "cell_type": "code",
   "execution_count": null,
   "id": "856e01dd",
   "metadata": {},
   "outputs": [],
   "source": [
    "0.7951807228915663\n",
    "{'per_answer_accuracy': np.float64(0.7951807228915663), 'per_answer_std': np.float64(0.019810447580330987), 'per_prompt_accuracy': np.float64(0.7951807228915663), 'per_prompt_std': np.float64(0.35334761936606585)}\n",
    "0.4720812182741117\n",
    "{'per_answer_accuracy': np.float64(0.4720812182741117), 'per_answer_std': np.float64(0.015906469699511084), 'per_prompt_accuracy': np.float64(0.4720812182741117), 'per_prompt_std': np.float64(0.415861821515785)}\n",
    "0.45454545454545453\n",
    "{'per_answer_accuracy': np.float64(0.45454545454545453), 'per_answer_std': np.float64(0.023737862175776978), 'per_prompt_accuracy': np.float64(0.45454545454545453), 'per_prompt_std': np.float64(0.43599775674554486)}"
   ]
  },
  {
   "cell_type": "code",
   "execution_count": 127,
   "id": "3651922f",
   "metadata": {},
   "outputs": [
    {
     "name": "stdout",
     "output_type": "stream",
     "text": [
      "Data Source:  bbeh\n",
      "Accuracy:  0.18405511811023623\n",
      "Response Length:  5440.876968503937\n",
      "Number of Samples:  2032\n",
      "AUC-OAA:  0.1128701425069317\n",
      "--------------------------------\n"
     ]
    }
   ],
   "source": [
    "for key in correctness_response_length_list.keys():\n",
    "    # Each entry is (question, correctness, response_length)\n",
    "    correctness_values = [correct for _, correct, _ in correctness_response_length_list[key]]\n",
    "    response_lengths = [length for _, _, length in correctness_response_length_list[key]]\n",
    "    print(\"Data Source: \", key)\n",
    "    print(\"Accuracy: \", np.mean(correctness_values))\n",
    "    # print(\"Accuracy Std: \", np.std(correctness_values, ddof=1) if len(correctness_values) > 1 else 0.0)\n",
    "    print(\"Response Length: \", np.mean(response_lengths))\n",
    "    # print(\"Response Length Std: \", np.std(response_lengths, ddof=1) if len(response_lengths) > 1 else 0.0)\n",
    "    print(\"Number of Samples: \", len(correctness_response_length_list[key]))\n",
    "    # For AUC-OAA, need (correctness, response_length) tuples\n",
    "    aucoaa_data = [(_, correct, length) for _, correct, length in correctness_response_length_list[key]]\n",
    "    print(\"AUC-OAA: \", compute_aucoaa(aucoaa_data))\n",
    "    print(\"--------------------------------\")\n"
   ]
  },
  {
   "cell_type": "code",
   "execution_count": 8,
   "id": "ea835a98",
   "metadata": {},
   "outputs": [
    {
     "name": "stdout",
     "output_type": "stream",
     "text": [
      "Data Source:  math-amc\n",
      "Accuracy:  0.7951807228915663\n",
      "Response Length:  4156.530120481928\n",
      "Number of Samples:  415\n",
      "AUC-OAA:  0.5376238678997872\n",
      "--------------------------------\n",
      "Data Source:  gpqa\n",
      "Accuracy:  0.4720812182741117\n",
      "Response Length:  4193.119796954315\n",
      "Number of Samples:  985\n",
      "AUC-OAA:  0.30289823809497224\n",
      "--------------------------------\n",
      "Data Source:  math-aime\n",
      "Accuracy:  0.45454545454545453\n",
      "Response Length:  6651.779545454546\n",
      "Number of Samples:  440\n",
      "AUC-OAA:  0.24861373632365236\n",
      "--------------------------------\n"
     ]
    }
   ],
   "source": [
    "for key in correctness_response_length_list.keys():\n",
    "    print(\"Data Source: \", key)\n",
    "    print(\"Accuracy: \", np.mean([correct for correct, _ in correctness_response_length_list[key]]))\n",
    "    print(\"Response Length: \", np.mean([length for _, length in correctness_response_length_list[key]]))\n",
    "    print(\"Number of Samples: \", len(correctness_response_length_list[key]))\n",
    "    print(\"AUC-OAA: \", compute_aucoaa(correctness_response_length_list[key]))\n",
    "    print(\"--------------------------------\")"
   ]
  },
  {
   "cell_type": "code",
   "execution_count": 26,
   "id": "7828a9c2",
   "metadata": {},
   "outputs": [
    {
     "data": {
      "text/plain": [
       "'<think>\\nOkay, so I need to figure out which of the given options A-J have the correct adjective order based on the example sentences provided. The user mentioned that in this variant of English, the adjectives follow a specific order. From the examples given, I need to determine what that order is.\\n\\nLooking at the example sentences, like \"ancient key\" (1), \"pyramidal earring\" (2), \"repulsive normal-size hammer\" (3), etc., I need to find a pattern in the adjectives. The correct adjective order in these examples probably follows a certain sequence, such as opinion, size, age, material, purpose, and then other descriptors.\\n\\nLet me try to deduce the order based on the examples. For instance, in (3) \"repulsive normal-size hammer\", the adjectives are \"repulsive\" (opinion), \"normal-size\" (size), and then \"hammer\" (noun). Similarly, (4) \"red snorkeling bag\" has \"red\" (color), \"snorkeling\" (purpose), then \"bag\". Wait, but that seems different. Wait, maybe the order is opinion, size, age, material, purpose, then other descriptors.\\n\\nWait, looking at example (1): \"ancient key\" – ancient is an adjective of age, then key. But in example (2): \"pyramidal earring\" – pyramidal is a shape descriptor. Maybe the order is opinion, size, age, material, purpose, and then other adjectives. Wait, but how do they fit?\\n\\nAlternatively, perhaps the order is:\\n\\n1. Opinion adjectives (e.g., repulsive, awful, nice, terrible)\\n2. Size adjectives (e.g., large, small, normal-size, medium-size)\\n3. Age adjectives (e.g., ancient, old, old-fashioned)\\n4. Material adjectives (e.g., steel, leather, wool)\\n5. Purpose adjectives (e.g., snorkeling, eating, driving)\\n6. Shape adjectives (e.g., pyramidal, triangular, spherical)\\n\\nBut looking at the example (3): \"repulsive normal-size hammer\" – the order is opinion (repulsive), size (normal-size), then the noun. So maybe that\\'s correct. Then in example (4): \"red snorkeling bag\" – red is a color, which is a material or maybe a different category. Wait, but the example (2): \"pyramidal earring\" – pyramidal is a shape, which is a different category. So maybe the order is:\\n\\nThe adjectives in the correct order are: opinion, size, age, material, purpose, shape.\\n\\nBut I need to check which examples fit this.\\n\\nLooking at example (3): repulsive (opinion), normal-size (size), hammer (noun). So that fits opinion, size.\\n\\nExample (4): red (color, which might be a material or a different category). But maybe color is considered a material? Hmm. Or maybe the order is opinion, size, age, material, purpose, shape. Wait, example (5): square wrench – square is a shape, so maybe that\\'s after purpose. Wait, in example (5), \"square wrench\" – the adjective is shape (square), noun. So perhaps the order is opinion, size, age, material, purpose, shape. But if that\\'s the case, then in the example (5), the adjective is a shape, which would be last. But then example (2) is \"pyramidal earring\" – pyramidal is shape, so it\\'s last. But in that example, the order is shape, then noun. But according to the examples given, the adjectives are placed before the noun, but the order of the adjectives is unclear.\\n\\nWait, looking at the example (1): \"ancient key\" – the adjective is \"ancient\", which is age. So that would be age. Then in example (2): \"pyramidal earring\" – shape. So maybe the order is: opinion, age, size, material, purpose, shape.\\n\\nBut example (3): \"repulsive normal-size hammer\" – opinion, size. Then in example (4): \"red snorkeling bag\" – red is color (maybe a material?), snorkeling is purpose. Then \"bag\".\\n\\nAnother example (7): \"nigerian box\" – \"nigerian\" is nationality, which may be a material? Or maybe not. Wait, but in the given examples, some adjectives are not in the standard order. For instance, \"pyramidal earring\" – pyramidal is shape, so maybe shape is after purpose? Or perhaps the correct order is opinion, size, age, material, purpose, shape. Let me check if that holds.\\n\\nBut looking at (4): \"red snorkeling bag\" – red (color), snorkeling (purpose). But if the order is opinion, size, age, material, purpose, shape, then \"red\" would be a material, but red is color, which is a different category. Hmm.\\n\\nAlternatively, the correct order is:\\n\\nOpinion, size, age, material, purpose, shape.\\n\\nSo for example:\\n\\n(3) repulsive (opinion) normal-size (size) hammer (noun). Correct.\\n\\n(4) red (material?) snorkeling (purpose) bag. But red is color. Maybe that\\'s considered a material? Maybe not. Alternatively, the order could be:\\n\\nOpinion, size, age, shape, material, purpose.\\n\\nBut this is getting confusing. Let\\'s look at example (4): \"red snorkeling bag\" – the adjectives are \"red\" and \"snorkeling\". If the correct order is opinion, size, age, shape, material, purpose, but that doesn\\'t fit here.\\n\\nAlternatively, perhaps the adjectives are ordered as:\\n\\nOpinion (like repulsive, awful), then size (like normal-size), then age (like ancient), then material (like steel), then purpose (like snorkeling), then shape (like pyramidal).\\n\\nSo for example (3): repulsive (opinion), normal-size (size), hammer (noun) – which fits.\\n\\nIn (4): red (color, perhaps considered a material?), snorkeling (purpose), bag. But maybe red is a color, which is a different category. However, in the example (3), the adjectives are opinion and size. So maybe the order is opinion, size, age, material, purpose, shape.\\n\\nBut then in example (4), the adjectives are red (color, maybe material) and snorkeling (purpose). So that would be material (red) and purpose (snorkeling). But according to the example, this is correct. But this might not fit the order.\\n\\nAlternatively, perhaps the adjectives are ordered as: opinion, size, age, material, purpose, shape.\\n\\nSo let\\'s check the example (2): pyramidal earring. Here, \"pyramidal\" is a shape, which would be the last. So if the correct order is opinion, size, age, material, purpose, shape, then pyramidal would be the last adjective. But in this case, \"pyramidal\" is first, which might not fit.\\n\\nAlternatively, maybe the order is: opinion, shape, size, age, material, purpose.\\n\\nBut in that case, example (2) would fit. But example (3) is repulsive (opinion), normal-size (size), so that would be first two. Then the noun.\\n\\nHmm, this is complicated. Maybe the correct order is that opinion, size, age, shape, material, purpose. Or some other order.\\n\\nAlternatively, looking at example (2): \"pyramidal earring\" – the adjective is shape. So perhaps the correct order is that the adjectives are arranged in a specific order, and the examples provided show that the order is: opinion, size, age, material, purpose, shape.\\n\\nWait, example (2) is pyramidal, which is shape. If the correct order is that shape comes after purpose, then that would not fit. But maybe the order is different.\\n\\nAlternatively, perhaps the adjectives in the examples are ordered in the following way:\\n\\n- Opinion (like repulsive, awful, nice, etc.)\\n- Size (like large, small, normal-size, etc.)\\n- Age (like ancient, old, old-fashioned)\\n- Material (like steel, leather, wool)\\n- Purpose (like snorkeling, eating, driving)\\n- Shape (like pyramidal, triangular, spherical)\\n\\nBut in the example (3), the adjectives are repulsive (opinion) and normal-size (size), then the noun. So that\\'s correct.\\n\\nIn example (4): red (color) is a material? Or maybe that\\'s a different category. However, in the example (4), \"red snorkeling bag\" is given as correct. So red is a color, and snorkeling is a purpose. But according to the order above, the correct order would be opinion, size, age, material, purpose, shape. But in example (4), the adjectives are red (color) and snorkeling (purpose). However, since red is a color, maybe that is considered a material.\\n\\nAlternatively, the order might be opinion, size, age, shape, material, purpose. But I\\'m not sure.\\n\\nAlternatively, maybe the correct order is: opinion, size, age, material, purpose, shape.\\n\\nBut how to check? Let\\'s look at example (1): ancient key – ancient (age), key (noun). So that\\'s age first. But in the example (3), the adjectives are opinion and size. So the order is opinion, size, age, etc. That seems inconsistent.\\n\\nAlternatively, maybe the correct order is:\\n\\nOpinion (like repulsive, awful, nice, etc.)\\n\\nSize (like large, small, normal-size)\\n\\nAge (ancient, old, old-fashioned)\\n\\nMaterial (steel, leather, wool)\\n\\nPurpose (snorkeling, eating, driving)\\n\\nShape (pyramidal, triangular, spherical)\\n\\nSo in that order, the adjectives should be ordered as opinion, size, age, material, purpose, shape. Then, in example (2) \"pyramidal earring\" would have the adjective as shape, which would be last. But in that example, the adjective is first. So that would not fit.\\n\\nAlternatively, maybe the correct order is: opinion, size, age, material, purpose, shape. But in example (2), the adjective is shape, so that would be placed at the end, but in the example, it\\'s first. So this is conflicting.\\n\\nAlternatively, maybe the adjectives are ordered based on their category, and the correct order is:\\n\\n1. Opinion (e.g., repulsive, awful, nice, terrible)\\n2. Size (e.g., large, small, normal-size)\\n3. Age (e.g., ancient, old, old-fashioned)\\n4. Shape (e.g., pyramidal, triangular, spherical)\\n5. Material (e.g., steel, leather, wool)\\n6. Purpose (e.g., snorkeling, eating, driving)\\n\\nSo, for example, (2) \"pyramidal earring\" would have shape as the first adjective. Then in (3) \"repulsive normal-size hammer\" would be opinion, size.\\n\\nThis might fit. Let\\'s check example (2): \"pyramidal earring\" – shape, then noun. That would fit if shape is first. So the order is shape first.\\n\\nBut in example (3), the adjectives are opinion and size. So that would be opinion first, then size. So this order would not be consistent.\\n\\nAlternatively, the correct order is that the adjectives are ordered as: opinion, size, age, material, purpose, shape. But example (2) has shape first, which would not fit.\\n\\nAlternatively, maybe the correct order is: shape, material, purpose, size, age, opinion. But this is just a guess.\\n\\nThis is really confusing. Maybe I should check the given examples again for any patterns.\\n\\nLooking at example (4): \"red snorkeling bag\" – red (color, material?), snorkeling (purpose), bag.\\n\\nExample (5): \"square wrench\" – square (shape), wrench.\\n\\nExample (6): \"awful large apple\" – awful (opinion), large (size), apple.\\n\\nSo in example (6), the adjectives are opinion and size.\\n\\nIn example (7): \"nigerian box\" – \"nigerian\" is nationality, which is a material? Or maybe not. So perhaps in this case, it\\'s a material.\\n\\nBut the problem is that the correct order is not clear. Maybe the answer is to check if the adjectives in the options are in the order that is consistent with the given examples.\\n\\nBut since the examples are given, perhaps the correct adjective order is as follows, based on the examples:\\n\\nThe order is opinion, size, age, material, purpose, shape.\\n\\nSo, in the given examples:\\n\\n(1) ancient key – ancient (age), key.\\n\\nBut that would be age, which is first. So that might not fit. But maybe the order is age, then opinion?\\n\\nAlternatively, the correct order is opinion, size, age, material, purpose, shape.\\n\\nBut example (1) has \"ancient\" (age), so that would be the third position. But example (6) is \"awful large apple\" – opinion (awful), size (large), then apple.\\n\\nSo that fits the order opinion, size.\\n\\nIn example (2): pyramidal earring – shape, then noun. So shape is the last. So according to the order, if the order is opinion, size, age, material, purpose, shape, then shape should be last. So that would fit.\\n\\nSo for example (2), the adjective is shape, so it\\'s last. That would fit.\\n\\nSo maybe the correct order is: opinion, size, age, material, purpose, shape.\\n\\nBut in example (1), the adjective is \"ancient\", which is age. So in this case, the adjective is age. So that would be third.\\n\\nBut in the example (1), it\\'s \"ancient key\" – so the adjective is age. So that would fit in the third position.\\n\\nIn example (2): pyramidal earring – shape is last.\\n\\nIn example (3): \"repulsive normal-size hammer\" – opinion, then size.\\n\\nSo that fits the first two positions.\\n\\nIn example (4): red snorkeling bag – red (color, which might be material), snorkeling (purpose). So according to the order, material should come before purpose. But red is color, which is a material. Then snorkeling is purpose. So the order would be material (red), then purpose (snorkeling). So that fits.\\n\\nExample (5): square wrench – shape (square) is last.\\n\\nExample (6): awful large apple – opinion, size.\\n\\nSo the order seems to be opinion, size, age, material, purpose, shape.\\n\\nTherefore, in the options given, each option should have adjectives in that order.\\n\\nSo let\\'s analyze each option:\\n\\n(A) iranian square violet smoking old-fashioned rubber repulsive large screwdriver\\n\\nLet\\'s break down the adjectives:\\n\\n- iranian (nationality, maybe material?)\\n- square (shape)\\n- violet (color, material)\\n- smoking (purpose)\\n- old-fashioned (age)\\n- rubber (material)\\n- repulsive (opinion)\\n- large (size)\\n- screwdriver\\n\\nWait, but according to the order opinion, size, age, material, purpose, shape, this should be:\\n\\nOpinion: repulsive\\nSize: large\\nAge: old-fashioned\\nMaterial: rubber, violet (color)\\nPurpose: smoking\\nShape: square\\n\\nBut in the option, the order is: iranian, square, violet, smoking, old-fashioned, rubber, repulsive, large, screwdriver.\\n\\nThis is not in the correct order. Because the opinion should be first, then size, etc.\\n\\nSo the correct order for this would be repulsive (opinion), large (size), old-fashioned (age), rubber (material), smoking (purpose), square (shape), and then the noun. But in the option, the order is different.\\n\\nTherefore, option A is incorrect.\\n\\n(B) mysterious little maroon whittling ancient cloth prismlike brush\\n\\nAdjectives: mysterious (opinion), little (size), maroon (color/material), whittling (purpose), ancient (age), cloth (material), prismlike (shape)\\n\\nAccording to the order, the correct sequence would be opinion (mysterious), size (little), age (ancient), material (cloth), purpose (whittling), shape (prismlike), and then the noun. But in this option, the order is:\\n\\nmysterious (opinion), little (size), maroon (color, material), whittling (purpose), ancient (age), cloth (material), prismlike (shape). But here, the age comes after the purpose. That\\'s wrong. The correct order would be opinion, size, age, material, purpose, shape. In this case, the age (ancient) is after the purpose (whittling), which is incorrect. So option B is incorrect.\\n\\n(C) silly midsize crimson eating archaic leather square brazilian banana\\n\\nAdjectives: silly (opinion), midsize (size), crimson (color/material), eating (purpose), archaic (age), leather (material), square (shape), brazilian (nationality/material)\\n\\nCorrect order should be opinion (silly), size (midsize), age (archaic), material (leather, crimson, brazilian?), purpose (eating), shape (square). But in this option, after size (midsize), we have crimson (color), then eating (purpose), then archaic (age), which is incorrect. Because age should come before purpose. So the order is incorrect. So option C is incorrect.\\n\\n(D) tiny repulsive maroon drinking ancient glass pyramidal congolese fork\\n\\nAdjectives: tiny (size), repulsive (opinion), maroon (color/material), drinking (purpose), ancient (age), glass (material), pyramidal (shape), congolese (nationality)\\n\\nCorrect order is opinion (repulsive), size (tiny), age (ancient), material (glass), purpose (drinking), shape (pyramidal), and then nationality. But in the option, the order is size (tiny), opinion (repulsive), which is incorrect. The opinion should come before size. So this is wrong. Thus, D is incorrect.\\n\\n(E) green snorkeling archaic iron large awful toolbox\\n\\nAdjectives: green (color/material), snorkeling (purpose), archaic (age), iron (material), large (size), awful (opinion), toolbox.\\n\\nAccording to the order, opinion should be first, then size, then age, then material, then purpose. But here, the order is green (color/material), snorkeling (purpose), archaic (age), iron (material), large (size), awful (opinion). This is incorrect because opinion (awful) is last. So E is incorrect.\\n\\n(F) filipino spherical yellow exercise ancient wool medium-size good calculator\\n\\nAdjectives: filipino (nationality), spherical (shape), yellow (color), exercise (purpose), ancient (age), wool (material), medium-size (size), good (opinion), calculator.\\n\\nCorrect order: opinion (good), size (medium-size), age (ancient), material (wool), purpose (exercise), shape (spherical), then nationality. But in this option, the order is filipino, spherical, yellow, exercise, ancient, wool, medium-size, good. So the opinion (good) is last, which is wrong. Also, size (medium-size) is after material (wool), which is incorrect. So F is incorrect.\\n\\n(G) triangular violet drinking brand-new fiberglass small repulsive watch\\n\\nAdjectives: triangular (shape), violet (color/material), drinking (purpose), brand-new (age), fiberglass (material), small (size), repulsive (opinion), watch.\\n\\nThe order should be opinion (repulsive), size (small), age (brand-new), material (fiberglass), purpose (drinking), shape (triangular). But in the option, it\\'s triangular, violet, drinking, brand-new, fiberglass, small, repulsive. This is incorrect because the opinion is last. So G is incorrect.\\n\\n(H) russian prismlike aqua snorkeling old cloth house\\n\\nAdjectives: russian (nationality), prismlike (shape), aqua (color), snorkeling (purpose), old (age), cloth (material), house.\\n\\nThe correct order should be opinion (none here), then size (none), age (old), material (cloth), purpose (snorkeling), shape (prismlike). But the order is different. So this is incorrect. Also, \\'russian\\' is nationality, which might not fit the order.\\n\\n(I) massive lovely gray walking new cloth pen\\n\\nAdjectives: massive (size), lovely (opinion), gray (color), walking (purpose), new (age), cloth (material), pen.\\n\\nThe correct order would be opinion (lovely), size (massive), age (new), material (cloth), purpose (walking). But in this option, the order is size (massive), opinion (lovely), which is incorrect. Because opinion should come before size. So I is incorrect.\\n\\n(J) wonderful tiny gray walking archaic wood brush\\n\\nAdjectives: wonderful (opinion), tiny (size), gray (color), walking (purpose), archaic (age), wood (material), brush.\\n\\nThe order should be opinion (wonderful), size (tiny), age (archaic), material (wood), purpose (walking). The order here is correct. So J is correct.\\n\\nWait, let me check:\\n\\nThe adjectives are wonderful (opinion), tiny (size), gray (color, material), walking (purpose), archaic (age), wood (material), brush.\\n\\nBut the correct order should be opinion, size, age, material, purpose, shape. Wait, but in this case, the adjectives are:\\n\\nopinion: wonderful\\n\\nsize: tiny\\n\\nage: archaic\\n\\nmaterial: wood, gray?\\n\\nWait, gray is a color, which is part of material or color. In the correct order, after age comes material. So here, the order is:\\n\\nwonderful (opinion), tiny (size), archaic (age), gray (color, material), walking (purpose), wood (material), brush.\\n\\nBut in the option, the order is wonderful, tiny, gray, walking, archaic, wood. So the age (archaic) is after walking (purpose), which is incorrect. So J is incorrect.\\n\\nWait, no. Let\\'s check again. The option is:\\n\\nwonderful tiny gray walking archaic wood brush.\\n\\nThe adjectives are: wonderful (opinion), tiny (size), gray (color), walking (purpose), archaic (age), wood (material), brush.\\n\\nAccording to the correct order: opinion, size, age, material, purpose, shape.\\n\\nBut in this case, the order is opinion, size, then gray (color, which is material), walking (purpose), archaic (age), wood (material). Wait, this is incorrect because age should come before purpose. So the correct order would be opinion, size, age, material, purpose, shape. But in this option, the age (archaic) comes after the purpose (walking), which is wrong.\\n\\nSo J is also incorrect.\\n\\nWait, but the correct order is opinion, size, age, material, purpose, shape. So if the adjectives are arranged in that order, then J is incorrect. But if the order is different, perhaps I\\'m missing something.\\n\\nAlternatively, maybe the order is opinion, size, material, age, purpose, shape. But that\\'s not matching the examples.\\n\\nAlternatively, maybe the correct order is: opinion, size, age, purpose, material, shape.\\n\\nBut example (3) has opinion, size, then the noun. So that\\'s correct. But this is confusing.\\n\\nGiven the confusion, perhaps the correct answer is only option J, but I\\'m not sure. Alternatively, maybe none of them are correct. But let me check again.\\n\\nOption J is:\\n\\nwonderful (opinion), tiny (size), gray (color), walking (purpose), archaic (age), wood (material), brush.\\n\\nThe order would be opinion, size, purpose, age, material. That\\'s incorrect. So J is incorrect.\\n\\nAlternatively, maybe the correct order is opinion, size, material, purpose, age, shape. But that\\'s not matching any examples.\\n\\nGiven the confusion, maybe none of the options are correct. So the answer is K.\\n\\nBut let me check each option again more carefully.\\n\\nFor example, let\\'s recheck option J:\\n\\nwonderful (opinion), tiny (size), gray (color, material), walking (purpose), archaic (age), wood (material), brush.\\n\\nThe correct order should be opinion, size, age, material, purpose, shape. So here, the age (archaic) is after the purpose (walking), which is incorrect. So option J is wrong.\\n\\nLooking at all options, none seem to fit the correct order. Therefore, the answer is K.\\n\\nBut wait, let me check option (J) again. Maybe the age is supposed to come before purpose. So if the adjectives are in the order opinion, size, age, material, purpose, shape, then the correct order is:\\n\\nopinion, size, age, material, purpose, shape.\\n\\nIn option J, the order is: opinion (wonderful), size (tiny), then gray (color/material), then walking (purpose), then archaic (age), then wood (material). That would be opinion, size, purpose, age, material. Which is wrong.\\n\\nSo none of the options are correct. Therefore, the answer is K.\\n</think>\\n\\nTo determine which of the given options use the correct adjective order in this variant of English, we need to refer to the pattern in the examples provided. Based on the examples, the correct adjective order appears to be:\\n\\n1. **Opinion adjectives** (e.g., *wonderful, awful, nice, repulsive*)\\n2. **Size adjectives** (e.g., *large, small, normal-size, medium-size*)\\n3. **Age adjectives** (e.g., *ancient, old, old-fashioned, new*)\\n4. **Material adjectives** (e.g., *steel, leather, wood, cloth*)\\n5. **Purpose adjectives** (e.g., *snorkeling, eating, driving, walking*)\\n6. **Shape adjectives** (e.g., *pyramidal, triangular, spherical*)\\n\\nThis order is consistent across the examples provided. It starts with **opinion**, followed by **size**, then **age**, then **material**, then **purpose**, and finally **shape**.\\n\\n---\\n\\nLet\\'s analyze the options based on this order:\\n\\n### (A) iranian square violet smoking old-fashioned rubber repulsive large screwdriver  \\n- Adjectives: *iranian (nationality, likely material), square (shape), violet (color, likely material), smoking (purpose), old-fashioned (age), rubber (material), repulsive (opinion), large (size), screwdriver*\\n\\nThe correct order should be: **opinion → size → age → material → purpose → shape**  \\nHere, **opinion** comes last. Incorrect.\\n\\n---\\n\\n### (B) mysterious little maroon whittling ancient cloth prismlike brush  \\n- Adjectives: *mysterious (opinion), little (size), maroon (color, material), whittling (purpose), ancient (age), cloth (material), prismlike (shape), brush*\\n\\nThe correct order should be: **opinion → size → age → material → purpose → shape**  \\nHere, **age** comes after **purpose**. Incorrect.\\n\\n---\\n\\n### (C) silly midsize crimson eating archaic leather square brazilian banana  \\n- Adjectives: *silly (opinion), midsize (size), crimson (color, material), eating (purpose), archaic (age), leather (material), square (shape), brazilian (nationality)*\\n\\nThe correct order should be: **opinion → size → age → material → purpose → shape**  \\nHere, **age** comes after **purpose**. Incorrect.\\n\\n---\\n\\n### (D) tiny repulsive maroon drinking ancient glass pyramidal congolese fork  \\n- Adjectives: *tiny (size), repulsive (opinion), maroon (color, material), drinking (purpose), ancient (age), glass (material), pyramidal (shape), congolese (nationality)*\\n\\nThe correct order should be: **opinion → size → age → material → purpose → shape**  \\nHere, **opinion** comes after **size**. Incorrect.\\n\\n---\\n\\n### (E) green snorkeling archaic iron large awful toolbox  \\n- Adjectives: *green (color, material), snorkeling (purpose), archaic (age), iron (material), large (size), awful (opinion), toolbox*\\n\\nThe correct order should be: **opinion → size → age → material → purpose → shape**  \\nHere, **opinion** comes last. Incorrect.\\n\\n---\\n\\n### (F) filipino spherical yellow exercise ancient wool medium-size good calculator  \\n- Adjectives: *filipino (nationality), spherical (shape), yellow (color, material), exercise (purpose), ancient (age), wool (material), medium-size (size), good (opinion), calculator*\\n\\nThe correct order should be: **opinion → size → age → material → purpose → shape**  \\nHere, **opinion** comes last. Incorrect.\\n\\n---\\n\\n### (G) triangular violet drinking brand-new fiberglass small repulsive watch  \\n- Adjectives: *triangular (shape), violet (color, material), drinking (purpose), brand-new (age), fiberglass (material), small (size), repulsive (opinion), watch*\\n\\nThe correct order should be: **opinion → size → age → material → purpose → shape**  \\nHere, **opinion** comes last. Incorrect.\\n\\n---\\n\\n### (H) russian prismlike aqua snorkeling old cloth house  \\n- Adjectives: *russian (nationality), prismlike (shape), aqua (color, material), snorkeling (purpose), old (age), cloth (material), house*\\n\\nThe correct order should be: **opinion → size → age → material → purpose → shape**  \\nHere, **opinion** is missing and the rest are in incorrect order. Incorrect.\\n\\n---\\n\\n### (I) massive lovely gray walking new cloth pen  \\n- Adjectives: *massive (size), lovely (opinion), gray (color, material), walking (purpose), new (age), cloth (material), pen*\\n\\nThe correct order should be: **opinion → size → age → material → purpose → shape**  \\nHere, **opinion** comes after **size**. Incorrect.\\n\\n---\\n\\n### (J) wonderful tiny gray walking archaic wood brush  \\n- Adjectives: *wonderful (opinion), tiny (size), gray (color, material), walking (purpose), archaic (age), wood (material), brush*\\n\\nThe correct order should be: **opinion → size → age → material → purpose → shape**  \\nHere, **age** comes after **purpose**. Incorrect.\\n\\n---\\n\\n### Conclusion:\\n\\nNone of the options (A–J) follow the correct adjective order as deduced from the examples. Therefore, the correct answer is:\\n\\n$$\\n\\\\boxed{K}\\n$$'"
      ]
     },
     "execution_count": 26,
     "metadata": {},
     "output_type": "execute_result"
    }
   ],
   "source": [
    "line['response']"
   ]
  },
  {
   "cell_type": "code",
   "execution_count": 10,
   "id": "fa28c910",
   "metadata": {},
   "outputs": [
    {
     "data": {
      "text/plain": [
       "4407"
      ]
     },
     "execution_count": 10,
     "metadata": {},
     "output_type": "execute_result"
    }
   ],
   "source": [
    "len(tokenizer.encode(line['response']))"
   ]
  },
  {
   "cell_type": "code",
   "execution_count": 37,
   "id": "d81e6485",
   "metadata": {},
   "outputs": [
    {
     "ename": "FileNotFoundError",
     "evalue": "[Errno 2] No such file or directory: 'your_file.jsonl'",
     "output_type": "error",
     "traceback": [
      "\u001b[31m---------------------------------------------------------------------------\u001b[39m",
      "\u001b[31mFileNotFoundError\u001b[39m                         Traceback (most recent call last)",
      "\u001b[36mCell\u001b[39m\u001b[36m \u001b[39m\u001b[32mIn[37]\u001b[39m\u001b[32m, line 3\u001b[39m\n\u001b[32m      1\u001b[39m \u001b[38;5;28;01mimport\u001b[39;00m\u001b[38;5;250m \u001b[39m\u001b[34;01mjson\u001b[39;00m\n\u001b[32m      2\u001b[39m \u001b[38;5;66;03m## read jsonl\u001b[39;00m\n\u001b[32m----> \u001b[39m\u001b[32m3\u001b[39m \u001b[38;5;28;01mwith\u001b[39;00m \u001b[38;5;28;43mopen\u001b[39;49m\u001b[43m(\u001b[49m\u001b[33;43m'\u001b[39;49m\u001b[33;43myour_file.jsonl\u001b[39;49m\u001b[33;43m'\u001b[39;49m\u001b[43m,\u001b[49m\u001b[43m \u001b[49m\u001b[33;43m'\u001b[39;49m\u001b[33;43mr\u001b[39;49m\u001b[33;43m'\u001b[39;49m\u001b[43m)\u001b[49m \u001b[38;5;28;01mas\u001b[39;00m f:\n\u001b[32m      4\u001b[39m     data = [json.loads(line) \u001b[38;5;28;01mfor\u001b[39;00m line \u001b[38;5;129;01min\u001b[39;00m f]\n",
      "\u001b[36mFile \u001b[39m\u001b[32m/nas-ssd2/joykirat/code/verl-fork/verl/venv/lib/python3.12/site-packages/IPython/core/interactiveshell.py:343\u001b[39m, in \u001b[36m_modified_open\u001b[39m\u001b[34m(file, *args, **kwargs)\u001b[39m\n\u001b[32m    336\u001b[39m \u001b[38;5;28;01mif\u001b[39;00m file \u001b[38;5;129;01min\u001b[39;00m {\u001b[32m0\u001b[39m, \u001b[32m1\u001b[39m, \u001b[32m2\u001b[39m}:\n\u001b[32m    337\u001b[39m     \u001b[38;5;28;01mraise\u001b[39;00m \u001b[38;5;167;01mValueError\u001b[39;00m(\n\u001b[32m    338\u001b[39m         \u001b[33mf\u001b[39m\u001b[33m\"\u001b[39m\u001b[33mIPython won\u001b[39m\u001b[33m'\u001b[39m\u001b[33mt let you open fd=\u001b[39m\u001b[38;5;132;01m{\u001b[39;00mfile\u001b[38;5;132;01m}\u001b[39;00m\u001b[33m by default \u001b[39m\u001b[33m\"\u001b[39m\n\u001b[32m    339\u001b[39m         \u001b[33m\"\u001b[39m\u001b[33mas it is likely to crash IPython. If you know what you are doing, \u001b[39m\u001b[33m\"\u001b[39m\n\u001b[32m    340\u001b[39m         \u001b[33m\"\u001b[39m\u001b[33myou can use builtins\u001b[39m\u001b[33m'\u001b[39m\u001b[33m open.\u001b[39m\u001b[33m\"\u001b[39m\n\u001b[32m    341\u001b[39m     )\n\u001b[32m--> \u001b[39m\u001b[32m343\u001b[39m \u001b[38;5;28;01mreturn\u001b[39;00m \u001b[43mio_open\u001b[49m\u001b[43m(\u001b[49m\u001b[43mfile\u001b[49m\u001b[43m,\u001b[49m\u001b[43m \u001b[49m\u001b[43m*\u001b[49m\u001b[43margs\u001b[49m\u001b[43m,\u001b[49m\u001b[43m \u001b[49m\u001b[43m*\u001b[49m\u001b[43m*\u001b[49m\u001b[43mkwargs\u001b[49m\u001b[43m)\u001b[49m\n",
      "\u001b[31mFileNotFoundError\u001b[39m: [Errno 2] No such file or directory: 'your_file.jsonl'"
     ]
    }
   ],
   "source": [
    "import json\n",
    "## read jsonl\n",
    "with open('your_file.jsonl', 'r') as f:\n",
    "    data = [json.loads(line) for line in f]\n"
   ]
  },
  {
   "cell_type": "code",
   "execution_count": 1,
   "id": "d0055897",
   "metadata": {},
   "outputs": [
    {
     "data": {
      "application/vnd.jupyter.widget-view+json": {
       "model_id": "55f7dbede25c49ef92fd461aeed8a3f9",
       "version_major": 2,
       "version_minor": 0
      },
      "text/plain": [
       "Generating train split:   0%|          | 0/2499 [00:00<?, ? examples/s]"
      ]
     },
     "metadata": {},
     "output_type": "display_data"
    }
   ],
   "source": [
    "from datasets import load_dataset\n",
    "train_dataset = load_dataset('/nas-ssd2/joykirat/code/verl-fork/baselines/LC-R1/dataset', split='train')"
   ]
  },
  {
   "cell_type": "code",
   "execution_count": 2,
   "id": "bd778c0c",
   "metadata": {},
   "outputs": [
    {
     "data": {
      "text/plain": [
       "Dataset({\n",
       "    features: ['problem', 'solution'],\n",
       "    num_rows: 2499\n",
       "})"
      ]
     },
     "execution_count": 2,
     "metadata": {},
     "output_type": "execute_result"
    }
   ],
   "source": [
    "train_dataset"
   ]
  },
  {
   "cell_type": "code",
   "execution_count": 3,
   "id": "b70c8c1f",
   "metadata": {},
   "outputs": [
    {
     "data": {
      "text/plain": [
       "{'problem': 'Let $x$ , $y$ and $z$ all exceed $1$ and let $w$ be a positive number such that $\\\\log_xw=24$ , $\\\\log_y w = 40$ and $\\\\log_{xyz}w=12$ . Find $\\\\log_zw$ .',\n",
       " 'solution': '60'}"
      ]
     },
     "execution_count": 3,
     "metadata": {},
     "output_type": "execute_result"
    }
   ],
   "source": [
    "train_dataset[0]"
   ]
  },
  {
   "cell_type": "code",
   "execution_count": 9,
   "id": "14e28692",
   "metadata": {},
   "outputs": [
    {
     "data": {
      "text/html": [
       "<div>\n",
       "<style scoped>\n",
       "    .dataframe tbody tr th:only-of-type {\n",
       "        vertical-align: middle;\n",
       "    }\n",
       "\n",
       "    .dataframe tbody tr th {\n",
       "        vertical-align: top;\n",
       "    }\n",
       "\n",
       "    .dataframe thead th {\n",
       "        text-align: right;\n",
       "    }\n",
       "</style>\n",
       "<table border=\"1\" class=\"dataframe\">\n",
       "  <thead>\n",
       "    <tr style=\"text-align: right;\">\n",
       "      <th></th>\n",
       "      <th>data_source</th>\n",
       "      <th>prompt</th>\n",
       "      <th>ability</th>\n",
       "      <th>reward_model</th>\n",
       "      <th>extra_info</th>\n",
       "      <th>uuid</th>\n",
       "    </tr>\n",
       "  </thead>\n",
       "  <tbody>\n",
       "    <tr>\n",
       "      <th>0</th>\n",
       "      <td>DAPO-Math-17k</td>\n",
       "      <td>[{'content': 'In triangle $ABC$, $\\sin \\angle ...</td>\n",
       "      <td>math</td>\n",
       "      <td>{'ground_truth': '34', 'style': 'rule-lighteva...</td>\n",
       "      <td>{'index': 0, 'split': 'train'}</td>\n",
       "      <td>d2ccd328-e712-4d6b-b909-a7956589db4e</td>\n",
       "    </tr>\n",
       "    <tr>\n",
       "      <th>1</th>\n",
       "      <td>DAPO-Math-17k</td>\n",
       "      <td>[{'content': 'Let $ABCD$ be a unit square in t...</td>\n",
       "      <td>math</td>\n",
       "      <td>{'ground_truth': '113', 'style': 'rule-lightev...</td>\n",
       "      <td>{'index': 1, 'split': 'train'}</td>\n",
       "      <td>5fb8b773-1e5f-48ab-b5ce-8d2ba6ed53cc</td>\n",
       "    </tr>\n",
       "    <tr>\n",
       "      <th>2</th>\n",
       "      <td>DAPO-Math-17k</td>\n",
       "      <td>[{'content': 'Let $a, b, c$ be distinct number...</td>\n",
       "      <td>math</td>\n",
       "      <td>{'ground_truth': '-3', 'style': 'rule-lighteva...</td>\n",
       "      <td>{'index': 2, 'split': 'train'}</td>\n",
       "      <td>974a3162-fb31-4720-86ab-6a3738ae84e7</td>\n",
       "    </tr>\n",
       "    <tr>\n",
       "      <th>3</th>\n",
       "      <td>DAPO-Math-17k</td>\n",
       "      <td>[{'content': 'There are $7$ boxes arranged in ...</td>\n",
       "      <td>math</td>\n",
       "      <td>{'ground_truth': '3', 'style': 'rule-lighteval...</td>\n",
       "      <td>{'index': 3, 'split': 'train'}</td>\n",
       "      <td>c47003a1-29c7-46ad-b566-977ba9018acb</td>\n",
       "    </tr>\n",
       "    <tr>\n",
       "      <th>4</th>\n",
       "      <td>DAPO-Math-17k</td>\n",
       "      <td>[{'content': 'Let $S$ be the set of triples $(...</td>\n",
       "      <td>math</td>\n",
       "      <td>{'ground_truth': '37', 'style': 'rule-lighteva...</td>\n",
       "      <td>{'index': 4, 'split': 'train'}</td>\n",
       "      <td>f8e041a5-2848-4dfb-99c4-74aa70c8d211</td>\n",
       "    </tr>\n",
       "  </tbody>\n",
       "</table>\n",
       "</div>"
      ],
      "text/plain": [
       "     data_source                                             prompt ability  \\\n",
       "0  DAPO-Math-17k  [{'content': 'In triangle $ABC$, $\\sin \\angle ...    math   \n",
       "1  DAPO-Math-17k  [{'content': 'Let $ABCD$ be a unit square in t...    math   \n",
       "2  DAPO-Math-17k  [{'content': 'Let $a, b, c$ be distinct number...    math   \n",
       "3  DAPO-Math-17k  [{'content': 'There are $7$ boxes arranged in ...    math   \n",
       "4  DAPO-Math-17k  [{'content': 'Let $S$ be the set of triples $(...    math   \n",
       "\n",
       "                                        reward_model  \\\n",
       "0  {'ground_truth': '34', 'style': 'rule-lighteva...   \n",
       "1  {'ground_truth': '113', 'style': 'rule-lightev...   \n",
       "2  {'ground_truth': '-3', 'style': 'rule-lighteva...   \n",
       "3  {'ground_truth': '3', 'style': 'rule-lighteval...   \n",
       "4  {'ground_truth': '37', 'style': 'rule-lighteva...   \n",
       "\n",
       "                       extra_info                                  uuid  \n",
       "0  {'index': 0, 'split': 'train'}  d2ccd328-e712-4d6b-b909-a7956589db4e  \n",
       "1  {'index': 1, 'split': 'train'}  5fb8b773-1e5f-48ab-b5ce-8d2ba6ed53cc  \n",
       "2  {'index': 2, 'split': 'train'}  974a3162-fb31-4720-86ab-6a3738ae84e7  \n",
       "3  {'index': 3, 'split': 'train'}  c47003a1-29c7-46ad-b566-977ba9018acb  \n",
       "4  {'index': 4, 'split': 'train'}  f8e041a5-2848-4dfb-99c4-74aa70c8d211  "
      ]
     },
     "execution_count": 9,
     "metadata": {},
     "output_type": "execute_result"
    }
   ],
   "source": [
    "## load parquet dataset\n",
    "import pandas as pd\n",
    "dataset = pd.read_parquet('/nas-ssd2/joykirat/code/verl-fork/verl/scripts/data/dapo-17k/train.parquet')\n",
    "dataset.head()"
   ]
  },
  {
   "cell_type": "code",
   "execution_count": 10,
   "id": "51a71306",
   "metadata": {},
   "outputs": [],
   "source": [
    "# convert this dataset into a dataset\n",
    "from datasets import Dataset\n",
    "dataset = Dataset.from_pandas(dataset)\n"
   ]
  },
  {
   "cell_type": "code",
   "execution_count": 12,
   "id": "322a257a",
   "metadata": {},
   "outputs": [
    {
     "data": {
      "text/plain": [
       "Dataset({\n",
       "    features: ['data_source', 'prompt', 'ability', 'reward_model', 'extra_info', 'uuid'],\n",
       "    num_rows: 20000\n",
       "})"
      ]
     },
     "execution_count": 12,
     "metadata": {},
     "output_type": "execute_result"
    }
   ],
   "source": [
    "dataset"
   ]
  },
  {
   "cell_type": "code",
   "execution_count": 13,
   "id": "61da7071",
   "metadata": {},
   "outputs": [
    {
     "data": {
      "application/vnd.jupyter.widget-view+json": {
       "model_id": "ab05b6d81e894388baf96b5dbcfc88f3",
       "version_major": 2,
       "version_minor": 0
      },
      "text/plain": [
       "Generating train split: 0 examples [00:00, ? examples/s]"
      ]
     },
     "metadata": {},
     "output_type": "display_data"
    }
   ],
   "source": [
    "dataset = load_dataset('parquet', data_files='/nas-ssd2/joykirat/code/verl-fork/verl/scripts/data/dapo-17k/train.parquet')"
   ]
  },
  {
   "cell_type": "code",
   "execution_count": 17,
   "id": "74c16f7e",
   "metadata": {},
   "outputs": [],
   "source": [
    "### remove some columsn from the dataset\n",
    "dataset = dataset.remove_columns(['data_source', 'ability', 'extra_info', 'uuid'])"
   ]
  },
  {
   "cell_type": "code",
   "execution_count": 21,
   "id": "ddacf91f",
   "metadata": {},
   "outputs": [
    {
     "data": {
      "text/plain": [
       "{'prompt': [{'content': \"In triangle $ABC$, $\\\\sin \\\\angle A = \\\\frac{4}{5}$ and $\\\\angle A < 90^\\\\circ$. Let $D$ be a point outside triangle $ABC$ such that $\\\\angle BAD = \\\\angle DAC$ and $\\\\angle BDC = 90^\\\\circ$. Suppose that $AD = 1$ and that $\\\\frac{BD}{CD} = \\\\frac{3}{2}$. If $AB + AC$ can be expressed in the form $\\\\frac{a\\\\sqrt{b}}{c}$ where $a, b, c$ are pairwise relatively prime integers, find $a + b + c$. Let's think step by step and output the final answer within \\\\boxed{}.\",\n",
       "   'role': 'user'}],\n",
       " 'reward_model': {'ground_truth': '34', 'style': 'rule-lighteval/MATH_v2'}}"
      ]
     },
     "execution_count": 21,
     "metadata": {},
     "output_type": "execute_result"
    }
   ],
   "source": [
    "dataset['train'][0]"
   ]
  },
  {
   "cell_type": "code",
   "execution_count": 22,
   "id": "b06bc9f9",
   "metadata": {},
   "outputs": [],
   "source": [
    "dataset = dataset['train']"
   ]
  },
  {
   "cell_type": "code",
   "execution_count": 24,
   "id": "5646a45f",
   "metadata": {},
   "outputs": [],
   "source": [
    "# create a new column with problem name from prompt\n",
    "dataset = dataset.add_column('problem', [d['prompt'][0]['content'].replace(\"Let's think step by step and output the final answer within \\\\boxed{}.\", '').strip() for d in dataset])\n"
   ]
  },
  {
   "cell_type": "code",
   "execution_count": 27,
   "id": "ab61e1cd",
   "metadata": {},
   "outputs": [],
   "source": [
    "dataset = dataset.add_column('solution', [d['reward_model']['ground_truth'] for d in dataset])"
   ]
  },
  {
   "cell_type": "code",
   "execution_count": 29,
   "id": "d949b790",
   "metadata": {},
   "outputs": [],
   "source": [
    "dataset = dataset.remove_columns(['prompt', 'reward_model'])"
   ]
  },
  {
   "cell_type": "code",
   "execution_count": 30,
   "id": "26564142",
   "metadata": {},
   "outputs": [
    {
     "data": {
      "text/plain": [
       "Dataset({\n",
       "    features: ['problem', 'solution'],\n",
       "    num_rows: 20000\n",
       "})"
      ]
     },
     "execution_count": 30,
     "metadata": {},
     "output_type": "execute_result"
    }
   ],
   "source": [
    "dataset"
   ]
  },
  {
   "cell_type": "code",
   "execution_count": 34,
   "id": "868bb2f8",
   "metadata": {},
   "outputs": [],
   "source": [
    "### save the dataset locally in dataset format '/nas-ssd2/joykirat/code/verl-fork/baselines/LC-R1/dapo-17k'\n",
    "from datasets import load_dataset, load_from_disk\n",
    "# dataset.save_to_disk('/nas-ssd2/joykirat/code/verl-fork/baselines/LC-R1/dapo-17k')"
   ]
  },
  {
   "cell_type": "code",
   "execution_count": 35,
   "id": "93053ad7",
   "metadata": {},
   "outputs": [],
   "source": [
    "# load the dataset from the local dataset format\n",
    "dataset = load_from_disk('/nas-ssd2/joykirat/code/verl-fork/baselines/LC-R1/dapo-17k')"
   ]
  },
  {
   "cell_type": "code",
   "execution_count": 6,
   "id": "8960bb8b",
   "metadata": {},
   "outputs": [
    {
     "name": "stdout",
     "output_type": "stream",
     "text": [
      "607\n"
     ]
    }
   ],
   "source": [
    "# dataset_name = 'full'\n",
    "# folder_name = f'{dataset_name}_test_dataset'\n",
    "from datasets import load_dataset\n",
    "import pandas as pd\n",
    "dataset_name = 'overthink'\n",
    "\n",
    "df = pd.read_parquet(f\"/nas-ssd2/joykirat/code/verl-fork/verl/scripts/data/{dataset_name}_test_dataset/test.parquet\")\n",
    "\n",
    "print(len(df))"
   ]
  },
  {
   "cell_type": "code",
   "execution_count": null,
   "id": "9f444b99",
   "metadata": {},
   "outputs": [],
   "source": []
  }
 ],
 "metadata": {
  "kernelspec": {
   "display_name": "venv",
   "language": "python",
   "name": "python3"
  },
  "language_info": {
   "codemirror_mode": {
    "name": "ipython",
    "version": 3
   },
   "file_extension": ".py",
   "mimetype": "text/x-python",
   "name": "python",
   "nbconvert_exporter": "python",
   "pygments_lexer": "ipython3",
   "version": "3.12.3"
  }
 },
 "nbformat": 4,
 "nbformat_minor": 5
}
