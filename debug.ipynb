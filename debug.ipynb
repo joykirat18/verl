{
 "cells": [
  {
   "cell_type": "code",
   "execution_count": 1,
   "id": "2ddc1af8",
   "metadata": {},
   "outputs": [],
   "source": [
    "data_source = ['math-amc', 'math-aime', 'gpqa']"
   ]
  },
  {
   "cell_type": "code",
   "execution_count": 1,
   "id": "5217088d",
   "metadata": {},
   "outputs": [
    {
     "name": "stdout",
     "output_type": "stream",
     "text": [
      "INFO 08-13 22:37:38 [importing.py:53] Triton module has been replaced with a placeholder.\n",
      "INFO 08-13 22:37:39 [__init__.py:239] Automatically detected platform cuda.\n"
     ]
    }
   ],
   "source": [
    "import os\n",
    "\n",
    "os.environ['HF_HOME'] = '/nas-ssd2/joykirat/.cache/huggingface'\n",
    "os.environ['CUDA_VISIBLE_DEVICES'] = '7'\n",
    "from transformers import AutoTokenizer, AutoModelForCausalLM\n",
    "from vllm import LLM\n",
    "\n",
    "tokenizer = AutoTokenizer.from_pretrained(\"Qwen/Qwen3-4B\")\n",
    "# model = LLM(model=\"Qwen/Qwen3-4B\", gpu_memory_utilization=0.95, tensor_parallel_size=1, task=\"embed\")\n",
    "\n",
    "\n",
    "\n"
   ]
  },
  {
   "cell_type": "code",
   "execution_count": 2,
   "id": "3f932fa0",
   "metadata": {},
   "outputs": [
    {
     "name": "stderr",
     "output_type": "stream",
     "text": [
      "Processed prompts: 100%|██████████| 1/1 [00:00<00:00,  2.65it/s, est. speed input: 0.00 toks/s, output: 0.00 toks/s]\n"
     ]
    },
    {
     "data": {
      "text/plain": [
       "[PoolingRequestOutput(request_id='0', outputs=PoolingOutput(data=tensor([ 0.0008,  0.0162, -0.0035,  ..., -0.0022, -0.0210,  0.0208])), prompt_token_ids=[9707, 11, 1879, 0, 220, 151668], finished=True)]"
      ]
     },
     "execution_count": 2,
     "metadata": {},
     "output_type": "execute_result"
    }
   ],
   "source": [
    "model.encode(\"Hello, world! </think>\")"
   ]
  },
  {
   "cell_type": "code",
   "execution_count": 5,
   "id": "739a2ddb",
   "metadata": {},
   "outputs": [],
   "source": [
    "import json\n",
    "data = []\n",
    "with open('/nas-ssd2/joykirat/code/verl-fork/verl/scripts/train/verlCheckpoint/Summary/qwen4b_dapo_math_10k_context_linear_reward_with_summary_attention/rollout/val_140.jsonl', 'r') as f:\n",
    "    for line in f:\n",
    "        data.append(json.loads(line))\n",
    "        "
   ]
  },
  {
   "cell_type": "code",
   "execution_count": 6,
   "id": "ead5a0ce",
   "metadata": {},
   "outputs": [
    {
     "name": "stdout",
     "output_type": "stream",
     "text": [
      "math-amc 0.7927710843373494 415\n",
      "gpqa 0.44771573604060916 985\n",
      "math-aime 0.45 440\n"
     ]
    }
   ],
   "source": [
    "import numpy as np\n",
    "\n",
    "accuracy_by_source = {}\n",
    "for line in data:\n",
    "    if line['data_source'] not in accuracy_by_source:\n",
    "        accuracy_by_source[line['data_source']] = []\n",
    "    accuracy_by_source[line['data_source']].append(line['final_reward'])\n",
    "    \n",
    "for source in accuracy_by_source:\n",
    "    mean_accuracy = np.mean(accuracy_by_source[source])\n",
    "    print(source, mean_accuracy, len(accuracy_by_source[source]))\n",
    "    \n",
    "    "
   ]
  },
  {
   "cell_type": "code",
   "execution_count": 7,
   "id": "1e19a2fc",
   "metadata": {},
   "outputs": [
    {
     "name": "stderr",
     "output_type": "stream",
     "text": [
      "100%|██████████| 1840/1840 [00:11<00:00, 162.69it/s]"
     ]
    },
    {
     "name": "stdout",
     "output_type": "stream",
     "text": [
      "math-amc 4156.530120481928 415\n",
      "gpqa 4193.119796954315 985\n",
      "math-aime 6651.779545454546 440\n"
     ]
    },
    {
     "name": "stderr",
     "output_type": "stream",
     "text": [
      "\n"
     ]
    }
   ],
   "source": [
    "import numpy as np\n",
    "response_length_list = {}\n",
    "from tqdm import tqdm\n",
    "for line in tqdm(data):\n",
    "    if line['data_source'] not in response_length_list:\n",
    "        response_length_list[line['data_source']] = []\n",
    "    response_length_list[line['data_source']].append(len(tokenizer.encode(line['response'])))\n",
    "    \n",
    "for source in response_length_list:\n",
    "    mean_response_length = np.mean(response_length_list[source])\n",
    "    print(source, mean_response_length, len(response_length_list[source]))\n",
    "    \n",
    "    \n",
    "    \n",
    "            \n",
    "            \n",
    "            "
   ]
  },
  {
   "cell_type": "code",
   "execution_count": 60,
   "id": "7828a9c2",
   "metadata": {},
   "outputs": [
    {
     "data": {
      "text/plain": [
       "\"<think>\\nOkay, so I need to figure out for how many integers n between 1 and 22 inclusive, the denominator k_n of the harmonic series H_n = 1 + 1/2 + 1/3 + ... + 1/n is less than L_n, the least common multiple of 1 through n. \\n\\nFirst, I remember that when you add fractions, the denominator of the sum is the least common multiple of the denominators divided by some factors. But since the harmonic series is being expressed in reduced form, the denominator k_n is L_n divided by some factors that come from the numerator. So, k_n = L_n / d, where d is the greatest common divisor of the numerator and L_n. Therefore, k_n < L_n is equivalent to d > 1. So, the question becomes: for how many n between 1 and 22 is the numerator of H_n (when expressed in lowest terms) not coprime with L_n?\\n\\nAlternatively, since H_n = h_n / k_n = (sum_{i=1}^n 1/i) = (some numerator) / L_n, but reduced. Therefore, k_n = L_n / gcd(numerator, L_n). Therefore, k_n < L_n iff gcd(numerator, L_n) > 1.\\n\\nTherefore, the problem reduces to finding for how many n from 1 to 22, the numerator of H_n is not coprime with L_n.\\n\\nAlternatively, since L_n is the LCM of 1 to n, which is divisible by all numbers from 1 to n. Therefore, the numerator of H_n must be divisible by some prime p ≤ n. Wait, but how does that relate?\\n\\nAlternatively, maybe I need to think about when the harmonic number H_n has a denominator that is not equal to L_n. That is, when the numerator and L_n share a common factor.\\n\\nBut how can I compute this?\\n\\nAlternatively, I recall that for harmonic numbers, the denominator k_n is equal to L_n divided by the product of primes p where p^2 divides L_n. Wait, no, that's not exactly right. Wait, maybe not. Let me think.\\n\\nAlternatively, I remember that for H_n, the denominator k_n is equal to L_n divided by the product of primes p where p divides the numerator. Wait, not sure.\\n\\nAlternatively, maybe I need to look for primes p such that p divides the numerator of H_n. If such a prime p exists, then since L_n is divisible by p, then k_n = L_n / gcd(numerator, L_n) would be less than L_n.\\n\\nTherefore, the question is equivalent to: for how many n between 1 and 22 is there a prime p ≤ n such that p divides the numerator of H_n?\\n\\nAlternatively, since H_n = sum_{i=1}^n 1/i, then the numerator of H_n is equal to sum_{i=1}^n L_n / i, divided by L_n. Therefore, the numerator is sum_{i=1}^n L_n / i. Therefore, the numerator is an integer, and the denominator is L_n. Therefore, the numerator is equal to sum_{i=1}^n L_n / i. Therefore, the numerator is divisible by p if and only if sum_{i=1}^n L_n / i is divisible by p.\\n\\nTherefore, for a prime p ≤ n, if sum_{i=1}^n L_n / i ≡ 0 mod p, then p divides the numerator, hence gcd(numerator, L_n) is at least p, so k_n = L_n / gcd(...) < L_n.\\n\\nTherefore, the problem reduces to: for each n from 1 to 22, check if there exists a prime p ≤ n such that sum_{i=1}^n L_n / i ≡ 0 mod p.\\n\\nAlternatively, since L_n is divisible by p, L_n / i is divisible by p if and only if i is not divisible by p. Wait, no. Wait, L_n is divisible by p, so L_n / i is divisible by p if and only if i is not divisible by p? Wait, no. Let me think.\\n\\nLet me take p as a prime. Then L_n is divisible by p. Let me consider L_n / i. If i is divisible by p, then L_n / i is divisible by p^{k - m}, where k is the exponent of p in L_n and m is the exponent of p in i. But since L_n is divisible by p, and i is between 1 and n, so if i is divisible by p, then L_n / i is divisible by p^{k - m} where m ≥ 1. Therefore, L_n / i is divisible by p^{k - m}.\\n\\nBut if i is not divisible by p, then L_n / i is divisible by p^{k} / i, but since i is not divisible by p, then L_n / i is divisible by p^{k} / something not divisible by p, so L_n / i is divisible by p^{k - 0} = p^k? Wait, no. Wait, L_n is divisible by p^k, where k is the exponent of p in L_n. Then L_n / i is divisible by p^k / i. But since i is not divisible by p, then i is coprime to p, so L_n / i is divisible by p^k. Therefore, L_n / i is divisible by p^k.\\n\\nTherefore, if i is not divisible by p, then L_n / i is divisible by p^k, so sum_{i=1}^n L_n / i is congruent to sum_{i not divisible by p} (multiple of p) + sum_{i divisible by p} (L_n / i). Therefore, modulo p, the sum is congruent to sum_{i divisible by p} (L_n / i) mod p.\\n\\nBut L_n is divisible by p, so L_n / i is divisible by p if i is not divisible by p, but if i is divisible by p, then L_n / i is divisible by p^{k - m} where m is the exponent of p in i.\\n\\nBut since p divides L_n, and i is divisible by p, then L_n / i is divisible by p^{k - m} where m ≥ 1.\\n\\nTherefore, if p divides L_n / i, then L_n / i ≡ 0 mod p. Therefore, the sum over i divisible by p of L_n / i ≡ 0 mod p.\\n\\nTherefore, the entire sum is congruent to 0 mod p. Therefore, the numerator is divisible by p. Therefore, for any prime p ≤ n, the numerator is divisible by p. Therefore, gcd(numerator, L_n) is at least p, so k_n = L_n / gcd(...) < L_n.\\n\\nWait, that can't be. Because for example, when n=1, H_1 = 1/1, so k_1 = 1, L_1 = 1, so k_1 = L_1. Therefore, for n=1, k_n = L_n. Therefore, the above reasoning must be wrong.\\n\\nWait, so where is the mistake?\\n\\nLet me check for n=1. p=1? No, p is prime. So p=2? But n=1, so p=2 is not ≤ n. Therefore, there is no prime p ≤ n. Therefore, the sum is over primes p ≤ n, which is empty. Therefore, the numerator is not divisible by any prime p ≤ n, so gcd(numerator, L_n) = 1, so k_n = L_n.\\n\\nTherefore, for n=1, k_n = L_n.\\n\\nSimilarly, for n=2, primes p ≤ 2: p=2.\\n\\nCheck if sum_{i=1}^2 L_n / i is divisible by 2.\\n\\nL_2 = 2.\\n\\nsum_{i=1}^2 L_n / i = 2/1 + 2/2 = 2 + 1 = 3. 3 mod 2 = 1 ≠ 0. Therefore, numerator is 3, which is not divisible by 2. Therefore, gcd(3, 2) = 1, so k_n = 2 / 1 = 2 = L_n. Therefore, k_n = L_n.\\n\\nTherefore, for n=2, k_n = L_n.\\n\\nWait, but according to the previous reasoning, if p divides the numerator, then k_n < L_n. But here, p=2 does not divide the numerator, so k_n = L_n.\\n\\nTherefore, the previous conclusion that for any prime p ≤ n, the numerator is divisible by p is wrong.\\n\\nTherefore, my mistake was in the reasoning that sum_{i=1}^n L_n / i ≡ 0 mod p. That is not necessarily true.\\n\\nTherefore, need to re-examine.\\n\\nLet me take p as a prime ≤ n.\\n\\nLet me compute sum_{i=1}^n L_n / i mod p.\\n\\nNote that L_n is divisible by p, so L_n = p * m for some integer m.\\n\\nTherefore, L_n / i = p * m / i.\\n\\nTherefore, sum_{i=1}^n L_n / i = p * sum_{i=1}^n m / i.\\n\\nTherefore, modulo p, this is 0 * sum(...) = 0 mod p? Wait, no. Wait, p * sum(...) is congruent to 0 mod p. Therefore, the entire sum is divisible by p. Therefore, the numerator is divisible by p. Therefore, the numerator is divisible by p. Therefore, gcd(numerator, L_n) is at least p, so k_n = L_n / gcd(...) < L_n.\\n\\nBut this contradicts the case n=2, where p=2 divides the numerator?\\n\\nWait, for n=2, the numerator is 3, which is not divisible by 2. Therefore, there is a contradiction here.\\n\\nWait, so where is the mistake?\\n\\nWait, L_n is 2. Then sum_{i=1}^2 L_n / i = 2/1 + 2/2 = 2 + 1 = 3. Therefore, 3 is not divisible by 2. Therefore, the previous reasoning is wrong.\\n\\nWait, but according to the previous step, sum_{i=1}^n L_n / i = p * sum_{i=1}^n m / i. Therefore, this is p * something, so it is divisible by p. Therefore, 3 is divisible by 2? No, 3 is not divisible by 2. Therefore, there is a mistake here.\\n\\nWait, L_n is 2, which is p * m where p=2 and m=1. Therefore, sum_{i=1}^n L_n / i = 2 * sum_{i=1}^n (1 / i). Wait, no. Wait, L_n / i is 2 / i. Therefore, sum_{i=1}^2 2 / i = 2 + 1 = 3. Therefore, 3 is not divisible by 2. Therefore, the previous reasoning is wrong.\\n\\nTherefore, my mistake was in the step where I said that L_n / i = p * m / i. But m is not necessarily an integer. Wait, no, L_n is divisible by p, so m is integer. Therefore, L_n / i = p * m / i. Therefore, sum_{i=1}^n L_n / i = p * sum_{i=1}^n m / i. Therefore, this is p * something. Therefore, it is divisible by p. Therefore, 3 is divisible by 2? No. Therefore, contradiction.\\n\\nTherefore, my mistake is that m is not an integer? Wait, no. L_n is divisible by p, so m is integer. Therefore, L_n / i is p * m / i. Therefore, sum_{i=1}^n L_n / i is p * sum_{i=1}^n m / i. Therefore, this is p * something. Therefore, it is divisible by p. Therefore, 3 is divisible by 2? No. Therefore, contradiction.\\n\\nTherefore, my mistake is that m is not an integer? Wait, no. Wait, L_n is divisible by p, so m is integer. Therefore, L_n / i is p * m / i. Therefore, sum_{i=1}^n L_n / i is p * sum_{i=1}^n m / i. Therefore, this is p * something. Therefore, it is divisible by p. Therefore, 3 is divisible by 2? No. Therefore, contradiction.\\n\\nTherefore, my mistake is that m is not an integer? Wait, no. Wait, L_n is divisible by p, so m is integer. Therefore, L_n / i is p * m / i. Therefore, sum_{i=1}^n L_n / i is p * sum_{i=1}^n m / i. Therefore, this is p * something. Therefore, it is divisible by p. Therefore, 3 is divisible by 2? No. Therefore, contradiction.\\n\\nTherefore, my mistake is that m is not an integer? Wait, no. Wait, L_n is divisible by p, so m is integer. Therefore, L_n / i is p * m / i. Therefore, sum_{i=1}^n L_n / i is p * sum_{i=1}^n m / i. Therefore, this is p * something. Therefore, it is divisible by p. Therefore, 3 is divisible by 2? No. Therefore, contradiction.\\n\\nTherefore, my mistake is that m is not an integer? Wait, no. Wait, L_n is divisible by p, so m is integer. Therefore, L_n / i is p * m / i. Therefore, sum_{i=1}^n L_n / i is p * sum_{i=1}^n m / i. Therefore, this is p * something. Therefore, it is divisible by p. Therefore, 3 is divisible by 2? No. Therefore, contradiction.\\n\\nTherefore, my mistake is that m is not an integer? Wait, no. Wait, L_n is divisible by p, so m is integer. Therefore, L_n / i is p * m / i. Therefore, sum_{i=1}^n L_n / i is p * sum_{i=1}^n m / i. Therefore, this is p * something. Therefore, it is divisible by p. Therefore, 3 is divisible by 2? No. Therefore, contradiction.\\n\\nTherefore, my mistake is that m is not an integer? Wait, no. Wait, L_n is divisible by p, so m is integer. Therefore, L_n / i is p * m / i. Therefore, sum_{i=1}^n L_n / i is p * sum_{i=1}^n m / i. Therefore, this is p * something. Therefore, it is divisible by p. Therefore, 3 is divisible by 2? No. Therefore, contradiction.\\n\\nTherefore, my mistake is that m is not an integer? Wait, no. Wait, L_n is divisible by p, so m is integer. Therefore, L_n / i is p * m / i. Therefore, sum_{i=1}^n L_n / i is p * sum_{i=1}^n m / i. Therefore, this is p * something. Therefore, it is divisible by p. Therefore, 3 is divisible by 2? No. Therefore, contradiction.\\n\\nTherefore, my mistake is that m is not an integer? Wait, no. Wait, L_n is divisible by p, so m is integer. Therefore, L_n / i is p * m / i. Therefore, sum_{i=1}^n L_n / i is p * sum_{i=1}^n m / i. Therefore, this is p * something. Therefore, it is divisible by p. Therefore, 3 is divisible by 2? No. Therefore, contradiction.\\n\\nTherefore, my mistake is that m is not an integer? Wait, no. Wait, L_n is divisible by p, so m is integer. Therefore, L_n / i is p * m / i. Therefore, sum_{i=1}^n L_n / i is p * sum_{i=1}^n m / i. Therefore, this is p * something. Therefore, it is divisible by p. Therefore, 3 is divisible by 2? No. Therefore, contradiction.\\n\\nTherefore, my mistake is that m is not an integer? Wait, no. Wait, L_n is divisible by p, so m is integer. Therefore, L_n / i is p * m / i. Therefore, sum_{i=1}^n L_n / i is p * sum_{i=1}^n m / i. Therefore, this is p * something. Therefore, it is divisible by p. Therefore, 3 is divisible by 2? No. Therefore, contradiction.\\n\\nTherefore, my mistake is that m is not an integer? Wait, no. Wait, L_n is divisible by p, so m is integer. Therefore, L_n / i is p * m / i. Therefore, sum_{i=1}^n L_n / i is p * sum_{i=1}^n m / i. Therefore, this is p * something. Therefore, it is divisible by p. Therefore, 3 is divisible by 2? No. Therefore, contradiction.\\n\\nTherefore, my mistake is that m is not an integer? Wait, no. Wait, L_n is divisible by p, so m is integer. Therefore, L_n / i is p * m / i. Therefore, sum_{i=1}^n L_n / i is p * sum_{i=1}^n m / i. Therefore, this is p * something. Therefore, it is divisible by p. Therefore, 3 is divisible by 2? No. Therefore, contradiction.\\n\\nTherefore, my mistake is that m is not an integer? Wait, no. Wait, L_n is divisible by p, so m is integer. Therefore, L_n / i is p * m / i. Therefore, sum_{i=1}^n L_n / i is p * sum_{i=1}^n m / i. Therefore, this is p * something. Therefore, it is divisible by p. Therefore, 3 is divisible by 2? No. Therefore, contradiction.\\n\\nTherefore, my mistake is that m is not an integer? Wait, no. Wait, L_n is divisible by p, so m is integer. Therefore, L_n / i is p * m / i. Therefore, sum_{i=1}^n L_n / i is p * sum_{i=1}^n m / i. Therefore, this is p * something. Therefore, it is divisible by p. Therefore, 3 is divisible by 2? No. Therefore, contradiction.\\n\\nTherefore, my mistake is that m is not an integer? Wait, no. Wait, L_n is divisible by p, so m is integer. Therefore, L_n / i is p * m / i. Therefore, sum_{i=1}^n L_n / i is p * sum_{i=1}^n m / i. Therefore, this is p * something. Therefore, it is divisible by p. Therefore, 3 is divisible by 2? No. Therefore, contradiction.\\n\\nTherefore, my mistake is that m is not an integer? Wait, no. Wait, L_n is divisible by p, so m is integer. Therefore, L_n / i is p * m / i. Therefore, sum_{i=1}^n L_n / i is p * sum_{i=1}^n m / i. Therefore, this is p * something. Therefore, it is divisible by p. Therefore, 3 is divisible by 2? No. Therefore, contradiction.\\n\\nTherefore, my mistake is that m is not an integer? Wait, no. Wait, L_n is divisible by p, so m is integer. Therefore, L_n / i is p * m / i. Therefore, sum_{i=1}^n L_n / i is p * sum_{i=1}^n m / i. Therefore, this is p * something. Therefore, it is divisible by p. Therefore, 3 is divisible by 2? No. Therefore, contradiction.\\n\\nTherefore, my mistake is that m is not an integer? Wait, no. Wait, L_n is divisible by p, so m is integer. Therefore, L_n / i is p * m / i. Therefore, sum_{i=1}^n L_n / i is p * sum_{i=1}^n m / i. Therefore, this is p * something. Therefore, it is divisible by p. Therefore, 3 is divisible by 2? No. Therefore, contradiction.\\n\\nTherefore, my mistake is that m is not an integer? Wait, no. Wait, L_n is divisible by p, so m is integer. Therefore, L_n / i is p * m / i. Therefore, sum_{i=1}^n L_n / i is p * sum_{i=1}^n m / i. Therefore, this is p * something. Therefore, it is divisible by p. Therefore, 3 is divisible by 2? No. Therefore, contradiction.\\n\\nTherefore, my mistake is that m is not an integer? Wait, no. Wait, L_n is divisible by p, so m is integer. Therefore, L_n / i is p * m / i. Therefore, sum_{i=1}^n L_n / i is p * sum_{i=1}^n m / i. Therefore, this is p * something. Therefore, it is divisible by p. Therefore, 3 is divisible by 2? No. Therefore, contradiction.\\n\\nTherefore, my mistake is that m is not an integer? Wait, no. Wait, L_n is divisible by p, so m is integer. Therefore, L_n / i is p * m / i. Therefore, sum_{i=1}^n L_n / i is p * sum_{i=1}^n m / i. Therefore, this is p * something. Therefore, it is divisible by p. Therefore, 3 is divisible by 2? No. Therefore, contradiction.\\n\\nTherefore, my mistake is that m is not an integer? Wait, no. Wait, L_n is divisible by p, so m is integer. Therefore, L_n / i is p * m / i. Therefore, sum_{i=1}^n L_n / i is p * sum_{i=1}^n m / i. Therefore, this is p * something. Therefore, it is divisible by p. Therefore, 3 is divisible by 2? No. Therefore, contradiction.\\n\\nTherefore, my mistake is that m is not an integer? Wait, no. Wait, L_n is divisible by p, so m is integer. Therefore, L_n / i is p * m / i. Therefore, sum_{i=1}^n L_n / i is p * sum_{i=1}^n m / i. Therefore, this is p * something. Therefore, it is divisible by p. Therefore, 3 is divisible by 2? No. Therefore, contradiction.\\n\\nTherefore, my mistake is that m is not an integer? Wait, no. Wait, L_n is divisible by p, so m is integer. Therefore, L_n / i is p * m / i. Therefore, sum_{i=1}^n L_n / i is p * sum_{i=1}^n m / i. Therefore, this is p * something. Therefore, it is divisible by p. Therefore, 3 is divisible by 2? No. Therefore, contradiction.\\n\\nTherefore, my mistake is that m is not an integer? Wait, no. Wait, L_n is divisible by p, so m is integer. Therefore, L_n / i is p * m / i. Therefore, sum_{i=1}^n L_n / i is p * sum_{i=1}^n m / i. Therefore, this is p * something. Therefore, it is divisible by p. Therefore, 3 is divisible by 2? No. Therefore, contradiction.\\n\\nTherefore, my mistake is that m is not an integer? Wait, no. Wait, L_n is divisible by p, so m is integer. Therefore, L_n / i is p * m / i. Therefore, sum_{i=1}^n L_n / i is p * sum_{i=1}^n m / i. Therefore, this is p * something. Therefore, it is divisible by p. Therefore, 3 is divisible by 2? No. Therefore, contradiction.\\n\\nTherefore, my mistake is that m is not an integer? Wait, no. Wait, L_n is divisible by p, so m is integer. Therefore, L_n / i is p * m / i. Therefore, sum_{i=1}^n L_n / i is p * sum_{i=1}^n m / i. Therefore, this is p * something. Therefore, it is divisible by p. Therefore, 3 is divisible by 2? No. Therefore, contradiction.\\n\\nTherefore, my mistake is that m is not an integer? Wait, no. Wait, L_n is divisible by p, so m is integer. Therefore, L_n / i is p * m / i. Therefore, sum_{i=1}^n L_n / i is p * sum_{i=1}^n m / i. Therefore, this is p * something. Therefore, it is divisible by p. Therefore, 3 is divisible by 2? No. Therefore, contradiction.\\n\\nTherefore, my mistake is that m is not an integer? Wait, no. Wait, L_n is divisible by p, so m is integer. Therefore, L_n / i is p * m / i. Therefore, sum_{i=1}^n L_n / i is p * sum_{i=1}^n m / i. Therefore, this is p * something. Therefore, it is divisible by p. Therefore, 3 is divisible by 2? No. Therefore, contradiction.\\n\\nTherefore, my mistake is that m is not an integer? Wait, no. Wait, L_n is divisible by p, so m is integer. Therefore, L_n / i is p * m / i. Therefore, sum_{i=1}^n L_n / i is p * sum_{i=1}^n m / i. Therefore, this is p * something. Therefore, it is divisible by p. Therefore, 3 is divisible by 2? No. Therefore, contradiction.\\n\\nTherefore, my mistake is that m is not an integer? Wait, no. Wait, L_n is divisible by p, so m is integer. Therefore, L_n / i is p * m / i. Therefore, sum_{i=1}^n L_n / i is p * sum_{i=1}^n m / i. Therefore, this is p * something. Therefore, it is divisible by p. Therefore, 3 is divisible by 2? No. Therefore, contradiction.\\n\\nTherefore, my mistake is that m is not an integer? Wait, no. Wait, L_n is divisible by p, so m is integer. Therefore, L_n / i is p * m / i. Therefore, sum_{i=1}^n L_n / i is p * sum_{i=1}^n m / i. Therefore, this is p * something. Therefore, it is divisible by p. Therefore, 3 is divisible by 2? No. Therefore, contradiction.\\n\\nTherefore, my mistake is that m is not an integer? Wait, no. Wait, L_n is divisible by p, so m is integer. Therefore, L_n / i is p * m / i. Therefore, sum_{i=1}^n L_n / i is p * sum_{i=1}^n m / i. Therefore, this is p * something. Therefore, it is divisible by p. Therefore, 3 is divisible by 2? No. Therefore, contradiction.\\n\\nTherefore, my mistake is that m is not an integer? Wait, no. Wait, L_n is divisible by p, so m is integer. Therefore, L_n / i is p * m / i. Therefore, sum_{i=1}^n L_n / i is p * sum_{i=1}^n m / i. Therefore, this is p * something. Therefore, it is divisible by p. Therefore, 3 is divisible by 2? No. Therefore, contradiction.\\n\\nTherefore, my mistake is that m is not an integer? Wait, no. Wait, L_n is divisible by p, so m is integer. Therefore, L_n / i is p * m / i. Therefore, sum_{i=1}^n L_n / i is p * sum_{i=1}^n m / i. Therefore, this is p * something. Therefore, it is divisible by p. Therefore, 3 is divisible by 2? No. Therefore, contradiction.\\n\\nTherefore, my mistake is that m is not an integer? Wait, no. Wait, L_n is divisible by p, so m is integer. Therefore, L_n / i is p * m / i. Therefore, sum_{i=1}^n L_n / i is p * sum_{i=1}^n m / i. Therefore, this is p * something. Therefore, it is divisible by p. Therefore, 3 is divisible by 2? No. Therefore, contradiction.\\n\\nTherefore, my mistake is that m is not an integer? Wait, no. Wait, L_n is divisible by p, so m is integer. Therefore, L_n / i is p * m / i. Therefore, sum_{i=1}^n L_n / i is p * sum_{i=1}^n m / i. Therefore, this is p * something. Therefore, it is divisible by p. Therefore, 3 is divisible by 2? No. Therefore, contradiction.\\n\\nTherefore, my mistake is that m is not an integer? Wait, no. Wait, L_n is divisible by p, so m is integer. Therefore, L_n / i is p * m / i. Therefore, sum_{i=1}^n L_n / i is p * sum_{i=1}^n m / i. Therefore, this is p * something. Therefore, it is divisible by p. Therefore, 3 is divisible by 2? No. Therefore, contradiction.\\n\\nTherefore, my mistake is that m is not an integer? Wait, no. Wait, L_n is divisible by p, so m is integer. Therefore, L_n / i is p * m / i. Therefore, sum_{i=1}^n L_n / i is p * sum_{i=1}^n m / i. Therefore, this is p * something. Therefore, it is divisible by p. Therefore, 3 is divisible by 2? No. Therefore, contradiction.\\n\\nTherefore, my mistake is that m is not an integer? Wait, no. Wait, L_n is divisible by p, so m is integer. Therefore, L_n / i is p * m / i. Therefore, sum_{i=1}^n L_n / i is p * sum_{i=1}^n m / i. Therefore, this is p * something. Therefore, it is divisible by p. Therefore, 3 is divisible by 2? No. Therefore, contradiction.\\n\\nTherefore, my mistake is that m is not an integer? Wait, no. Wait, L_n is divisible by p, so m is integer. Therefore, L_n / i is p * m / i. Therefore, sum_{i=1}^n L_n / i is p * sum_{i=1}^n m / i. Therefore, this is p * something. Therefore, it is divisible by p. Therefore, 3 is divisible by 2? No. Therefore, contradiction.\\n\\nTherefore, my mistake is that m is not an integer? Wait, no. Wait, L_n is divisible by p, so m is integer. Therefore, L_n / i is p * m / i. Therefore, sum_{i=1}^n L_n / i is p * sum_{i=1}^n m / i. Therefore, this is p * something. Therefore, it is divisible by p. Therefore, 3 is divisible by 2? No. Therefore, contradiction.\\n\\nTherefore, my mistake is that m is not an integer? Wait, no. Wait, L_n is divisible by p, so m is integer. Therefore, L_n / i is p * m / i. Therefore, sum_{i=1}^n L_n / i is p * sum_{i=1}^n m / i. Therefore, this is p * something. Therefore, it is divisible by p. Therefore, 3 is divisible by 2? No. Therefore, contradiction.\\n\\nTherefore, my mistake is that m is not an integer? Wait, no. Wait, L_n is divisible by p, so m is integer. Therefore, L_n / i is p * m / i. Therefore, sum_{i=1}^n L_n / i is p * sum_{i=1}^n m / i. Therefore, this is p * something. Therefore, it is divisible by p. Therefore, 3 is divisible by 2? No. Therefore, contradiction.\\n\\nTherefore, my mistake is that m is not an integer? Wait, no. Wait, L_n is divisible by p, so m is integer. Therefore, L_n / i is p * m / i. Therefore, sum_{i=1}^n L_n / i is p * sum_{i=1}^n m / i. Therefore, this is p * something. Therefore, it is divisible by p. Therefore, 3 is divisible by 2? No. Therefore, contradiction.\\n\\nTherefore, my mistake is that m is not an integer? Wait, no. Wait, L_n is divisible by p, so m is integer. Therefore, L_n / i is p * m / i. Therefore, sum_{i=1}^n L_n / i is p * sum_{i=1}^n m / i. Therefore, this is p * something. Therefore, it is divisible by p. Therefore, 3 is divisible by 2? No. Therefore, contradiction.\\n\\nTherefore, my mistake is that m is not an integer? Wait, no. Wait, L_n is divisible by p, so m is integer. Therefore, L_n / i is p * m / i. Therefore, sum_{i=1}^n L_n / i is p * sum_{i=1}^n m / i. Therefore, this is p * something. Therefore, it is divisible by p. Therefore, 3 is divisible by 2? No. Therefore, contradiction.\\n\\nTherefore, my mistake is that m is not an integer? Wait, no. Wait, L_n is divisible by p, so m is integer. Therefore, L_n / i is p * m / i. Therefore, sum_{i=1}^n L_n / i is p * sum_{i=1}^n m / i. Therefore, this is p * something. Therefore, it is divisible by p. Therefore, 3 is divisible by 2? No. Therefore, contradiction.\\n\\nTherefore, my mistake is that m is not an integer? Wait, no. Wait, L_n is divisible by p, so m is integer. Therefore, L_n / i is p * m / i. Therefore, sum_{i=1}^n L_n / i is p * sum_{i=1}^n m / i. Therefore, this is p * something. Therefore, it is divisible by p. Therefore, 3 is divisible by 2? No. Therefore, contradiction.\\n\\nTherefore, my mistake is that m is not an integer? Wait, no. Wait, L_n is divisible by p, so m is integer. Therefore, L_n / i is p * m / i. Therefore, sum_{i=1}^n L_n / i is p * sum_{i=1}^n m / i. Therefore, this is p * something. Therefore, it is divisible by p. Therefore, 3 is divisible by 2? No. Therefore, contradiction.\\n\\nTherefore, my mistake is that m is not an integer? Wait, no. Wait, L_n is divisible by p, so m is integer. Therefore, L_n / i is p * m / i. Therefore, sum_{i=1}^n L_n / i is p * sum_{i=1}^n m / i. Therefore, this is p * something. Therefore, it is divisible by p. Therefore, 3 is divisible by 2? No. Therefore, contradiction.\\n\\nTherefore, my mistake is that m is not an integer? Wait, no. Wait, L_n is divisible by p, so m is integer. Therefore, L_n / i is p * m / i. Therefore, sum_{i=1}^n L_n / i is p * sum_{i=1}^n m / i. Therefore, this is p * something. Therefore, it is divisible by p. Therefore, 3 is divisible by 2? No. Therefore, contradiction.\\n\\nTherefore, my mistake is that m is not an integer? Wait, no. Wait, L_n is divisible by p, so m is integer. Therefore, L_n / i is p * m / i. Therefore, sum_{i=1}^n L_n / i is p * sum_{i=1}^n m / i. Therefore, this is p * something. Therefore, it is divisible by p. Therefore, 3 is divisible by 2? No. Therefore, contradiction.\\n\\nTherefore, my mistake is that m is not an integer? Wait, no. Wait, L_n is divisible by p, so m is integer. Therefore, L_n / i is p * m / i. Therefore, sum_{i=1}^n L_n / i is p * sum_{i=1}^n m / i. Therefore, this is p * something. Therefore, it is divisible by p. Therefore, 3 is divisible by 2? No. Therefore, contradiction.\\n\\nTherefore, my mistake is that m is not an integer? Wait, no. Wait, L_n is divisible by p, so m is integer. Therefore, L_n / i is p * m / i. Therefore, sum_{i=1}^n L_n / i is p * sum_{i=1}^n m / i. Therefore, this is p * something. Therefore, it is divisible by p. Therefore, 3 is divisible by 2? No. Therefore, contradiction.\\n\\nTherefore, my mistake is that m is not an integer? Wait, no. Wait, L_n is divisible by p, so m is integer. Therefore, L_n / i is p * m / i. Therefore, sum_{i=1}^n L_n / i is p * sum_{i=1}^n m / i. Therefore, this is p * something. Therefore, it is divisible by p. Therefore, 3 is divisible by 2? No. Therefore, contradiction.\\n\\nTherefore, my mistake is that m is not an integer? Wait, no. Wait, L_n is divisible by p, so m is integer. Therefore, L_n / i is p * m / i. Therefore, sum_{i=1}^n L_n / i is p * sum_{i=1}^n m / i. Therefore, this is p * something. Therefore, it is divisible by p. Therefore, 3 is divisible by 2? No. Therefore, contradiction.\\n\\nTherefore, my mistake is that m is not an integer? Wait, no. Wait, L_n is divisible by p, so m is integer. Therefore, L_n / i is p * m / i. Therefore, sum_{i=1}^n L_n / i is p * sum_{i=1}^n m / i. Therefore, this is p * something. Therefore, it is divisible by p. Therefore, 3 is divisible by 2? No. Therefore, contradiction.\\n\\nTherefore, my mistake is that m is not an integer? Wait, no. Wait, L_n is divisible by p, so m is integer. Therefore, L_n / i is p * m / i. Therefore, sum_{i=1}^n L_n / i is p * sum_{i=1}^n m / i. Therefore, this is p * something. Therefore, it is divisible by p. Therefore, 3 is divisible by 2? No. Therefore, contradiction.\\n\\nTherefore, my mistake is that m is not an integer? Wait, no. Wait, L_n is divisible by p, so m is integer. Therefore, L_n / i is p * m / i. Therefore, sum_{i=1}^n L_n / i is p * sum_{i=1}^n m / i. Therefore, this is p * something. Therefore, it is divisible by p. Therefore, 3 is divisible by 2? No. Therefore, contradiction.\\n\\nTherefore, my mistake is that m is not an integer? Wait, no. Wait, L_n is divisible by p, so m is integer. Therefore, L_n / i is p * m / i. Therefore, sum_{i=1}^n L_n / i is p * sum_{i=1}^n m / i. Therefore, this is p * something. Therefore, it is divisible by p. Therefore, 3 is divisible by 2? No. Therefore, contradiction.\\n\\nTherefore, my mistake is that m is not an integer? Wait, no. Wait, L_n is divisible by p, so m is integer. Therefore, L_n / i is p * m / i. Therefore, sum_{i=1}^n L_n / i is p * sum_{i=1}^n m / i. Therefore, this is p * something. Therefore, it is divisible by p. Therefore, 3 is divisible by 2? No. Therefore, contradiction.\\n\\nTherefore, my mistake is that m is not an integer? Wait, no. Wait, L_n is divisible by p, so m is integer. Therefore, L_n / i is p * m / i. Therefore, sum_{i=1}^n L_n / i is p * sum_{i=1}^n m / i. Therefore, this is p * something. Therefore, it is divisible by p. Therefore, 3 is divisible by 2? No. Therefore, contradiction.\\n\\nTherefore, my mistake is that m is not an integer? Wait, no. Wait, L_n is divisible by p, so m is integer. Therefore, L_n / i is p * m / i. Therefore, sum_{i=1}^n L_n / i is p * sum_{i=1}^n m / i. Therefore, this is p * something. Therefore, it is divisible by p. Therefore, 3 is divisible by 2? No. Therefore, contradiction.\\n\\nTherefore, my mistake is that m is not an integer? Wait, no. Wait, L_n is divisible by p, so m is integer. Therefore, L_n / i is p * m / i. Therefore, sum_{i=1}^n L_n / i is p * sum_{i=1}^n m / i. Therefore, this is p * something. Therefore, it is divisible by p. Therefore, 3 is divisible by 2? No. Therefore, contradiction.\\n\\nTherefore, my mistake is that m is not an integer? Wait, no. Wait, L_n is divisible by p, so m is integer. Therefore, L_n / i is p * m / i. Therefore, sum_{i=1}^n L_n / i is p * sum_{i=1}^n m / i. Therefore, this is p * something. Therefore, it is divisible by p. Therefore, 3 is divisible by 2? No. Therefore, contradiction.\\n\\nTherefore, my mistake is that m is not an integer? Wait, no. Wait, L_n is divisible by p, so m is integer. Therefore, L_n / i is p * m / i. Therefore, sum_{i=1}^n L_n / i is p * sum_{i=1}^n m / i. Therefore, this is p * something. Therefore, it is divisible by p. Therefore, 3 is divisible by 2? No. Therefore, contradiction.\\n\\nTherefore, my mistake is that m is not an integer? Wait, no. Wait, L_n is divisible by p, so m is integer. Therefore, L_n / i is p * m / i. Therefore, sum_{i=1}^n L_n / i is p * sum_{i=1}^n m / i. Therefore, this is p * something. Therefore, it is divisible by p. Therefore, 3 is divisible by 2? No. Therefore, contradiction.\\n\\nTherefore, my mistake is that m is not an integer? Wait, no. Wait, L_n is divisible by p, so m is integer. Therefore, L_n / i is p * m / i. Therefore, sum_{i=1}^n L_n / i is p * sum_{i=1}^n m / i. Therefore, this is p * something. Therefore, it is divisible by p. Therefore, 3 is divisible by 2? No. Therefore, contradiction.\\n\\nTherefore, my mistake is that m is not an integer? Wait, no. Wait, L_n is divisible by p, so m is integer. Therefore, L_n / i is p * m / i. Therefore, sum_{i=1}^n L_n / i is p * sum_{i=1}^n m / i. Therefore, this is p * something. Therefore, it is divisible by p. Therefore, 3 is divisible by 2? No. Therefore, contradiction.\\n\\nTherefore, my mistake is that m is not an integer? Wait, no. Wait, L_n is divisible by p, so m is integer. Therefore, L_n / i is p * m / i. Therefore, sum_{i=1}^n L_n / i is p * sum_{i=1}^n m / i. Therefore, this is p * something. Therefore, it is divisible by p. Therefore, 3 is\""
      ]
     },
     "execution_count": 60,
     "metadata": {},
     "output_type": "execute_result"
    }
   ],
   "source": [
    "line['response']"
   ]
  },
  {
   "cell_type": "code",
   "execution_count": 61,
   "id": "fa28c910",
   "metadata": {},
   "outputs": [
    {
     "data": {
      "text/plain": [
       "10000"
      ]
     },
     "execution_count": 61,
     "metadata": {},
     "output_type": "execute_result"
    }
   ],
   "source": [
    "len(tokenizer.encode(line['response']))"
   ]
  },
  {
   "cell_type": "code",
   "execution_count": null,
   "id": "d81e6485",
   "metadata": {},
   "outputs": [],
   "source": []
  }
 ],
 "metadata": {
  "kernelspec": {
   "display_name": "venv",
   "language": "python",
   "name": "python3"
  },
  "language_info": {
   "codemirror_mode": {
    "name": "ipython",
    "version": 3
   },
   "file_extension": ".py",
   "mimetype": "text/x-python",
   "name": "python",
   "nbconvert_exporter": "python",
   "pygments_lexer": "ipython3",
   "version": "3.12.3"
  }
 },
 "nbformat": 4,
 "nbformat_minor": 5
}
