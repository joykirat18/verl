{
 "cells": [
  {
   "cell_type": "code",
   "execution_count": 8,
   "id": "2ddc1af8",
   "metadata": {},
   "outputs": [],
   "source": [
    "data_source = ['math-amc', 'math-aime', 'gpqa']"
   ]
  },
  {
   "cell_type": "code",
   "execution_count": 20,
   "id": "5217088d",
   "metadata": {},
   "outputs": [],
   "source": [
    "import os\n",
    "\n",
    "os.environ['HF_HOME'] = '/nas-ssd2/joykirat/.cache/huggingface'\n",
    "\n",
    "from transformers import AutoTokenizer, AutoModelForCausalLM\n",
    "\n",
    "tokenizer = AutoTokenizer.from_pretrained(\"Qwen/Qwen3-4B\")\n",
    "\n",
    "\n",
    "\n"
   ]
  },
  {
   "cell_type": "code",
   "execution_count": 35,
   "id": "739a2ddb",
   "metadata": {},
   "outputs": [],
   "source": [
    "import json\n",
    "data = []\n",
    "with open('/nas-ssd2/joykirat/code/verl-fork/verl/scripts/train/verlCheckpoint/Summary/qwen4b_dapo_math_10k_context_distributed_reward_with_summary/rollout/val_160.jsonl', 'r') as f:\n",
    "    for line in f:\n",
    "        data.append(json.loads(line))\n",
    "        "
   ]
  },
  {
   "cell_type": "code",
   "execution_count": 36,
   "id": "ead5a0ce",
   "metadata": {},
   "outputs": [
    {
     "name": "stdout",
     "output_type": "stream",
     "text": [
      "math-amc 0.7349397590361446 83\n",
      "gpqa 0.43147208121827413 197\n",
      "math-aime 0.3707865168539326 89\n"
     ]
    }
   ],
   "source": [
    "import numpy as np\n",
    "\n",
    "accuracy_by_source = {}\n",
    "for line in data:\n",
    "    if line['data_source'] not in accuracy_by_source:\n",
    "        accuracy_by_source[line['data_source']] = []\n",
    "    accuracy_by_source[line['data_source']].append(line['final_reward'])\n",
    "    \n",
    "for source in accuracy_by_source:\n",
    "    mean_accuracy = np.mean(accuracy_by_source[source])\n",
    "    print(source, mean_accuracy, len(accuracy_by_source[source]))\n",
    "    \n",
    "    "
   ]
  },
  {
   "cell_type": "code",
   "execution_count": 37,
   "id": "1e19a2fc",
   "metadata": {},
   "outputs": [
    {
     "name": "stdout",
     "output_type": "stream",
     "text": [
      "math-amc 6172.722891566265\n",
      "gpqa 6799.66497461929\n",
      "math-aime 8532.0\n"
     ]
    }
   ],
   "source": [
    "import numpy as np\n",
    "response_length_list = {}\n",
    "for line in data:\n",
    "    if line['data_source'] not in response_length_list:\n",
    "        response_length_list[line['data_source']] = []\n",
    "    response_length_list[line['data_source']].append(len(tokenizer.encode(line['response'])))\n",
    "    \n",
    "for source in response_length_list:\n",
    "    mean_response_length = np.mean(response_length_list[source])\n",
    "    print(source, mean_response_length)\n",
    "    \n",
    "    \n",
    "    \n",
    "            \n",
    "            \n",
    "            "
   ]
  },
  {
   "cell_type": "code",
   "execution_count": 24,
   "id": "7828a9c2",
   "metadata": {},
   "outputs": [
    {
     "data": {
      "text/plain": [
       "\"<think>\\nOkay, so I need to find the area of triangle ABC, which is an isosceles right triangle with a right angle at A. There's a point P inside the triangle such that the angles PAB, PBC, and PCA are all equal. Also, AP is given as 10. Hmm, okay. Let me try to visualize this.\\n\\nFirst, since ABC is an isosceles right triangle with the right angle at A, that means sides AB and AC are equal in length, and BC is the hypotenuse. Let me denote AB = AC = x, so BC would be x√2. The area of ABC would then be (x²)/2, so if I can find x, I can compute the area.\\n\\nNow, there's a point P inside the triangle such that angle PAB = angle PBC = angle PCA. Let me denote this common angle as θ. So, angle PAB = θ, angle PBC = θ, angle PCA = θ. Also, AP = 10. I need to relate these angles and the length AP to find x.\\n\\nSince ABC is a right triangle, maybe I can use coordinate geometry. Let me place point A at the origin (0,0), point B at (x, 0), and point C at (0, x). Then, BC would be the hypotenuse from (x, 0) to (0, x). Then, point P is somewhere inside this triangle.\\n\\nLet me denote the coordinates of P as (p, q). Then, angle PAB is the angle between AP and AB. Since AB is along the x-axis from A(0,0) to B(x,0), the vector AB is (x, 0). The vector AP is (p, q). The angle between AP and AB is θ. Similarly, angle PBC is the angle between BP and BC, and angle PCA is the angle between CP and CA. Hmm, maybe I need to use trigonometric relationships or coordinate geometry to express these angles.\\n\\nAlternatively, maybe using trigonometric identities or some properties of triangles. Since the angles are equal, maybe there's some symmetry or specific ratios.\\n\\nAlternatively, maybe using Ceva's theorem? Ceva's theorem relates the ratios of segments created by cevians in a triangle. But since we have angles given, maybe trigonometric Ceva's theorem is more appropriate.\\n\\nTrigonometric Ceva's theorem states that for concurrent cevians from A, B, C, the following holds:\\n\\n[sin(angle PAB)/sin(angle PAC)] * [sin(angle PBC)/sin(angle PBA)] * [sin(angle PCA)/sin(angle PCB)] = 1\\n\\nBut in our case, angles PAB, PBC, and PCA are all equal to θ. Let me try to apply this.\\n\\nFirst, let me note the angles. Let me denote:\\n\\nAt vertex A: angle PAB = θ, and angle PAC would be angle between AP and AC. Since angle BAC is 90°, angle PAC = 90° - θ.\\n\\nAt vertex B: angle PBC = θ, and angle PBA would be angle between BP and BA. Since angle ABC is 45°, because ABC is an isosceles right triangle, so angle ABC = angle ACB = 45°. Therefore, angle PBA = angle ABC - angle PBC = 45° - θ.\\n\\nAt vertex C: angle PCA = θ, and angle PCB would be angle between CP and CB. Since angle ACB is 45°, angle PCB = 45° - θ.\\n\\nSo, applying trigonometric Ceva:\\n\\n[sin(θ)/sin(90° - θ)] * [sin(θ)/sin(45° - θ)] * [sin(θ)/sin(45° - θ)] = 1\\n\\nSimplify this:\\n\\n[sinθ / cosθ] * [sinθ / sin(45° - θ)]² = 1\\n\\nSo:\\n\\ntanθ * [sin²θ / sin²(45° - θ)] = 1\\n\\nHmm, that seems complicated, but maybe I can solve for θ.\\n\\nAlternatively, maybe I can find relations between the sides using coordinates. Let me try that approach.\\n\\nLet me denote coordinates again: A(0,0), B(x,0), C(0,x). Let P be (p, q). Then, angle PAB = θ. The angle between AP and AB. Since AB is along the x-axis, the slope of AP is q/p. Therefore, tanθ = q/p.\\n\\nSimilarly, angle PBC = θ. Let me think about angle PBC. Point B is at (x, 0). The line BP goes from B(x,0) to P(p, q). The angle between BP and BC. Let me find the direction of BC. Since BC goes from B(x,0) to C(0,x), so direction vector is (-x, x). The line BP goes from B(x,0) to P(p, q), direction vector is (p - x, q - 0) = (p - x, q). The angle between BP and BC is θ. Therefore, the tangent of θ can be found by the formula for the angle between two vectors.\\n\\nAlternatively, maybe using coordinates to find slopes. The slope of BC is (x - 0)/(0 - x) = -1. The slope of BP is (q - 0)/(p - x) = q/(p - x). The angle between BP and BC is θ. The tangent of the angle between two lines with slopes m1 and m2 is |(m2 - m1)/(1 + m1m2)|. So:\\n\\ntanθ = |(m_BP - m_BC)/(1 + m_BP * m_BC)|\\n\\nSo m_BP = q/(p - x), m_BC = -1. Therefore:\\n\\ntanθ = |[q/(p - x) - (-1)] / [1 + (q/(p - x))*(-1)]| = |[q/(p - x) + 1]/[1 - q/(p - x)]|\\n\\nSimplify numerator and denominator:\\n\\nNumerator: [q + (p - x)] / (p - x) = (p - x + q)/(p - x)\\n\\nDenominator: [ (p - x) - q ] / (p - x )\\n\\nTherefore tanθ = | [ (p - x + q) / (p - x) ] / [ (p - x - q) / (p - x) ] | = | (p - x + q) / (p - x - q) |.\\n\\nSince P is inside the triangle, coordinates p and q are positive and p < x, q < x. Also, since angle is θ, which is positive, so tanθ is positive. Therefore, we can drop the absolute value:\\n\\ntanθ = (p - x + q) / (p - x - q)\\n\\nBut wait, let me check the sign. If P is inside the triangle, then p - x is negative (since p < x), and q is positive. So numerator: p - x + q. Depending on the values, could be positive or negative? Similarly denominator: p - x - q. Also negative. So the ratio would be positive. So tanθ = (p - x + q)/(p - x - q). Let me write that as:\\n\\ntanθ = [ (q + p - x) ] / [ - (x - p + q) ]? Wait, no. Wait, denominator is p - x - q = -(x + q - p). So tanθ = [ (p - x + q) ] / [ - (x + q - p) ] = - [ (p - x + q) / (x + q - p) ].\\n\\nBut since tanθ is positive, and the numerator and denominator are both negative? Wait, if p - x + q is negative? Let me think. Since p < x, and q is positive. If p - x + q is negative, then q < x - p. But since P is inside the triangle, q < x, and p < x. But not sure. Maybe I need to keep it as tanθ = (p - x + q)/(p - x - q). Let me note that.\\n\\nSimilarly, angle PCA = θ. Let me try to find tanθ for that angle. Angle PCA is the angle between CP and CA. Point C is at (0, x). The line CP goes from C(0, x) to P(p, q). The direction vector is (p - 0, q - x) = (p, q - x). The line CA goes from C(0, x) to A(0, 0), direction vector (0 - 0, 0 - x) = (0, -x). So the angle between CP and CA is θ. So again, using the tangent formula.\\n\\nThe slope of CA is undefined (vertical line). The slope of CP is (q - x)/p. Since CA is vertical, the angle between CP and CA is θ. Therefore, tanθ is the horizontal change over vertical change? Wait, if CA is vertical, then the angle between CP and CA is the angle between CP and the vertical line. So tanθ would be the horizontal component over the vertical component. So if we have a line making angle θ with the vertical, then tanθ = opposite/adjacent = horizontal / vertical. So for CP, the horizontal component is p, and the vertical component is |q - x|. Since P is inside the triangle, q < x, so q - x is negative, so the vertical component is x - q. Therefore tanθ = p / (x - q).\\n\\nTherefore, tanθ = p / (x - q).\\n\\nEarlier, from angle PAB, we had tanθ = q / p.\\n\\nSo from angle PAB: tanθ = q/p.\\n\\nFrom angle PCA: tanθ = p/(x - q).\\n\\nTherefore, equating these two expressions:\\n\\nq/p = p/(x - q)\\n\\nCross multiplying:\\n\\nq(x - q) = p²\\n\\nSo qx - q² = p².\\n\\nSo that's one equation.\\n\\nNow, from angle PBC, we had tanθ = (p - x + q)/(p - x - q). But we also have tanθ = q/p. Therefore:\\n\\nq/p = (p - x + q)/(p - x - q)\\n\\nCross multiplying:\\n\\nq(p - x - q) = p(p - x + q)\\n\\nLet me expand both sides:\\n\\nLeft side: q(p - x) - q²\\n\\nRight side: p(p - x) + p q\\n\\nSo:\\n\\nq(p - x) - q² = p(p - x) + p q\\n\\nBring all terms to left side:\\n\\nq(p - x) - q² - p(p - x) - p q = 0\\n\\nSimplify:\\n\\nq(p - x) - p(p - x) - q² - p q = 0\\n\\nFactor (p - x) from first two terms:\\n\\n(p - x)(q - p) - q² - p q = 0\\n\\nHmm, not sure. Let me compute term by term:\\n\\nFirst term: q(p - x)\\n\\nSecond term: - q²\\n\\nThird term: - p(p - x)\\n\\nFourth term: - p q\\n\\nSo:\\n\\nq(p - x) - p(p - x) - q² - p q = (p - x)(q - p) - q² - p q\\n\\nAlternatively, maybe expand all terms:\\n\\nq(p - x) - q² - p(p - x) - p q = q p - q x - q² - p² + p x - p q\\n\\nSimplify:\\n\\nq p - p q cancels out.\\n\\nThen: - q x - q² - p² + p x\\n\\nSo:\\n\\n- q x - q² - p² + p x = 0\\n\\nRearranged:\\n\\np x - q x - p² - q² = 0\\n\\nFactor x from first two terms:\\n\\nx(p - q) - (p² + q²) = 0\\n\\nSo:\\n\\nx(p - q) = p² + q²\\n\\nSo that's another equation.\\n\\nSo now, we have two equations:\\n\\n1) qx - q² = p²\\n\\n2) x(p - q) = p² + q²\\n\\nLet me write them again:\\n\\nEquation (1): qx - q² = p²\\n\\nEquation (2): x(p - q) = p² + q²\\n\\nLet me try to solve these equations. Let me denote equation (1) as:\\n\\nFrom equation (1): qx - q² = p² => qx = p² + q² => x = (p² + q²)/q\\n\\nSo x is expressed in terms of p and q.\\n\\nNow, substitute x into equation (2):\\n\\nx(p - q) = p² + q²\\n\\nSubstitute x:\\n\\n[(p² + q²)/q] * (p - q) = p² + q²\\n\\nAssuming p² + q² ≠ 0 (which it isn't since P is inside the triangle), we can divide both sides by p² + q²:\\n\\n[(p - q)/q] = 1\\n\\nTherefore:\\n\\n(p - q)/q = 1 => p - q = q => p = 2q\\n\\nSo p = 2q.\\n\\nSo now, we have p = 2q. Let me substitute this into equation (1):\\n\\nqx - q² = p² = (2q)^2 = 4q²\\n\\nTherefore:\\n\\nqx - q² = 4q² => qx = 5q² => x = 5q (assuming q ≠ 0, which it isn't since P is inside the triangle)\\n\\nTherefore, x = 5q. So now, we have p = 2q, x = 5q.\\n\\nSo coordinates of P are (p, q) = (2q, q). Coordinates of A(0,0), B(5q, 0), C(0, 5q). So triangle ABC has legs of length 5q, hypotenuse 5q√2.\\n\\nNow, we also know that AP = 10. Let me compute AP. Since A is (0,0) and P is (2q, q), the distance AP is sqrt[(2q - 0)^2 + (q - 0)^2] = sqrt(4q² + q²) = sqrt(5q²) = q√5. Therefore, AP = q√5 = 10 => q = 10 / √5 = 2√5.\\n\\nTherefore, q = 2√5. Then, x = 5q = 5*(2√5) = 10√5. Therefore, the legs AB and AC are 10√5 each, so the area of triangle ABC is (AB * AC)/2 = (10√5 * 10√5)/2 = (100 * 5)/2 = 500/2 = 250.\\n\\nWait, so the area is 250? Let me check if this is correct.\\n\\nBut let me verify if all the conditions are satisfied. Let me check if angles PAB, PBC, PCA are equal.\\n\\nFirst, we found that p = 2q, x = 5q. So coordinates of P are (2q, q). Let me check angle PAB. Since tanθ = q/p = q/(2q) = 1/2. Therefore θ = arctan(1/2).\\n\\nNow, check angle PBC. Earlier, we had tanθ = (p - x + q)/(p - x - q). Let me compute that with p = 2q, x = 5q:\\n\\nNumerator: p - x + q = 2q - 5q + q = -2q\\n\\nDenominator: p - x - q = 2q - 5q - q = -4q\\n\\nTherefore tanθ = (-2q)/(-4q) = 1/2. Which matches tanθ = 1/2. So that's good.\\n\\nNow, angle PCA: tanθ = p/(x - q) = 2q/(5q - q) = 2q/(4q) = 1/2. Also matches. So all three angles have tanθ = 1/2, so θ is same. Therefore, the conditions are satisfied.\\n\\nAlso, AP = q√5 = 2√5 * √5 = 2*5 = 10, which matches the given AP = 10. So that's correct.\\n\\nTherefore, the legs AB and AC are 5q = 5*(2√5) = 10√5. Therefore, area is (10√5)^2 / 2 = (100*5)/2 = 250. So the area is 250. Therefore, the answer is 250.\\n\\nBut let me check again. Wait, area of ABC is (AB * AC)/2. Since AB = AC = 10√5, then area is (10√5 * 10√5)/2 = (100 * 5)/2 = 500/2 = 250. Yes, that's correct.\\n\\nBut let me think again if there is any mistake here. Because sometimes with these geometry problems, there might be an alternative configuration or something. But given that we used coordinate geometry, Ceva's theorem, and checked all the conditions, and the answer seems consistent. Also, the value of q came out as 2√5, leading to x = 10√5, which seems reasonable.\\n\\nAlternatively, maybe there's another way to approach this problem. Let me think.\\n\\nSince ABC is an isosceles right triangle, maybe using some properties of the point P. Since angles PAB, PBC, PCA are equal, maybe P is some special point. But I don't recall a specific name for such a point. However, since we have solved it with coordinates and got a consistent answer, and verified all the conditions, I think 250 is correct.\\n\\nAlternatively, maybe using trigonometric Ceva. Earlier, I had:\\n\\ntanθ * [sin²θ / sin²(45° - θ)] = 1\\n\\nBut since we found tanθ = 1/2, let me check if this equation holds.\\n\\nLet me compute tanθ = 1/2, so θ = arctan(1/2). Let me compute sinθ and sin(45° - θ).\\n\\nFirst, θ = arctan(1/2). So, imagine a right triangle with opposite side 1, adjacent 2, hypotenuse √(1 + 4) = √5. Therefore, sinθ = 1/√5, cosθ = 2/√5.\\n\\nNow, 45° - θ. Let me compute sin(45° - θ). Using sine subtraction formula:\\n\\nsin(45° - θ) = sin45°cosθ - cos45°sinθ = (√2/2)(2/√5) - (√2/2)(1/√5) = √2/2 * (2/√5 - 1/√5) = √2/2 * 1/√5 = √2/(2√5) = 1/(√10).\\n\\nTherefore, sin(45° - θ) = 1/√10.\\n\\nTherefore, sin²(45° - θ) = 1/10.\\n\\nSo tanθ * [sin²θ / sin²(45° - θ)] = (1/2) * [ (1/5) / (1/10) ] = (1/2) * (2) = 1. Which matches the equation. Therefore, this confirms that θ = arctan(1/2) is correct. Therefore, our previous calculation is correct.\\n\\nTherefore, the area of triangle ABC is 250. Therefore, the answer is \\\\boxed{250}.\\n\\n**Final Answer**\\n\\\\boxed{250}\\n</think>\\n\\nTo solve the problem, we are given an isosceles right triangle $ \\\\triangle ABC $ with $ \\\\angle A = 90^\\\\circ $, and a point $ P $ inside the triangle such that:\\n\\n- $ \\\\angle PAB = \\\\angle PBC = \\\\angle PCA = \\\\theta $\\n- $ AP = 10 $\\n\\nWe are to find the **area of triangle $ \\\\triangle ABC $**.\\n\\n---\\n\\n### Step 1: Coordinate Setup\\n\\nLet’s place the triangle in the coordinate plane for convenience:\\n\\n- Let $ A = (0, 0) $\\n- Since $ \\\\triangle ABC $ is an isosceles right triangle with $ \\\\angle A = 90^\\\\circ $, we can place:\\n  - $ B = (x, 0) $\\n  - $ C = (0, x) $\\n\\nThis makes $ AB = AC = x $, and the hypotenuse $ BC = x\\\\sqrt{2} $.\\n\\nLet the coordinates of point $ P $ be $ (p, q) $, where $ 0 < p < x $, $ 0 < q < x $, and $ P $ lies inside the triangle.\\n\\n---\\n\\n### Step 2: Use of Angle Conditions\\n\\nWe are told that:\\n\\n- $ \\\\angle PAB = \\\\theta $\\n- $ \\\\angle PBC = \\\\theta $\\n- $ \\\\angle PCA = \\\\theta $\\n\\nFrom these, we can derive relationships between the coordinates of $ P $ and the triangle’s side length $ x $.\\n\\n#### From $ \\\\angle PAB = \\\\theta $:\\n\\nThe angle between vectors $ \\\\vec{AP} = (p, q) $ and $ \\\\vec{AB} = (x, 0) $ is $ \\\\theta $, so:\\n\\n$$\\n\\\\tan \\\\theta = \\\\frac{q}{p}\\n$$\\n\\n#### From $ \\\\angle PCA = \\\\theta $:\\n\\nThe angle between vectors $ \\\\vec{CP} = (p, q - x) $ and $ \\\\vec{CA} = (0, -x) $ is $ \\\\theta $, so:\\n\\n$$\\n\\\\tan \\\\theta = \\\\frac{p}{x - q}\\n$$\\n\\nEquating the two expressions for $ \\\\tan \\\\theta $:\\n\\n$$\\n\\\\frac{q}{p} = \\\\frac{p}{x - q} \\\\Rightarrow q(x - q) = p^2\\n$$\\n\\n---\\n\\n### Step 3: Use of Ceva’s Theorem (Trigonometric Form)\\n\\nUsing the **Trigonometric Ceva’s Theorem**, we can write:\\n\\n$$\\n\\\\frac{\\\\sin \\\\angle PAB}{\\\\sin \\\\angle PAC} \\\\cdot \\\\frac{\\\\sin \\\\angle PBC}{\\\\sin \\\\angle PBA} \\\\cdot \\\\frac{\\\\sin \\\\angle PCA}{\\\\sin \\\\angle PCB} = 1\\n$$\\n\\nGiven that $ \\\\angle PAB = \\\\angle PBC = \\\\angle PCA = \\\\theta $, and the other angles are:\\n\\n- $ \\\\angle PAC = 90^\\\\circ - \\\\theta $\\n- $ \\\\angle PBA = 45^\\\\circ - \\\\theta $\\n- $ \\\\angle PCB = 45^\\\\circ - \\\\theta $\\n\\nSo the equation becomes:\\n\\n$$\\n\\\\frac{\\\\sin \\\\theta}{\\\\sin(90^\\\\circ - \\\\theta)} \\\\cdot \\\\frac{\\\\sin \\\\theta}{\\\\sin(45^\\\\circ - \\\\theta)} \\\\cdot \\\\frac{\\\\sin \\\\theta}{\\\\sin(45^\\\\circ - \\\\theta)} = 1\\n$$\\n\\nSimplify:\\n\\n$$\\n\\\\frac{\\\\sin \\\\theta}{\\\\cos \\\\theta} \\\\cdot \\\\left( \\\\frac{\\\\sin \\\\theta}{\\\\sin(45^\\\\circ - \\\\theta)} \\\\right)^2 = 1\\n$$\\n\\n$$\\n\\\\tan \\\\theta \\\\cdot \\\\left( \\\\frac{\\\\sin \\\\theta}{\\\\sin(45^\\\\circ - \\\\theta)} \\\\right)^2 = 1\\n$$\\n\\nThis confirms that the angle $ \\\\theta $ is consistent with the given conditions.\\n\\n---\\n\\n### Step 4: Solve for Coordinates of $ P $\\n\\nFrom earlier, we had:\\n\\n- $ q(x - q) = p^2 $\\n- $ x(p - q) = p^2 + q^2 $\\n\\nSolving these equations, we find:\\n\\n- $ p = 2q $\\n- $ x = 5q $\\n\\nSo the coordinates of $ P $ are $ (2q, q) $, and the triangle has side length $ x = 5q $.\\n\\n---\\n\\n### Step 5: Use Given Length $ AP = 10 $\\n\\nThe distance from $ A = (0, 0) $ to $ P = (2q, q) $ is:\\n\\n$$\\nAP = \\\\sqrt{(2q)^2 + q^2} = \\\\sqrt{4q^2 + q^2} = \\\\sqrt{5q^2} = q\\\\sqrt{5}\\n$$\\n\\nGiven $ AP = 10 $, we solve:\\n\\n$$\\nq\\\\sqrt{5} = 10 \\\\Rightarrow q = \\\\frac{10}{\\\\sqrt{5}} = 2\\\\sqrt{5}\\n$$\\n\\nThen:\\n\\n$$\\nx = 5q = 5 \\\\cdot 2\\\\sqrt{5} = 10\\\\sqrt{5}\\n$$\\n\\n---\\n\\n### Step 6: Compute the Area of Triangle $ ABC $\\n\\nSince $ AB = AC = x = 10\\\\sqrt{5} $, the area of the triangle is:\\n\\n$$\\n\\\\text{Area} = \\\\frac{1}{2} \\\\cdot AB \\\\cdot AC = \\\\frac{1}{2} \\\\cdot (10\\\\sqrt{5})^2 = \\\\frac{1}{2} \\\\cdot 100 \\\\cdot 5 = \\\\frac{500}{2} = 250\\n$$\\n\\n---\\n\\n### Final Answer\\n\\n$$\\n\\\\boxed{250}\\n$$\""
      ]
     },
     "execution_count": 24,
     "metadata": {},
     "output_type": "execute_result"
    }
   ],
   "source": [
    "line['response']"
   ]
  },
  {
   "cell_type": "code",
   "execution_count": 26,
   "id": "fa28c910",
   "metadata": {},
   "outputs": [
    {
     "data": {
      "text/plain": [
       "5595"
      ]
     },
     "execution_count": 26,
     "metadata": {},
     "output_type": "execute_result"
    }
   ],
   "source": [
    "len(tokenizer.encode(line['response']))"
   ]
  },
  {
   "cell_type": "code",
   "execution_count": null,
   "id": "d81e6485",
   "metadata": {},
   "outputs": [],
   "source": []
  }
 ],
 "metadata": {
  "kernelspec": {
   "display_name": "venv",
   "language": "python",
   "name": "python3"
  },
  "language_info": {
   "codemirror_mode": {
    "name": "ipython",
    "version": 3
   },
   "file_extension": ".py",
   "mimetype": "text/x-python",
   "name": "python",
   "nbconvert_exporter": "python",
   "pygments_lexer": "ipython3",
   "version": "3.12.3"
  }
 },
 "nbformat": 4,
 "nbformat_minor": 5
}
