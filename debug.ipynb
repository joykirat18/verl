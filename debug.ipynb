{
 "cells": [
  {
   "cell_type": "code",
   "execution_count": 1,
   "id": "2ddc1af8",
   "metadata": {},
   "outputs": [],
   "source": [
    "data_source = ['math-amc', 'math-aime', 'gpqa', 'mip-insufficient', 'mip-question', 'bbh', 'bbh_boolean_expressions', 'bbh_causal_judgement', 'bbh_date_understanding', 'bbh_disambiguation_qa', 'bbh_logical_deduction_five_objects', 'bbh_movie_recommendation', 'bbh_navigate', 'bbh_object_counting', 'bbh_snarks', 'underthink-bench', ]"
   ]
  },
  {
   "cell_type": "code",
   "execution_count": 1,
   "id": "5217088d",
   "metadata": {},
   "outputs": [
    {
     "name": "stdout",
     "output_type": "stream",
     "text": [
      "INFO 09-12 18:13:03 [importing.py:53] Triton module has been replaced with a placeholder.\n",
      "INFO 09-12 18:13:04 [__init__.py:239] Automatically detected platform cuda.\n"
     ]
    }
   ],
   "source": [
    "import os\n",
    "\n",
    "os.environ['HF_HOME'] = '/nas-ssd2/joykirat/.cache/huggingface'\n",
    "os.environ['CUDA_VISIBLE_DEVICES'] = '7'\n",
    "from transformers import AutoTokenizer, AutoModelForCausalLM\n",
    "from vllm import LLM\n",
    "\n",
    "tokenizer = AutoTokenizer.from_pretrained(\"Qwen/Qwen3-4B\")\n",
    "# Qwen/Qwen3-4B\n",
    "# deepseek-ai/DeepSeek-R1-Distill-Llama-8B\n",
    "# deepseek-ai/DeepSeek-R1-Distill-Qwen-7B\n",
    "# model = LLM(model=\"Qwen/Qwen3-4B\", gpu_memory_utilization=0.95, tensor_parallel_size=1, task=\"embed\")\n",
    "\n",
    "\n",
    "\n"
   ]
  },
  {
   "cell_type": "code",
   "execution_count": 18,
   "id": "739a2ddb",
   "metadata": {},
   "outputs": [],
   "source": [
    "import json\n",
    "data = []\n",
    "with open('/nas-ssd2/joykirat/code/verl-fork/verl/scripts/train/verlCheckpoint/Summary/qwen4b_dapo_math_10k_context_linear_reward_with_summary_attention_v2/rollout/val_120.jsonl', 'r') as f:\n",
    "    for line in f:\n",
    "        data.append(json.loads(line))\n",
    "        "
   ]
  },
  {
   "cell_type": "code",
   "execution_count": 19,
   "id": "ead5a0ce",
   "metadata": {},
   "outputs": [
    {
     "name": "stdout",
     "output_type": "stream",
     "text": [
      "math-amc 0.7710843373493976 83\n",
      "gpqa 0.4213197969543147 197\n",
      "math-aime 0.4044943820224719 89\n"
     ]
    }
   ],
   "source": [
    "import numpy as np\n",
    "\n",
    "accuracy_by_source = {}\n",
    "for line in data:\n",
    "    if line['data_source'] not in accuracy_by_source:\n",
    "        accuracy_by_source[line['data_source']] = []\n",
    "    accuracy_by_source[line['data_source']].append(line['final_reward'])\n",
    "    \n",
    "for source in accuracy_by_source:\n",
    "    mean_accuracy = np.mean(accuracy_by_source[source])\n",
    "    print(source, mean_accuracy, len(accuracy_by_source[source]))\n",
    "    \n",
    "    "
   ]
  },
  {
   "cell_type": "code",
   "execution_count": 20,
   "id": "cada0243",
   "metadata": {},
   "outputs": [],
   "source": [
    "# import numpy as np\n",
    "# response_length_list = {}\n",
    "# from tqdm import tqdm\n",
    "# for line in tqdm(data):\n",
    "#     if line['data_source'] not in response_length_list:\n",
    "#         response_length_list[line['data_source']] = []\n",
    "#     response_length_list[line['data_source']].append(len(tokenizer.encode(line['response'])))\n",
    "# for source in response_length_list:\n",
    "#     mean_response_length = np.mean(response_length_list[source])\n",
    "#     print(source, mean_response_length)\n",
    "            "
   ]
  },
  {
   "cell_type": "code",
   "execution_count": 21,
   "id": "c78bcf68",
   "metadata": {},
   "outputs": [],
   "source": [
    "import re\n",
    "from math_verify.errors import TimeoutException\n",
    "from math_verify.metric import math_metric\n",
    "from math_verify.parser import ExprExtractionConfig, LatexExtractionConfig\n",
    "\n",
    "def clean_prediction(model_output: str) -> str:\n",
    "    \"\"\"\n",
    "    Try to normalize model outputs like 'Answer: C. Cotton' into '\\boxed{C}'.\n",
    "    \"\"\"\n",
    "\n",
    "    # If boxed answer is already there, keep it\n",
    "    boxed_match = re.search(r'\\\\boxed\\{([A-Za-z0-9]+)\\}', model_output)\n",
    "    if boxed_match:\n",
    "        return f\"\\\\boxed{{{boxed_match.group(1)}}}\"\n",
    "\n",
    "    # Otherwise, try to find a single-letter multiple-choice answer\n",
    "    choice_match = re.search(r'\\b([A-E])\\b', model_output)\n",
    "    if choice_match:\n",
    "        return f\"\\\\boxed{{{choice_match.group(1)}}}\"\n",
    "\n",
    "    # If nothing found, just return as-is\n",
    "    return model_output.strip()\n",
    "\n",
    "def getRawCorrectness(model_output: str, ground_truth: str) -> float:\n",
    "    verify_func = math_metric(\n",
    "        gold_extraction_target=(LatexExtractionConfig(),),\n",
    "        pred_extraction_target=(ExprExtractionConfig(), LatexExtractionConfig()),\n",
    "    )\n",
    "\n",
    "    ret_score = 0.0\n",
    "    ground_truth_boxed = f\"\\\\boxed{{{ground_truth}}}\"\n",
    "\n",
    "    try:\n",
    "        pred_clean = clean_prediction(model_output)\n",
    "        ret_score, _ = verify_func([ground_truth_boxed], [pred_clean])\n",
    "    except Exception:\n",
    "        pass\n",
    "\n",
    "    return ret_score\n",
    "\n",
    "def getCorrectness(model_output: str, ground_truth: str) -> float:\n",
    "    if '</think>' in model_output:\n",
    "        model_output = model_output.split('</think>')[-1]\n",
    "\n",
    "    verify_func = math_metric(\n",
    "        gold_extraction_target=(LatexExtractionConfig(),),\n",
    "        pred_extraction_target=(ExprExtractionConfig(), LatexExtractionConfig()),\n",
    "    )\n",
    "\n",
    "    ret_score = 0.0\n",
    "    ground_truth_boxed = f\"\\\\boxed{{{ground_truth}}}\"\n",
    "\n",
    "    try:\n",
    "        pred_clean = clean_prediction(model_output)\n",
    "        ret_score, _ = verify_func([ground_truth_boxed], [pred_clean])\n",
    "    except Exception:\n",
    "        pass\n",
    "\n",
    "    return ret_score\n"
   ]
  },
  {
   "cell_type": "code",
   "execution_count": 22,
   "id": "1e19a2fc",
   "metadata": {},
   "outputs": [
    {
     "name": "stderr",
     "output_type": "stream",
     "text": [
      "100%|██████████| 369/369 [00:04<00:00, 87.96it/s] \n"
     ]
    }
   ],
   "source": [
    "import numpy as np\n",
    "correctness_response_length_list = {}\n",
    "from tqdm import tqdm\n",
    "for line in tqdm(data):\n",
    "    if line['data_source'] not in correctness_response_length_list:\n",
    "        correctness_response_length_list[line['data_source']] = []\n",
    "    correctness_response_length_list[line['data_source']].append((getCorrectness(line['response'], line['ground_truth']), len(tokenizer.encode(line['response']))))\n",
    "    \n",
    "            \n",
    "            \n",
    "            "
   ]
  },
  {
   "cell_type": "code",
   "execution_count": 23,
   "id": "22c5215e",
   "metadata": {},
   "outputs": [],
   "source": [
    "def compute_aucoaa(data):\n",
    "    # data is a list of (correctness, response_length) tuples\n",
    "    n = len(data)\n",
    "    tmax = max(length for _, length in data)\n",
    "    oaa_t_list = []\n",
    "    for t in range(tmax + 1):\n",
    "        filtered = [correct for correct, length in data if length < t]\n",
    "        if filtered:\n",
    "            oaa_t = sum(filtered) / n  # Denominator is always n, per definition\n",
    "        else:\n",
    "            oaa_t = 0.0\n",
    "        oaa_t_list.append(oaa_t)\n",
    "    aucoaa = sum(oaa_t_list) / len(oaa_t_list)\n",
    "    return aucoaa\n"
   ]
  },
  {
   "cell_type": "code",
   "execution_count": 24,
   "id": "ea835a98",
   "metadata": {},
   "outputs": [
    {
     "name": "stdout",
     "output_type": "stream",
     "text": [
      "Data Source:  math-amc\n",
      "Accuracy:  0.7710843373493976\n",
      "Response Length:  4263.963855421687\n",
      "Number of Samples:  83\n",
      "AUC-OAA:  0.5256124989910648\n",
      "--------------------------------\n",
      "Data Source:  gpqa\n",
      "Accuracy:  0.4517766497461929\n",
      "Response Length:  4529.903553299492\n",
      "Number of Samples:  197\n",
      "AUC-OAA:  0.29917718888009676\n",
      "--------------------------------\n",
      "Data Source:  math-aime\n",
      "Accuracy:  0.4044943820224719\n",
      "Response Length:  6912.483146067416\n",
      "Number of Samples:  89\n",
      "AUC-OAA:  0.21470100180993137\n",
      "--------------------------------\n"
     ]
    }
   ],
   "source": [
    "for key in correctness_response_length_list.keys():\n",
    "    print(\"Data Source: \", key)\n",
    "    print(\"Accuracy: \", np.mean([correct for correct, _ in correctness_response_length_list[key]]))\n",
    "    print(\"Response Length: \", np.mean([length for _, length in correctness_response_length_list[key]]))\n",
    "    print(\"Number of Samples: \", len(correctness_response_length_list[key]))\n",
    "    print(\"AUC-OAA: \", compute_aucoaa(correctness_response_length_list[key]))\n",
    "    print(\"--------------------------------\")"
   ]
  },
  {
   "cell_type": "code",
   "execution_count": 9,
   "id": "7828a9c2",
   "metadata": {},
   "outputs": [
    {
     "data": {
      "text/plain": [
       "\"<think>\\nOkay, let's try to solve this problem. So, Ellina has twelve blocks, two of each of six colors. An arrangement is even if between each pair of the same color, there's an even number of blocks. Like the example given, where for each color, the two blocks have an even count in between. For example, the two B's in the example have some blocks in between. Let's think about how to calculate the probability.\\n\\nFirst, the total number of possible arrangements is the number of ways to arrange twelve blocks where there are two of each color. That would be 12! divided by (2!^6), since each color has two identical blocks. So total possibilities is 12!/(2!^6). That's the denominator of the probability.\\n\\nThe numerator is the number of even arrangements. So we need to find how many arrangements meet the even condition. The condition is that for each color, the two blocks have an even number of blocks between them. Let's think about what that means. For two blocks of the same color, the positions they occupy must be such that the distance between them is odd? Wait, because if there's an even number of blocks between them, then the total number of positions between them is even. Like, if two blocks are in positions i and j (i < j), then the number of blocks between them is j - i -1. This needs to be even. So j -i -1 is even → j -i is odd. So the positions of the two same colors must be in positions that are odd apart. Like, if one is at position k, the other must be at k + odd number. For example, if one is at position 1, the other could be at 2 (distance 1, which is odd)? Wait, j-i would be 1. So j-i is odd. So the positions of the two same colors must be such that their positions have opposite parity? Like one is even, the other odd? Because if their positions differ by an odd number, then one is even and the other odd. Because if positions are even and odd, their difference is odd. So for each color, the two blocks must be placed in positions of different parity. Wait, because if their positions are even and odd, then the number of blocks between them is even. Let's check: suppose positions are 1 (odd) and 3 (odd). Then the number between is 1 (position 2). That's odd. So that's not good. Wait, wait. Let's take an example. If two blocks are in positions 1 and 2: the number between is zero. Which is even. So that's allowed. So j-i-1 is zero here. So j-i is 1, which is odd. So that's correct. So for each color, the two blocks must be placed in positions that are odd apart. So their positions must have different parities? Because if one is even and the other odd, then their difference is odd. So for each color, the two blocks must be in one even and one odd position. \\n\\nSo the problem reduces to arranging the blocks suchthat for each color, one block is in an even position and the other in an odd position. Wait, but how? Because there are six colors, each needing their two blocks to be in different parities. So let's think about the total number of positions. There are twelve positions. Six even and six odd? Wait, positions 1-12: positions 1,3,5,7,9,11 are odd (six positions), and 2,4,6,8,10,12 are even (six positions). So each color's two blocks must occupy one even and one odd position. So for each color, one of the two blocks is in an even position, the other in an odd. So the problem becomes: how many ways to assign the colors to positions such that each color has one even and one odd position? And then arrange the blocks?\\n\\nWait, maybe. Let's think. First, for each color, we need to choose one even and one odd position. But how does that work? Let's think of it as assigning each color to a pair of positions, one even and one odd. But since there are six colors, each needing a pair, we need to pair up the even and odd positions. Wait, there are six even and six odd positions. So for each color, we need to pick one even and one odd. So the total number of ways would be: first, assign each color to a unique even and odd position. But how?\\n\\nAlternatively, think of it as arranging the blocks such that each color's two blocks are in one even and one odd. So the total number of such arrangements would be: first, assign each color to a pair of positions (one even, one odd). But how to count that?\\n\\nMaybe the total number of valid arrangements is (number of ways to pair the even and odd positions for each color) multiplied by the permutations of the colors? Or maybe not. Let's think step by step.\\n\\nFirst, for each color, we need to select one even and one odd position. But since there are six colors, and six even and six odd positions, each even position must be paired with exactly one odd position. So this is equivalent to finding a perfect matching between the even and odd positions. Wait, but each color takes one even and one odd. So the total number of ways to assign the positions would be: the number of ways to match each even position with an odd position, and then for each color, assign their pair. Wait, maybe not. Let me think. Suppose we have six even positions and six odd positions. For each color, we need to assign one even and one odd. So the total number of ways to do this would be (number of ways to pair the even and odd positions) multiplied by the number of ways to assign the colors to these pairs. Wait, perhaps?\\n\\nFor example, the number of ways to pair each even with an odd is 6! (since you can think of it as assigning each even position to an odd one, which is 6! permutations). But then, for each such pairing, each pair is a pair of positions (even and odd) for a color. Then, since there are six colors, we can assign each color to a pair. So that would be 6! ways to assign the colors to the pairs. Then, for each color, the two blocks can be arranged in 2 ways (which one is in the even position and which in the odd)? Wait, no. Because each pair is fixed as even and odd. For example, if a pair is (even position E, odd position O), then the color's two blocks must be placed there. But since the blocks are two of the same color, maybe their order doesn't matter? Wait, but in the arrangement, the blocks are placed in order. So for each color, once you have chosen the two positions (one even and one odd), the two blocks can be placed in those two positions in 2 ways? Or not? Because the blocks are identical? Wait, the problem says that the blocks are two each of each color. So when arranging, the two blocks of the same color are indistinct. So once you have assigned the positions for a color, there's only one way to place them. Wait, no. Because the positions are fixed. For example, if a color's two positions are E and O, then one block is in E and the other in O. But since they are identical, it doesn't matter which is which. So maybe the arrangement is determined by the positions chosen for each color. So the total number of valid arrangements would be the number of ways to pair even and odd positions (6! ways) multiplied by the number of ways to assign the colors to these pairs (6! ways)? Because for each pairing of even and odd positions, we can assign each color to a pair. So total would be 6! * 6! ?\\n\\nWait, let me think again. Suppose we have six even positions and six odd positions. We need to pair each even with an odd. The number of ways to do that is 6! (since for each even position, you can assign an odd one, like permutations). Then, for each such pairing, we need to assign each of the six colors to a pair. So that's 6! ways. Because each pair is a unique combination of even and odd positions. So for each of the 6! pairings, there are 6! ways to assign colors to the pairs. Then, for each color, the two blocks are placed in their assigned pair. Since the blocks are identical, there's no further arrangement. So the total number of valid arrangements would be 6! * 6! ?\\n\\nBut then, what about the actual arrangement? Because once you have assigned each color to a pair of positions (even and odd), the entire arrangement is determined by placing each color's blocks in their positions. But since the blocks are identical, the total number would be 6! * 6! ?\\n\\nWait, but then the total number of valid arrangements would be 6! *6! ? Let's check with the example given. The example arrangement is R B B Y G G Y R O P P O. Let's see: for each color, their positions. For example, R is in positions 1 and 8. Position 1 is odd, 8 is even. So that's one even and one odd. Similarly for B: positions 2 and 3? Wait, the example is R B B Y G G Y R O P P O. Let's list positions:\\n\\nPositions 1: R, 2:B, 3:B, 4:Y, 5:G, 6:G, 7:Y, 8:R, 9:O, 10:P, 11:P, 12:O.\\n\\nSo for each color:\\n\\nR: positions 1 (odd) and 8 (even). B: 2 (even) and 3 (odd). Y: 4 (even) and 7 (odd). G: 5 (odd) and 6 (even). O: 9 (odd) and 12 (even). P: 10 (even) and 11 (odd). So each color has one even and one odd position. So the pairing here is that each even position is paired with an odd. So the number of such arrangements would be 6! *6! ?\\n\\nBut then the total number of valid arrangements would be 6! *6! ? Then the probability would be (6! *6! ) / (12!/(2!^6))? Let's compute that.\\n\\nWait, but wait. The total number of possible arrangements is 12! divided by (2!^6), since there are two of each color. And the number of valid arrangements is 6! *6! ? Let's check that. Because for each color, we have to assign one even and one odd position. So the number of ways would be: first, assign each color to a pair of even and odd positions. How? Well, the number of ways to pair the even and odd positions is 6! (as each even can be matched to an odd). Then, for each such pairing, we can assign the six colors to the six pairs. That's 6! ways. So total is 6! *6! ?\\n\\nBut then, for each such assignment, the blocks are placed in their positions. Since the blocks are identical, there's no further permutation. So the number of valid arrangements is 6! *6! ?\\n\\nIf that's the case, then the probability is (6! *6! ) / (12!/(2!^6)).\\n\\nLet me compute that. Let's calculate numerator and denominator.\\n\\nDenominator is 12! / (2!^6). The numerator is (6! *6! ). So the probability is (6! *6! * 2!^6) / 12! ?\\n\\nYes, because when you divide by the denominator, you multiply by 2!^6. Let's compute that.\\n\\nSo let's compute 6! *6! * (2^6) / 12! ?\\n\\nLet me compute 12! = 479001600. 6! is 720. So 720*720 * 64 (since 2^6 is 64). Let's compute 720*720 = 518400. Multiply by 64: 518400 *64 = let's see, 518400 *60 = 31,104,000 and 518400*4=2,073,600. Total is 33,177,600. Then divide by 12! which is 479001600. So 33,177,600 / 479001600 = 331776 / 4790016 = simplify. Divide numerator and denominator by 331776? Let's see: 4790016 divided by 331776 is 14.444... Wait maybe better to divide numerator and denominator by  331776. Let me compute 331776 * 14 = 4,644,864. Hmm maybe I should find the fraction. Let me compute 33,177,600 / 479,001,600 = 331776 / 4790016. Divide numerator and denominator by 48: 331776 /48 = 6912, 4790016 /48 is 99792. So 6912 / 99792. Divide by 48 again: 6912 /48 = 144, 99792 /48 is 2079. So 144 / 2079. Then divide by 3: 48 / 693. Then divide by 3 again: 16 / 231. So the fraction is 16/231? Wait let me check. 16*231 is 3696. Wait, but 144 divided by 3 is 48, and 2079 divided by 3 is 693. Then 48/693 simplifies to 16/231? Because 48 divided by 3 is 16, 693 divided by 3 is 231. Yes. So the probability is 16/231? Wait but 16 and 231: 231 is 3*7*11. 16 is 2^4. So they are coprime? Yes. So m is 16, n is 231. Then m +n is 247? Wait but wait, let me check my calculations again. Because I might have made a mistake in the arithmetic.\\n\\nAlternatively, let's compute the probability as (6! *6! * 2^6) / 12! Let's compute this fraction. Let's write 12! as 12 ×11 ×10 ×9 ×8 ×7 ×6! So 12! = 12×11×10×9×8×7 ×6! So the fraction is (6! ×6! × 2^6) / (12×11×10×9×8×7 ×6! ) ) = (6! × 2^6 ) / (12×11×10×9×8×7 ). The 6! cancels. So 6! is 720. So numerator is 720 × 64. Denominator is 12×11×10×9×8×7. Let's compute denominator: 12×11 is 132, ×10 is 1320, ×9 is 11880, ×8 is 95040, ×7 is 665,280. Numerator is 720 ×64 = 46,080. So the fraction is 46080 / 665280. Simplify by dividing numerator and denominator by 46080: denominator is 665280 /46080 = 14.444... Wait perhaps divide by 480? Let me see. 46080 divided by 480 is 96. 665280 divided by 480 is 1386. So fraction is 96 / 1386. Simplify: divide by 6 → 16 / 231. Yes! So the probability is 16/231. Therefore m is 16 and n is 231. Are they coprime? 231 is 3×7×11. 16 is 2^4. No common factors. So m +n is 16+231=247. So the answer is 247. So the final answer is \\\\boxed{247}.\\n</think>\\n\\nTo solve the problem, we begin by understanding the constraints of the arrangement:\\n\\n- Ellina has **12 blocks**, with **2 blocks of each of 6 colors**.\\n- An **even** arrangement is defined as one in which there is an **even number of blocks between each pair of the same color**.\\n- This implies that for **each color**, the **two blocks** must occupy **positions of different parity** (one odd and one even), since the difference between their positions will be odd, resulting in an even number of blocks in between.\\n\\n---\\n\\n### **Step 1: Total Possible Arrangements**\\n\\nSince there are 12 positions and 2 identical blocks of each of 6 colors, the total number of distinct arrangements is:\\n\\n$$\\n\\\\frac{12!}{(2!)^6}\\n$$\\n\\n---\\n\\n### **Step 2: Counting Valid Even Arrangements**\\n\\nEach color must be placed in **one odd** and **one even** position. There are **6 odd** and **6 even** positions (positions 1–12). We need to assign a unique **odd-even pair** to each of the 6 colors.\\n\\n- The number of ways to pair the 6 even positions with the 6 odd positions is **6!**.\\n- For each such pairing, we can assign the 6 colors to the 6 pairs in **6!** ways.\\n\\nThus, the total number of **even arrangements** is:\\n\\n$$\\n6! \\\\times 6!\\n$$\\n\\n---\\n\\n### **Step 3: Compute the Probability**\\n\\nThe probability is the ratio of even arrangements to total arrangements:\\n\\n$$\\n\\\\text{Probability} = \\\\frac{6! \\\\times 6!}{\\\\frac{12!}{(2!)^6}} = \\\\frac{6! \\\\times 6! \\\\times (2!)^6}{12!}\\n$$\\n\\nWe simplify:\\n\\n- $6! = 720$\\n- $2! = 2$, so $2!^6 = 64$\\n- $12! = 479001600$\\n\\nSo the probability becomes:\\n\\n$$\\n\\\\frac{720 \\\\times 720 \\\\times 64}{479001600}\\n$$\\n\\nSimplifying this fraction:\\n\\n$$\\n\\\\frac{33177600}{479001600} = \\\\frac{16}{231}\\n$$\\n\\nThis is in lowest terms, as 16 and 231 are coprime.\\n\\n---\\n\\n### **Step 4: Final Answer**\\n\\nThe probability is $\\\\frac{16}{231}$, so $m = 16$, $n = 231$, and $m+n = \\\\boxed{247}$.\""
      ]
     },
     "execution_count": 9,
     "metadata": {},
     "output_type": "execute_result"
    }
   ],
   "source": [
    "line['response']"
   ]
  },
  {
   "cell_type": "code",
   "execution_count": 10,
   "id": "fa28c910",
   "metadata": {},
   "outputs": [
    {
     "data": {
      "text/plain": [
       "4407"
      ]
     },
     "execution_count": 10,
     "metadata": {},
     "output_type": "execute_result"
    }
   ],
   "source": [
    "len(tokenizer.encode(line['response']))"
   ]
  },
  {
   "cell_type": "code",
   "execution_count": 37,
   "id": "d81e6485",
   "metadata": {},
   "outputs": [
    {
     "ename": "FileNotFoundError",
     "evalue": "[Errno 2] No such file or directory: 'your_file.jsonl'",
     "output_type": "error",
     "traceback": [
      "\u001b[31m---------------------------------------------------------------------------\u001b[39m",
      "\u001b[31mFileNotFoundError\u001b[39m                         Traceback (most recent call last)",
      "\u001b[36mCell\u001b[39m\u001b[36m \u001b[39m\u001b[32mIn[37]\u001b[39m\u001b[32m, line 3\u001b[39m\n\u001b[32m      1\u001b[39m \u001b[38;5;28;01mimport\u001b[39;00m\u001b[38;5;250m \u001b[39m\u001b[34;01mjson\u001b[39;00m\n\u001b[32m      2\u001b[39m \u001b[38;5;66;03m## read jsonl\u001b[39;00m\n\u001b[32m----> \u001b[39m\u001b[32m3\u001b[39m \u001b[38;5;28;01mwith\u001b[39;00m \u001b[38;5;28;43mopen\u001b[39;49m\u001b[43m(\u001b[49m\u001b[33;43m'\u001b[39;49m\u001b[33;43myour_file.jsonl\u001b[39;49m\u001b[33;43m'\u001b[39;49m\u001b[43m,\u001b[49m\u001b[43m \u001b[49m\u001b[33;43m'\u001b[39;49m\u001b[33;43mr\u001b[39;49m\u001b[33;43m'\u001b[39;49m\u001b[43m)\u001b[49m \u001b[38;5;28;01mas\u001b[39;00m f:\n\u001b[32m      4\u001b[39m     data = [json.loads(line) \u001b[38;5;28;01mfor\u001b[39;00m line \u001b[38;5;129;01min\u001b[39;00m f]\n",
      "\u001b[36mFile \u001b[39m\u001b[32m/nas-ssd2/joykirat/code/verl-fork/verl/venv/lib/python3.12/site-packages/IPython/core/interactiveshell.py:343\u001b[39m, in \u001b[36m_modified_open\u001b[39m\u001b[34m(file, *args, **kwargs)\u001b[39m\n\u001b[32m    336\u001b[39m \u001b[38;5;28;01mif\u001b[39;00m file \u001b[38;5;129;01min\u001b[39;00m {\u001b[32m0\u001b[39m, \u001b[32m1\u001b[39m, \u001b[32m2\u001b[39m}:\n\u001b[32m    337\u001b[39m     \u001b[38;5;28;01mraise\u001b[39;00m \u001b[38;5;167;01mValueError\u001b[39;00m(\n\u001b[32m    338\u001b[39m         \u001b[33mf\u001b[39m\u001b[33m\"\u001b[39m\u001b[33mIPython won\u001b[39m\u001b[33m'\u001b[39m\u001b[33mt let you open fd=\u001b[39m\u001b[38;5;132;01m{\u001b[39;00mfile\u001b[38;5;132;01m}\u001b[39;00m\u001b[33m by default \u001b[39m\u001b[33m\"\u001b[39m\n\u001b[32m    339\u001b[39m         \u001b[33m\"\u001b[39m\u001b[33mas it is likely to crash IPython. If you know what you are doing, \u001b[39m\u001b[33m\"\u001b[39m\n\u001b[32m    340\u001b[39m         \u001b[33m\"\u001b[39m\u001b[33myou can use builtins\u001b[39m\u001b[33m'\u001b[39m\u001b[33m open.\u001b[39m\u001b[33m\"\u001b[39m\n\u001b[32m    341\u001b[39m     )\n\u001b[32m--> \u001b[39m\u001b[32m343\u001b[39m \u001b[38;5;28;01mreturn\u001b[39;00m \u001b[43mio_open\u001b[49m\u001b[43m(\u001b[49m\u001b[43mfile\u001b[49m\u001b[43m,\u001b[49m\u001b[43m \u001b[49m\u001b[43m*\u001b[49m\u001b[43margs\u001b[49m\u001b[43m,\u001b[49m\u001b[43m \u001b[49m\u001b[43m*\u001b[49m\u001b[43m*\u001b[49m\u001b[43mkwargs\u001b[49m\u001b[43m)\u001b[49m\n",
      "\u001b[31mFileNotFoundError\u001b[39m: [Errno 2] No such file or directory: 'your_file.jsonl'"
     ]
    }
   ],
   "source": [
    "import json\n",
    "## read jsonl\n",
    "with open('your_file.jsonl', 'r') as f:\n",
    "    data = [json.loads(line) for line in f]\n"
   ]
  },
  {
   "cell_type": "code",
   "execution_count": 1,
   "id": "d0055897",
   "metadata": {},
   "outputs": [
    {
     "data": {
      "application/vnd.jupyter.widget-view+json": {
       "model_id": "55f7dbede25c49ef92fd461aeed8a3f9",
       "version_major": 2,
       "version_minor": 0
      },
      "text/plain": [
       "Generating train split:   0%|          | 0/2499 [00:00<?, ? examples/s]"
      ]
     },
     "metadata": {},
     "output_type": "display_data"
    }
   ],
   "source": [
    "from datasets import load_dataset\n",
    "train_dataset = load_dataset('/nas-ssd2/joykirat/code/verl-fork/baselines/LC-R1/dataset', split='train')"
   ]
  },
  {
   "cell_type": "code",
   "execution_count": 2,
   "id": "bd778c0c",
   "metadata": {},
   "outputs": [
    {
     "data": {
      "text/plain": [
       "Dataset({\n",
       "    features: ['problem', 'solution'],\n",
       "    num_rows: 2499\n",
       "})"
      ]
     },
     "execution_count": 2,
     "metadata": {},
     "output_type": "execute_result"
    }
   ],
   "source": [
    "train_dataset"
   ]
  },
  {
   "cell_type": "code",
   "execution_count": 3,
   "id": "b70c8c1f",
   "metadata": {},
   "outputs": [
    {
     "data": {
      "text/plain": [
       "{'problem': 'Let $x$ , $y$ and $z$ all exceed $1$ and let $w$ be a positive number such that $\\\\log_xw=24$ , $\\\\log_y w = 40$ and $\\\\log_{xyz}w=12$ . Find $\\\\log_zw$ .',\n",
       " 'solution': '60'}"
      ]
     },
     "execution_count": 3,
     "metadata": {},
     "output_type": "execute_result"
    }
   ],
   "source": [
    "train_dataset[0]"
   ]
  },
  {
   "cell_type": "code",
   "execution_count": 9,
   "id": "14e28692",
   "metadata": {},
   "outputs": [
    {
     "data": {
      "text/html": [
       "<div>\n",
       "<style scoped>\n",
       "    .dataframe tbody tr th:only-of-type {\n",
       "        vertical-align: middle;\n",
       "    }\n",
       "\n",
       "    .dataframe tbody tr th {\n",
       "        vertical-align: top;\n",
       "    }\n",
       "\n",
       "    .dataframe thead th {\n",
       "        text-align: right;\n",
       "    }\n",
       "</style>\n",
       "<table border=\"1\" class=\"dataframe\">\n",
       "  <thead>\n",
       "    <tr style=\"text-align: right;\">\n",
       "      <th></th>\n",
       "      <th>data_source</th>\n",
       "      <th>prompt</th>\n",
       "      <th>ability</th>\n",
       "      <th>reward_model</th>\n",
       "      <th>extra_info</th>\n",
       "      <th>uuid</th>\n",
       "    </tr>\n",
       "  </thead>\n",
       "  <tbody>\n",
       "    <tr>\n",
       "      <th>0</th>\n",
       "      <td>DAPO-Math-17k</td>\n",
       "      <td>[{'content': 'In triangle $ABC$, $\\sin \\angle ...</td>\n",
       "      <td>math</td>\n",
       "      <td>{'ground_truth': '34', 'style': 'rule-lighteva...</td>\n",
       "      <td>{'index': 0, 'split': 'train'}</td>\n",
       "      <td>d2ccd328-e712-4d6b-b909-a7956589db4e</td>\n",
       "    </tr>\n",
       "    <tr>\n",
       "      <th>1</th>\n",
       "      <td>DAPO-Math-17k</td>\n",
       "      <td>[{'content': 'Let $ABCD$ be a unit square in t...</td>\n",
       "      <td>math</td>\n",
       "      <td>{'ground_truth': '113', 'style': 'rule-lightev...</td>\n",
       "      <td>{'index': 1, 'split': 'train'}</td>\n",
       "      <td>5fb8b773-1e5f-48ab-b5ce-8d2ba6ed53cc</td>\n",
       "    </tr>\n",
       "    <tr>\n",
       "      <th>2</th>\n",
       "      <td>DAPO-Math-17k</td>\n",
       "      <td>[{'content': 'Let $a, b, c$ be distinct number...</td>\n",
       "      <td>math</td>\n",
       "      <td>{'ground_truth': '-3', 'style': 'rule-lighteva...</td>\n",
       "      <td>{'index': 2, 'split': 'train'}</td>\n",
       "      <td>974a3162-fb31-4720-86ab-6a3738ae84e7</td>\n",
       "    </tr>\n",
       "    <tr>\n",
       "      <th>3</th>\n",
       "      <td>DAPO-Math-17k</td>\n",
       "      <td>[{'content': 'There are $7$ boxes arranged in ...</td>\n",
       "      <td>math</td>\n",
       "      <td>{'ground_truth': '3', 'style': 'rule-lighteval...</td>\n",
       "      <td>{'index': 3, 'split': 'train'}</td>\n",
       "      <td>c47003a1-29c7-46ad-b566-977ba9018acb</td>\n",
       "    </tr>\n",
       "    <tr>\n",
       "      <th>4</th>\n",
       "      <td>DAPO-Math-17k</td>\n",
       "      <td>[{'content': 'Let $S$ be the set of triples $(...</td>\n",
       "      <td>math</td>\n",
       "      <td>{'ground_truth': '37', 'style': 'rule-lighteva...</td>\n",
       "      <td>{'index': 4, 'split': 'train'}</td>\n",
       "      <td>f8e041a5-2848-4dfb-99c4-74aa70c8d211</td>\n",
       "    </tr>\n",
       "  </tbody>\n",
       "</table>\n",
       "</div>"
      ],
      "text/plain": [
       "     data_source                                             prompt ability  \\\n",
       "0  DAPO-Math-17k  [{'content': 'In triangle $ABC$, $\\sin \\angle ...    math   \n",
       "1  DAPO-Math-17k  [{'content': 'Let $ABCD$ be a unit square in t...    math   \n",
       "2  DAPO-Math-17k  [{'content': 'Let $a, b, c$ be distinct number...    math   \n",
       "3  DAPO-Math-17k  [{'content': 'There are $7$ boxes arranged in ...    math   \n",
       "4  DAPO-Math-17k  [{'content': 'Let $S$ be the set of triples $(...    math   \n",
       "\n",
       "                                        reward_model  \\\n",
       "0  {'ground_truth': '34', 'style': 'rule-lighteva...   \n",
       "1  {'ground_truth': '113', 'style': 'rule-lightev...   \n",
       "2  {'ground_truth': '-3', 'style': 'rule-lighteva...   \n",
       "3  {'ground_truth': '3', 'style': 'rule-lighteval...   \n",
       "4  {'ground_truth': '37', 'style': 'rule-lighteva...   \n",
       "\n",
       "                       extra_info                                  uuid  \n",
       "0  {'index': 0, 'split': 'train'}  d2ccd328-e712-4d6b-b909-a7956589db4e  \n",
       "1  {'index': 1, 'split': 'train'}  5fb8b773-1e5f-48ab-b5ce-8d2ba6ed53cc  \n",
       "2  {'index': 2, 'split': 'train'}  974a3162-fb31-4720-86ab-6a3738ae84e7  \n",
       "3  {'index': 3, 'split': 'train'}  c47003a1-29c7-46ad-b566-977ba9018acb  \n",
       "4  {'index': 4, 'split': 'train'}  f8e041a5-2848-4dfb-99c4-74aa70c8d211  "
      ]
     },
     "execution_count": 9,
     "metadata": {},
     "output_type": "execute_result"
    }
   ],
   "source": [
    "## load parquet dataset\n",
    "import pandas as pd\n",
    "dataset = pd.read_parquet('/nas-ssd2/joykirat/code/verl-fork/verl/scripts/data/dapo-17k/train.parquet')\n",
    "dataset.head()"
   ]
  },
  {
   "cell_type": "code",
   "execution_count": 10,
   "id": "51a71306",
   "metadata": {},
   "outputs": [],
   "source": [
    "# convert this dataset into a dataset\n",
    "from datasets import Dataset\n",
    "dataset = Dataset.from_pandas(dataset)\n"
   ]
  },
  {
   "cell_type": "code",
   "execution_count": 12,
   "id": "322a257a",
   "metadata": {},
   "outputs": [
    {
     "data": {
      "text/plain": [
       "Dataset({\n",
       "    features: ['data_source', 'prompt', 'ability', 'reward_model', 'extra_info', 'uuid'],\n",
       "    num_rows: 20000\n",
       "})"
      ]
     },
     "execution_count": 12,
     "metadata": {},
     "output_type": "execute_result"
    }
   ],
   "source": [
    "dataset"
   ]
  },
  {
   "cell_type": "code",
   "execution_count": 13,
   "id": "61da7071",
   "metadata": {},
   "outputs": [
    {
     "data": {
      "application/vnd.jupyter.widget-view+json": {
       "model_id": "ab05b6d81e894388baf96b5dbcfc88f3",
       "version_major": 2,
       "version_minor": 0
      },
      "text/plain": [
       "Generating train split: 0 examples [00:00, ? examples/s]"
      ]
     },
     "metadata": {},
     "output_type": "display_data"
    }
   ],
   "source": [
    "dataset = load_dataset('parquet', data_files='/nas-ssd2/joykirat/code/verl-fork/verl/scripts/data/dapo-17k/train.parquet')"
   ]
  },
  {
   "cell_type": "code",
   "execution_count": 17,
   "id": "74c16f7e",
   "metadata": {},
   "outputs": [],
   "source": [
    "### remove some columsn from the dataset\n",
    "dataset = dataset.remove_columns(['data_source', 'ability', 'extra_info', 'uuid'])"
   ]
  },
  {
   "cell_type": "code",
   "execution_count": 21,
   "id": "ddacf91f",
   "metadata": {},
   "outputs": [
    {
     "data": {
      "text/plain": [
       "{'prompt': [{'content': \"In triangle $ABC$, $\\\\sin \\\\angle A = \\\\frac{4}{5}$ and $\\\\angle A < 90^\\\\circ$. Let $D$ be a point outside triangle $ABC$ such that $\\\\angle BAD = \\\\angle DAC$ and $\\\\angle BDC = 90^\\\\circ$. Suppose that $AD = 1$ and that $\\\\frac{BD}{CD} = \\\\frac{3}{2}$. If $AB + AC$ can be expressed in the form $\\\\frac{a\\\\sqrt{b}}{c}$ where $a, b, c$ are pairwise relatively prime integers, find $a + b + c$. Let's think step by step and output the final answer within \\\\boxed{}.\",\n",
       "   'role': 'user'}],\n",
       " 'reward_model': {'ground_truth': '34', 'style': 'rule-lighteval/MATH_v2'}}"
      ]
     },
     "execution_count": 21,
     "metadata": {},
     "output_type": "execute_result"
    }
   ],
   "source": [
    "dataset['train'][0]"
   ]
  },
  {
   "cell_type": "code",
   "execution_count": 22,
   "id": "b06bc9f9",
   "metadata": {},
   "outputs": [],
   "source": [
    "dataset = dataset['train']"
   ]
  },
  {
   "cell_type": "code",
   "execution_count": 24,
   "id": "5646a45f",
   "metadata": {},
   "outputs": [],
   "source": [
    "# create a new column with problem name from prompt\n",
    "dataset = dataset.add_column('problem', [d['prompt'][0]['content'].replace(\"Let's think step by step and output the final answer within \\\\boxed{}.\", '').strip() for d in dataset])\n"
   ]
  },
  {
   "cell_type": "code",
   "execution_count": 27,
   "id": "ab61e1cd",
   "metadata": {},
   "outputs": [],
   "source": [
    "dataset = dataset.add_column('solution', [d['reward_model']['ground_truth'] for d in dataset])"
   ]
  },
  {
   "cell_type": "code",
   "execution_count": 29,
   "id": "d949b790",
   "metadata": {},
   "outputs": [],
   "source": [
    "dataset = dataset.remove_columns(['prompt', 'reward_model'])"
   ]
  },
  {
   "cell_type": "code",
   "execution_count": 30,
   "id": "26564142",
   "metadata": {},
   "outputs": [
    {
     "data": {
      "text/plain": [
       "Dataset({\n",
       "    features: ['problem', 'solution'],\n",
       "    num_rows: 20000\n",
       "})"
      ]
     },
     "execution_count": 30,
     "metadata": {},
     "output_type": "execute_result"
    }
   ],
   "source": [
    "dataset"
   ]
  },
  {
   "cell_type": "code",
   "execution_count": 34,
   "id": "868bb2f8",
   "metadata": {},
   "outputs": [],
   "source": [
    "### save the dataset locally in dataset format '/nas-ssd2/joykirat/code/verl-fork/baselines/LC-R1/dapo-17k'\n",
    "from datasets import load_dataset, load_from_disk\n",
    "# dataset.save_to_disk('/nas-ssd2/joykirat/code/verl-fork/baselines/LC-R1/dapo-17k')"
   ]
  },
  {
   "cell_type": "code",
   "execution_count": 35,
   "id": "93053ad7",
   "metadata": {},
   "outputs": [],
   "source": [
    "# load the dataset from the local dataset format\n",
    "dataset = load_from_disk('/nas-ssd2/joykirat/code/verl-fork/baselines/LC-R1/dapo-17k')"
   ]
  },
  {
   "cell_type": "code",
   "execution_count": null,
   "id": "8960bb8b",
   "metadata": {},
   "outputs": [],
   "source": []
  }
 ],
 "metadata": {
  "kernelspec": {
   "display_name": "venv",
   "language": "python",
   "name": "python3"
  },
  "language_info": {
   "codemirror_mode": {
    "name": "ipython",
    "version": 3
   },
   "file_extension": ".py",
   "mimetype": "text/x-python",
   "name": "python",
   "nbconvert_exporter": "python",
   "pygments_lexer": "ipython3",
   "version": "3.12.3"
  }
 },
 "nbformat": 4,
 "nbformat_minor": 5
}
