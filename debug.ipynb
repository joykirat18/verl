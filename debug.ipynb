{
 "cells": [
  {
   "cell_type": "code",
   "execution_count": 1,
   "id": "0614fd04",
   "metadata": {},
   "outputs": [],
   "source": [
    "import pandas as pd\n",
    "import torch\n",
    "\n",
    "# Read Parquet file into a pandas DataFrame\n",
    "df = pd.read_parquet('/nas-ssd2/joykirat/code/verl-fork/verl/examples/data_preprocess/data/deepscaler_uniform_train.parquet')"
   ]
  },
  {
   "cell_type": "code",
   "execution_count": 8,
   "id": "45821715",
   "metadata": {},
   "outputs": [
    {
     "data": {
      "text/plain": [
       "{'math'}"
      ]
     },
     "execution_count": 8,
     "metadata": {},
     "output_type": "execute_result"
    }
   ],
   "source": [
    "set(list(df['ability']))"
   ]
  },
  {
   "cell_type": "code",
   "execution_count": null,
   "id": "45403e08",
   "metadata": {},
   "outputs": [],
   "source": []
  }
 ],
 "metadata": {
  "kernelspec": {
   "display_name": "venv",
   "language": "python",
   "name": "python3"
  },
  "language_info": {
   "codemirror_mode": {
    "name": "ipython",
    "version": 3
   },
   "file_extension": ".py",
   "mimetype": "text/x-python",
   "name": "python",
   "nbconvert_exporter": "python",
   "pygments_lexer": "ipython3",
   "version": "3.12.3"
  }
 },
 "nbformat": 4,
 "nbformat_minor": 5
}
