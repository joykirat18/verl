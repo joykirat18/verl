{
 "cells": [
  {
   "cell_type": "code",
   "execution_count": 8,
   "id": "2ddc1af8",
   "metadata": {},
   "outputs": [],
   "source": [
    "data_source = ['math-amc', 'math-aime', 'gpqa', 'mip-insufficient', 'mip-question', 'bbh', 'bbh_boolean_expressions', 'bbh_causal_judgement', 'bbh_date_understanding', 'bbh_disambiguation_qa', 'bbh_logical_deduction_five_objects', 'bbh_movie_recommendation', 'bbh_navigate', 'bbh_object_counting', 'bbh_snarks', 'underthink-bench', ]"
   ]
  },
  {
   "cell_type": "code",
   "execution_count": 1,
   "id": "5217088d",
   "metadata": {},
   "outputs": [
    {
     "name": "stdout",
     "output_type": "stream",
     "text": [
      "INFO 10-01 09:57:36 [importing.py:53] Triton module has been replaced with a placeholder.\n",
      "INFO 10-01 09:57:36 [__init__.py:239] Automatically detected platform cuda.\n"
     ]
    }
   ],
   "source": [
    "import os\n",
    "\n",
    "os.environ['HF_HOME'] = '/nas-ssd2/joykirat/.cache/huggingface'\n",
    "os.environ['CUDA_VISIBLE_DEVICES'] = '7'\n",
    "from transformers import AutoTokenizer, AutoModelForCausalLM\n",
    "from vllm import LLM\n",
    "\n",
    "tokenizer = AutoTokenizer.from_pretrained(\"Qwen/Qwen3-4B\")\n",
    "# Qwen/Qwen3-4B\n",
    "# deepseek-ai/DeepSeek-R1-Distill-Llama-8B\n",
    "# deepseek-ai/DeepSeek-R1-Distill-Qwen-7B\n",
    "# model = LLM(model=\"Qwen/Qwen3-4B\", gpu_memory_utilization=0.95, tensor_parallel_size=1, task=\"embed\")\n",
    "\n",
    "\n",
    "\n"
   ]
  },
  {
   "cell_type": "code",
   "execution_count": 101,
   "id": "739a2ddb",
   "metadata": {},
   "outputs": [],
   "source": [
    "import json\n",
    "data = []\n",
    "with open('/nas-ssd2/joykirat/code/verl-fork/verl/TTS_attention/full_gpqa_test_with_responses_batched_v5.jsonl', 'r') as f:\n",
    "    for line in f:\n",
    "        data.append(json.loads(line))\n",
    "        "
   ]
  },
  {
   "cell_type": "code",
   "execution_count": 102,
   "id": "ead5a0ce",
   "metadata": {},
   "outputs": [
    {
     "name": "stdout",
     "output_type": "stream",
     "text": [
      "gpqa 0.3715736040609137 985\n"
     ]
    }
   ],
   "source": [
    "import numpy as np\n",
    "\n",
    "accuracy_by_source = {}\n",
    "for line in data:\n",
    "    if line['data_source'] not in accuracy_by_source:\n",
    "        if 'bbh_' in line['data_source']:\n",
    "            line['data_source'] = 'bbh'\n",
    "        accuracy_by_source[line['data_source']] = []\n",
    "    accuracy_by_source[line['data_source']].append(line['final_reward'])\n",
    "    \n",
    "for source in accuracy_by_source:\n",
    "    mean_accuracy = np.mean(accuracy_by_source[source])\n",
    "    print(source, mean_accuracy, len(accuracy_by_source[source]))\n",
    "    \n",
    "    "
   ]
  },
  {
   "cell_type": "code",
   "execution_count": 103,
   "id": "cada0243",
   "metadata": {},
   "outputs": [],
   "source": [
    "# import numpy as np\n",
    "# response_length_list = {}\n",
    "# from tqdm import tqdm\n",
    "# for line in tqdm(data):\n",
    "#     if line['data_source'] not in response_length_list:\n",
    "#         response_length_list[line['data_source']] = []\n",
    "#     response_length_list[line['data_source']].append(len(tokenizer.encode(line['response'])))\n",
    "# for source in response_length_list:\n",
    "#     mean_response_length = np.mean(response_length_list[source])\n",
    "#     print(source, mean_response_length)\n",
    "            "
   ]
  },
  {
   "cell_type": "code",
   "execution_count": 121,
   "id": "c78bcf68",
   "metadata": {},
   "outputs": [],
   "source": [
    "import re\n",
    "from math_verify.errors import TimeoutException\n",
    "from math_verify.metric import math_metric\n",
    "from math_verify.parser import ExprExtractionConfig, LatexExtractionConfig\n",
    "\n",
    "def clean_prediction(model_output: str) -> str:\n",
    "    \"\"\"\n",
    "    Try to normalize model outputs like 'Answer: C. Cotton' into '\\boxed{C}'.\n",
    "    \"\"\"\n",
    "\n",
    "    # If boxed answer is already there, keep it\n",
    "    boxed_match = re.search(r'\\\\boxed\\{([A-Za-z0-9]+)\\}', model_output)\n",
    "    if boxed_match:\n",
    "        return f\"\\\\boxed{{{boxed_match.group(1)}}}\"\n",
    "\n",
    "    # Otherwise, try to find a single-letter multiple-choice answer\n",
    "    choice_match = re.search(r'\\b([A-E])\\b', model_output)\n",
    "    if choice_match:\n",
    "        return f\"\\\\boxed{{{choice_match.group(1)}}}\"\n",
    "\n",
    "    # If nothing found, just return as-is\n",
    "    return model_output.strip()\n",
    "\n",
    "def getRawCorrectness(model_output: str, ground_truth: str) -> float:\n",
    "    verify_func = math_metric(\n",
    "        gold_extraction_target=(LatexExtractionConfig(),),\n",
    "        pred_extraction_target=(ExprExtractionConfig(), LatexExtractionConfig()),\n",
    "    )\n",
    "\n",
    "    ret_score = 0.0\n",
    "    ground_truth_boxed = f\"\\\\boxed{{{ground_truth}}}\"\n",
    "\n",
    "    try:\n",
    "        pred_clean = clean_prediction(model_output)\n",
    "        ret_score, _ = verify_func([ground_truth_boxed], [pred_clean])\n",
    "    except Exception:\n",
    "        pass\n",
    "\n",
    "    return ret_score\n",
    "\n",
    "def getCorrectness(model_output: str, ground_truth: str) -> float:\n",
    "    # if '</think>' in model_output:\n",
    "        # model_output = model_output.split('</think>')[-1]\n",
    "# \n",
    "    verify_func = math_metric(\n",
    "        gold_extraction_target=(LatexExtractionConfig(),),\n",
    "        pred_extraction_target=(ExprExtractionConfig(), LatexExtractionConfig()),\n",
    "    )\n",
    "\n",
    "    ret_score = 0.0\n",
    "    ground_truth_boxed = f\"\\\\boxed{{{ground_truth}}}\"\n",
    "\n",
    "    try:\n",
    "        pred_clean = clean_prediction(model_output)\n",
    "        ret_score, _ = verify_func([ground_truth_boxed], [pred_clean])\n",
    "    except Exception:\n",
    "        pass\n",
    "\n",
    "    return ret_score\n"
   ]
  },
  {
   "cell_type": "code",
   "execution_count": 122,
   "id": "9444a12d",
   "metadata": {},
   "outputs": [
    {
     "data": {
      "text/plain": [
       "{'data_source': 'gpqa',\n",
       " 'prompt': \"user\\nIn an experiment, a researcher reacted ((2,2-dimethylbut-3-en-1-yl)oxy)benzene with hydrogen bromide. After some time, they checked the progress of the reaction using TLC. They found that the reactant spot had diminished, and two new spots were formed. Which of the following could be the structures of the products?\\n\\nA) (4-bromo-2,2-dimethylbutoxy)benzene and (3-bromo-2,2-dimethylbutoxy)benzene\\nB) (4-bromo-2,2-dimethylbutoxy)benzene and ((2,3-dimethylbut-2-en-1-yl)oxy)benzene\\nC) 3,3,4-trimethylchromane and 3-isopropyl-3-methyl-2,3-dihydrobenzofuran\\nD) 2-(2,2-dimethylbutyl)phenol and 4-(2,2-dimethylbutyl)phenol\\n\\nLet's think step by step and output the final answer within \\\\boxed{}.\\nassistant\\n\",\n",
       " 'response': \"<think>\\nOkay, let's try to figure this out. The question is about a reaction between (2,2-dimethylbut-3-en-1-yl)oxybenzene and hydrogen bromide. The TLC shows that the reactant spot disappears and two new spots form. So I need to determine the possible products.\\n\\nFirst, I should recall what kind of reaction is happening here. The reactant is an ether, specifically (2,2-dimethylbut-3-en-1-yl)oxybenzene. When you react an ether with HBr, I think it's likely an SN1 or SN2 reaction. But since the alkyl group is connected to an oxygen, maybe it's a nucleophilic substitution where the oxygen attacks HBr, leading to a bromide ion substitution.\\n\\nWait, but the structure of the alkyl group is (2,2-dimethylbut-3-en-1-yl). Let me draw that out. But-3-en is a five-carbon chain with a double bond between carbons 3 and 4. But since it's 1-yl, the structure is:\\n\\nThe base is but-3-ene, which is CH2-CH2-CH=CH2, but with two methyl groups on the second carbon. Wait, no, the name is 2,2-dimethylbut-3-en-1-yl. Let me break it down.\\n\\nBut-3-ene is a four-carbon chain with a double bond between carbons 3 and 4. But then the substituents are two methyl groups on carbon 2. So the structure would be:\\n\\nCarbon 1: CH2-\\nCarbon 2: C(CH3)2-\\nCarbon 3: CH-\\nCarbon 4: CH2-\\nWait, no. But-3-en is the parent chain. Let me think. But-3-en is CH2-CH2-CH=CH2? No, but-3-en is actually CH2-CH(CH2)-CH2? Wait, no. Let me think again. The correct structure of but-3-ene is CH2-CH2-CH=CH2? No, that's actually 1-butene. But but-3-ene would be CH2-CH(CH2)-CH2? Wait, no. The correct structure is CH2-CH2-CH=CH2? No, but-3-ene is CH2-CH(CH2)-CH2? I'm confused.\\n\\nActually, the correct structure of but-3-ene is CH2CH2CH=CH2? Wait, no. Wait, but-3-ene is CH2CH2CH=CH2? No, but-3-ene is CH2-CH2-CH=CH2? Wait, no. The correct structure is CH2-CH(CH2)-CH2? No. Let me get this straight. The parent chain is butane (four carbons). The double bond is between carbons 3 and 4. So the structure would be CH2CH2CH2CH2 with the double bond between the third and fourth carbons. Wait, but that would be CH2CH2CH=CH2? Wait, that's actually 1-butene. Wait, no, but-3-ene is CH2CH(CH2)CH2? I'm getting confused here. Maybe I should look up the structure. But since I can't, I'll try to think.\\n\\nBut-3-ene is CH2CH2CH=CH2? Wait, that would be but-1-ene if the double bond is between C1 and C2. But but-3-ene would have the double bond between C3 and C4. So the structure would be CH2CH2CH=CH2? Wait, but that would be CH2CH2CH=CH2, which is actually 1-butene. Wait, no. Maybe the correct structure is CH2CH2CH=CH2. Wait, perhaps I need to think of it as CH2-CH2-CH=CH2. Wait, but that's 1-butene. Wait, no, maybe the structure is CH2CH(CH2)CH2? No. Wait, maybe I should draw it as follows:\\n\\nBut-3-ene is CH2CH2CH=CH2? Wait, no. Let me think. The correct IUPAC name for but-3-ene is CH2CH2CH=CH2. Wait, no. The correct structure is CH2CH2CH=CH2. Wait, but that's 1-butene. Wait, maybe I'm mixing up the numbering. Let me try again. The parent chain is butene. The double bond is between carbons 3 and 4. So the structure is CH2CH2CH=CH2. But that would mean the double bond is between C3 and C4. But in a four-carbon chain, that would be the same as the double bond between C1 and C2 if you number from the other end. Wait, no. If the chain is C1-C2-C3-C4, then but-3-ene would have the double bond between C3 and C4. But that would be the same as but-1-ene if you number from the other end. Wait, but but-3-ene is actually not a valid name. Wait, no. Wait, in IUPAC nomenclature, the double bond is numbered to give the lowest possible number. So but-1-ene is CH2=CHCH2CH3. But-2-ene is CH2CH=CHCH3. But-3-ene would be CH2CH2CH=CH2. But that would be the same as but-1-ene if you reverse the chain. Therefore, but-3-ene is actually not possible. Wait, so maybe the correct structure is but-2-ene. So perhaps the original question has a typo? Or maybe I'm misunderstanding.\\n\\nAlternatively, maybe the alkyl group is (2,2-dimethylbut-3-en-1-yl). Let me think again. The parent chain is but-3-en, which is a five-carbon chain? Wait, no. The parent chain is but-3-ene, which is four carbons. But with two methyl groups on carbon 2. So maybe the structure is:\\n\\nCarbon 1: CH2-\\nCarbon 2: C(CH3)2-\\nCarbon 3: CH-\\nCarbon 4: CH2-\\nBut with a double bond between C3 and C4? Wait, that would make the structure:\\n\\nCH2-C(CH3)2-CH=CH2. Wait, that would be (2,2-dimethylbut-3-en-1-yl). So the structure is 2,2-dimethylbut-3-en-1-yl. So the alkyl group is a branched chain with a double bond. Let me try to draw this. The parent chain is but-3-ene, which is four carbons with a double bond between 3 and 4. But with two methyl groups on carbon 2. So the structure would be:\\n\\nCarbon 1: CH2-\\nCarbon 2: C(CH3)2-\\nCarbon 3: CH-\\nCarbon 4: CH2-\\nBut with a double bond between 3 and 4. Wait, but that would mean the double bond is between C3 and C4. However, with two methyl groups on C2, the structure is:\\n\\nCH2-C(CH3)2-CH=CH2. So the alkyl group is (2,2-dimethylbut-3-en-1-yl). That is, the structure is:\\n\\nCH2-C(CH3)2-CH=CH2. Wait, but the position of the double bond is between C3 and C4? Wait, but if the parent chain is but-3-ene, then the double bond is between C3 and C4. But then the entire structure would be:\\n\\nCH2-CH(CH3)-CH=CH2? No, that would be but-2-ene with a methyl group. Wait, maybe I need to think of the entire alkyl group as (2,2-dimethylbut-3-en-1-yl). Let me try to write the structure as follows:\\n\\nThe base is but-3-ene. But but-3-ene would have the double bond between C3 and C4. However, with two methyl groups on C2. Wait, but if the parent chain is but-3-ene, then the structure is CH2CH2CH=CH2? No, I think I need to think of this as a five-carbon chain. Wait, but but is four carbons. Maybe the problem is that the alkyl group is (2,2-dimethylbut-3-en-1-yl). So the parent chain is but-3-ene, but with two methyl groups on the second carbon. Wait, perhaps the structure is:\\n\\nCH2-C(CH3)2-CH=CH2. That would be a five-carbon chain? No, wait. But the parent chain is but-3-ene. Wait, but if the parent chain is four carbons, and the double bond is between C3 and C4, then the structure would be:\\n\\nCH2-CH2-CH=CH2. But with two methyl groups on the second carbon. So that would be CH2-C(CH3)2-CH=CH2. Wait, but that would be a five-carbon chain? No, because the but-3-ene is four carbons. Let me think again. The parent chain is four carbons. The double bond is between C3 and C4. The second carbon (C2) has two methyl groups. So the structure is:\\n\\nCarbon 1: CH2-\\nCarbon 2: C(CH3)2-\\nCarbon 3: CH-\\nCarbon 4: CH2-\\nBut the double bond is between C3 and C4. Wait, but that would be:\\n\\nCH2-C(CH3)2-CH=CH2. Wait, but that's a five-carbon chain? No. Carbon 1 is CH2, then carbon 2 is CH(CH3)2. Then carbon 3 is CH, and carbon 4 is CH2. But with a double bond between 3 and 4. So that would make the entire structure have five carbons? Because the first carbon is CH2, then carbon 2 is connected to carbon 1 and carbon 3, which is CH. So maybe this is actually a five-carbon chain with the double bond between 3 and 4? But the parent name is but-3-ene. Wait, maybe there's a mistake here. Alternatively, maybe the structure is 2,2-dimethylbut-3-en-1-yl. Let me look at the structure again. The substituent is (2,2-dimethylbut-3-en-1-yl). So the parent chain is but-3-ene. But but-3-ene can't exist, since but-1-ene and but-2-ene are the only possibilities. So perhaps the parent chain is actually pent-3-ene? But the name is but-3-en. This is confusing. Maybe I should proceed by considering that the alkyl group is a branched alkene with two methyl groups on the second carbon and a double bond between the third and fourth.\\n\\nAlternatively, perhaps it's easier to think of the starting material as a substituted benzene with an oxygen connected to a branched alkene group. The reaction with HBr would likely lead to substitution of the oxygen with Br. But wait, in an ether, when you react with HBr, it's possible that the oxygen is attacked by Br- in an SN2 reaction, but since the alkyl group is bulky, maybe it's an SN1 reaction. However, if the oxygen is a good leaving group, then the HBr could protonate the oxygen, leading to the formation of a good leaving group (H2O), and then the Br- could attack the carbon. Wait, but the reaction of an ether with HBr usually gives an alkyl bromide. Wait, but the starting material is (2,2-dimethylbut-3-en-1-yl)oxybenzene, which is phenyl ether with an alkyl group. So the structure is:\\n\\nPh-O-CH2-C(CH3)2-CH=CH2? Wait, no. Wait, the structure is benzene ring attached to an oxygen, which is connected to a (2,2-dimethylbut-3-en-1-yl) group. So the entire alkyl group is (2,2-dimethylbut-3-en-1-yl). Let me try to draw that as a substituent on the benzene ring. So the oxygen is connected to the benzene ring and to the alkyl group. The alkyl group is (2,2-dimethylbut-3-en-1-yl). Let me think of this as:\\n\\nThe alkyl chain is 1-yl, so the chain starts with the oxygen. So the structure is:\\n\\nO-CH2-C(CH3)2-CH=CH2? No, wait. The but-3-en part is the parent chain. So the but-3-en is a four-carbon chain with a double bond between 3 and 4. So the structure would be CH2-CH2-CH=CH2, but with two methyl groups on the second carbon. So the entire alkyl group would be:\\n\\nCH2-C(CH3)2-CH=CH2. But that would be five carbons? Wait, the base is but-3-ene (four carbons). So maybe the structure is:\\n\\nCH2-C(CH3)2-CH=CH2. Wait, but that would be a five-carbon chain? No. The parent chain is four carbons. The double bond is between carbons 3 and 4, and two methyl groups on carbon 2. So the structure is CH2-CH(CH3)2-CH=CH2? No, that would be but-2-ene with two methyl groups on carbon 2? Wait, but the name is but-3-en. I think I'm stuck here. Maybe I should just consider that the alkyl group is 2,2-dimethylbut-3-en-1-yl. The key is that the structure has a double bond and two methyl groups on carbon 2. \\n\\nNow, when this compound reacts with HBr, the reaction is likely an SN1 or SN2. But since the oxygen is connected to a fairly bulky alkyl group, maybe the reaction is SN1. The mechanism would involve the oxygen being protonated by HBr, forming a good leaving group (H2O), and then the bromide ion attacking the carbocation that forms. However, if the alkyl group is a secondary carbon (but maybe not), the carbocation might be more stable if there are alkyl groups. Wait, but the alkyl group is (2,2-dimethylbut-3-en-1-yl). Let's see. The carbocation would form at the carbon adjacent to the oxygen. Wait, the structure is O-CH2-C(CH3)2-CH=CH2. Wait, no. Wait, the alkyl group is connected to the oxygen. So the structure is O-alkyl. So the alkyl group is attached to the oxygen. The oxygen is connected to the benzene ring and to the alkyl group. The alkyl group is (2,2-dimethylbut-3-en-1-yl). So the carbon that's connected to the oxygen is the first carbon of the alkyl group. The entire alkyl group is 1-yl, so the first carbon is CH2-... Wait, but the but-3-en is in the middle. Maybe the structure is:\\n\\nThe alkyl group is CH2-C(CH3)2-CH=CH2? So the oxygen is connected to the CH2 group. Then, when HBr is added, the oxygen is attacked by H+ from HBr, leading to the formation of a good leaving group (H2O), and the carbocation would form at the adjacent carbon (the CH2 group). But the carbocation would be CH2+ connected to the rest of the group. Wait, that might not be stable. Alternatively, maybe the reaction leads to the formation of a bromide at a different position.\\n\\nAlternatively, maybe the HBr adds to the double bond, leading to a bromide. But the starting material is an ether, so the reaction might be a nucleophilic substitution where the oxygen is replaced by Br. However, in the case of a branched alkyl group, the reaction might lead to different products depending on the mechanism. \\n\\nWait, but the starting material is (2,2-dimethylbut-3-en-1-yl)oxybenzene. The oxygen is connected to the benzene ring and to the alkyl group. When HBr is added, maybe the oxygen is protonated, and the Br- attacks the carbon adjacent to the oxygen. However, the alkyl group is (2,2-dimethylbut-3-en-1-yl), so the carbon next to the oxygen would be the first carbon in the alkyl group. Let me imagine that structure. The oxygen is connected to a CH2 group, which is connected to C(CH3)2, which is connected to a double bond between CH and CH2. \\n\\nIf the reaction is an SN2, the Br- would attack the carbon adjacent to the oxygen. However, if the structure has a double bond, maybe the mechanism is different. Alternatively, maybe the reaction leads to the formation of a bromide in the alkyl group, but since the oxygen is connected to the alkyl group, maybe the bromine ends up on the carbon of the alkyl group. \\n\\nWait, but how would that work? The reaction is HBr with the ether. So the oxygen is the leaving group. The mechanism would be HBr adding to the oxygen, forming a carbocation, and then Br- attacking. However, if the carbocation is formed at the carbon adjacent to the oxygen (the CH2 group), then the carbocation would be CH2+ connected to the rest of the group. But that might not be stable. Alternatively, maybe the double bond in the alkyl group allows for a different kind of reaction, such as a hydride shift or something else. \\n\\nAlternatively, maybe the reaction leads to the formation of a bromide on the double bond. Wait, if the alkyl group has a double bond, maybe the HBr adds to the double bond, but that would be an addition reaction. However, the starting material is an ether, so maybe the reaction is a nucleophilic substitution where the Br replaces the oxygen. \\n\\nBut if that's the case, the product would be (2,2-dimethylbut-3-en-1-yl) bromide attached to the benzene ring. But the problem states that two new spots are formed, meaning two products. So maybe there are two possible products, perhaps due to different carbocation rearrangements. \\n\\nAlternatively, maybe the HBr adds across the double bond, leading to a bromide on the double bond. Let me think. If the alkyl group has a double bond (CH=CH2), and HBr adds, then the bromine would add to one of the carbons. But in this case, the starting material is an ether with the alkyl group. Maybe the reaction is not addition, but substitution. \\n\\nAlternatively, maybe the oxygen is attacked by HBr, forming a bromide. Let me think: the oxygen is connected to the benzene ring and to the alkyl group. The oxygen is a good leaving group, so the HBr would attack the oxygen. The reaction would be:\\n\\nPh-O-alkyl + HBr → Ph-Br + alkyl-OH? Wait, no. Wait, the reaction of an ether with HBr is typically to form an alkyl bromide. For example, if you have R-O-R' and you add HBr, you can get R-Br and R'-OH. But in this case, the alkyl group is connected to the oxygen. So maybe the reaction would produce a bromide and an alcohol. However, in this case, the oxygen is connected to the benzene ring. So the structure is Ph-O-alkyl. When HBr is added, it would be Ph-O-alkyl + HBr → Ph-Br + alkyl-OH? Wait, that doesn't make sense. Wait, no. The mechanism would be: the oxygen is protonated by HBr, forming Ph-OH2+ and then the Br- attacks. But the alkyl group is connected to the oxygen. Wait, this is confusing. Maybe the reaction is similar to the formation of an alkyl bromide from an ether. In that case, the oxygen would be replaced by Br. So Ph-O-alkyl would become Ph-Br-alkyl? Wait, no. Wait, in the case of R-O-R', adding HBr would give R-Br and R'-OH. But here, if the R is the benzene ring, and the other R is the alkyl group, then the reaction would give Ph-Br and alkyl-OH. But in this case, the alkyl group is (2,2-dimethylbut-3-en-1-yl). So the product would be (2,2-dimethylbut-3-en-1-yl)OH and Ph-Br? But the question says that the reactant spot disappears, and two new spots appear. If the starting material is one compound, and it becomes two products, then that would be Ph-Br and the other product being (2,2-dimethylbut-3-en-1-yl)OH? But the answer options don't have that. Let me check the options.\\n\\nOption A: (4-bromo-2,2-dimethylbutoxy)benzene and (3-bromo-2,2-dimethylbutoxy)benzene. These are both benzene rings with bromo and butoxy groups. But the starting material is Ph-O-alkyl. If the reaction is substitution of O with Br, then it would be Ph-Br-alkyl? But the options don't have that. Alternatively, maybe the bromine is on the alkyl group. \\n\\nOption D: 2-(2,2-dimethylbutyl)phenol and 4-(2,2-dimethylbutyl)phenol. Phenol is OH attached to the benzene. But in the starting material, the oxygen is connected to the alkyl group. If the reaction is substitution of the oxygen with Br, then maybe not. But if the oxygen is replaced by Br, then the product would be Ph-Br-alkyl. But that's not an option. \\n\\nAlternatively, maybe the reaction is an addition reaction to the double bond in the alkyl group. If the alkyl group has a double bond, maybe HBr adds across the double bond. For example, the alkyl group is (2,2-dimethylbut-3-en-1-yl), which is CH2-C(CH3)2-CH=CH2. The double bond is between C3 and C4. Adding HBr to this double bond would give a bromide. The addition could be via Markovnikov's rule. The double bond is CH=CH2. Adding HBr would add to the double bond. The more substituted carbon would get the Br. So the structure would be CH2-C(CH3)2-CHBr-CH3? Wait, but the starting double bond is between C3 and C4, which are CH and CH2. If the addition is HBr, then the Br would add to the CH2 side? Or the CH side? \\n\\nBut this seems complicated. Also, the starting material is an ether, so maybe the HBr is reacting with the ether oxygen. Alternatively, the HBr could be reacting with the double bond in the alkyl group, leading to a bromide. \\n\\nBut if the reaction is both substitution and addition, maybe the products are two different bromides. For example, if the Br can add to two different positions due to the double bond, but that would be if there's a possibility for different additions. However, in this case, the starting material has the oxygen attached to the benzene and the alkyl group. So maybe the reaction is substitution of the oxygen with Br, leading to a bromide on the alkyl group. But the structure of the product would be (2,2-dimethylbut-3-en-1-yl)Br attached to the benzene. Wait, but that would not fit any of the options. \\n\\nLooking back at the options, let's look at option D: 2-(2,2-dimethylbutyl)phenol and 4-(2,2-dimethylbutyl)phenol. Phenol has an -OH group. So that would imply that the oxygen in the original ether is replaced by an -OH group. But that would be if the reaction were a substitution where the oxygen is replaced by OH, but that would require a different reactant. However, the reaction is with HBr, which is a source of Br- and H+. \\n\\nWait, maybe the reaction is not substitution but addition. If the double bond in the alkyl group is attacked by HBr, then the product would have a bromide on the double bond. However, the original compound has the oxygen attached to the benzene ring. So maybe the reaction is an addition to the double bond, and the oxygen is still there? That seems unlikely. \\n\\nAlternatively, maybe the reaction is a nucleophilic substitution where the Br replaces the oxygen, but the oxygen is connected to the benzene ring. Wait, but that would give a bromide connected to the benzene ring. For example, if the starting material is Ph-O-alkyl, and the product is Ph-Br-alkyl. But none of the options have that. \\n\\nWait, looking at option A: (4-bromo-2,2-dimethylbutoxy)benzene and (3-bromo-2,2-dimethylbutoxy)benzene. These are both benzene rings with butoxy groups and bromo substituents. So maybe the original compound is phenol with an ether? No, the original compound is an ether with the oxygen connected to the benzene. So if the reaction is substitution of the oxygen with Br, but that would give Ph-Br attached to the alkyl group. But the options don't have that. \\n\\nAlternatively, maybe the reaction is a nucleophilic substitution where the oxygen is replaced by Br, but the Br is on the benzene ring. That would be if the original compound is (2,2-dimethylbut-3-en-1-yl)oxybenzene, and when reacting with HBr, the Br is added to the benzene ring. But that would require the oxygen to be a leaving group, and the Br to attack the benzene ring. That seems unlikely. \\n\\nAlternatively, maybe the reaction is a nucleophilic substitution at the oxygen, but the Br is on the alkyl group. For example, the oxygen is replaced by Br, but that would be Ph-Br-alkyl. But again, that's not in any of the options. \\n\\nLooking at option D: 2-(2,2-dimethylbutyl)phenol and 4-(2,2-dimethylbutyl)phenol. These are phenols where the substituent is (2,2-dimethylbutyl) on the 2 or 4 position. But the starting material has a (2,2-dimethylbut-3-en-1-yl) group attached to the oxygen. If the reaction is somehow replacing the oxygen with an -OH group, then that would fit option D, but that would require the reaction to be with something like H2O, not HBr. \\n\\nAlternatively, maybe the reaction is not a simple substitution but involves the double bond in the alkyl group reacting with HBr. For example, the alkyl group has a double bond. Let me think. The alkyl group is (2,2-dimethylbut-3-en-1-yl), which is CH2-C(CH3)2-CH=CH2. If this alkyl group is reacting with HBr, the double bond could undergo addition. The addition of HBr to a double bond typically follows Markovnikov's rule, adding H to the less substituted carbon. So if the double bond is between CH and CH2, adding HBr would add H to the CH side and Br to the CH2 side. So the product would be CH2-C(CH3)2-CHBr-CH3. But this would be a bromide on the CH2 side. So the entire alkyl group would be CH2-C(CH3)2-CHBr-CH3. Then, this alkyl group is attached to the oxygen. But the starting material is Ph-O-alkyl. If the reaction is addition of HBr to the double bond, then the product would have Br on the alkyl group, and the oxygen remains. So the product would be Ph-O-alkyl with Br added to the double bond. But how does that fit into the options?\\n\\nAlternatively, maybe the reaction leads to two different products due to different addition patterns or carbocation rearrangements. For example, if there's a possibility of hydride shift or something else, leading to different products. \\n\\nBut let's try to analyze the structure again. The original compound has the alkyl group as (2,2-dimethylbut-3-en-1-yl). Let's try to write this as a substituted alkene. The but-3-en part is a four-carbon chain with a double bond between carbons 3 and 4. But with two methyl groups on carbon 2. So the structure is:\\n\\nCarbon 1: CH2-\\nCarbon 2: C(CH3)2-\\nCarbon 3: CH-\\nCarbon 4: CH2-\\n\\nWait, but with a double bond between carbons 3 and 4. So the structure is CH2-C(CH3)2-CH=CH2. The double bond is between the third and fourth carbon. When this reacts with HBr, the addition could be at the double bond. Let's say the addition is to the double bond. The double bond is CH=CH2. Adding HBr, the Br would go to the more substituted carbon. The left side of the double bond is CH, which is less substituted than the CH2. So according to Markovnikov, the H would add to the CH side, and Br to the CH2 side. So the product would be CH2-C(CH3)2-CH2-CH2Br? No, wait. Let me think again. The double bond is between C3 and C4, which are CH and CH2. Adding HBr would give the structure:\\n\\nCH2-C(CH3)2-CH2-CH2Br? No. Wait, the addition would be:\\n\\nOriginal double bond: CH=CH2. Adding HBr: the Br would go to the CH2 side, making it CH2-CHBr. Wait, but the structure is more complex. Let me try to write it as:\\n\\nThe original double bond is between the third and fourth carbon of the alkyl group. So, the alkyl group is: CH2-C(CH3)2-CH=CH2. Adding HBr to the double bond would give CH2-C(CH3)2-CH2-CH2Br? No, that would be adding H and Br across the double bond. Let me think about the addition: the H adds to the CH (less substituted), and the Br adds to the CH2. So the double bond becomes CH2-CHBr. Wait, but that would be:\\n\\nCH2-C(CH3)2-CHBr-CH3. So the product is CH2-C(CH3)2-CHBr-CH3. So the alkyl group now has a Br on the third carbon. This would be a 3-bromo-2,2-dimethylbutyl group. If this is attached to the oxygen, then the structure would be Ph-O-CH2-C(CH3)2-CHBr-CH3. But this would be a bromide on the third carbon of the alkyl group. However, this doesn't match any of the options directly.\\n\\nAlternatively, maybe there is a rearrangement. For example, if the carbocation formed is not stable, and there is a hydride shift. Let's say the double bond is between the third and fourth carbon. When HBr adds, the mechanism could form a carbocation at the fourth carbon (CH2+). But that would be a primary carbocation, which is unstable. So a hydride shift could occur from the third carbon (CH) to the fourth carbon, giving a more stable carbocation at the third carbon. Then, the Br would add to the third carbon. So the product would be CH2-C(CH3)2-CHBr-CH3. Wait, but this is the same as before. So the product would be 3-bromo-2,2-dimethylbutyl group attached to the oxygen.\\n\\nBut the starting material is Ph-O-alkyl, so after adding Br to the double bond, it would be Ph-O-alkyl with Br on the alkyl group. But this would mean the product is (2,2-dimethylbutyl-3-Br)oxybenzene. But the options don't have that. Option A has (4-bromo-2,2-dimethylbutoxy)benzene and (3-bromo-2,2-dimethylbutoxy)benzene. So if the bromine is on the alkyl group, but the oxygen is still attached to the benzene, that would be a different structure. Wait, maybe the oxygen is replaced by Br? No, that would be a different reaction.\\n\\nAlternatively, maybe the reaction is that the HBr adds to the oxygen, making it a bromide on the oxygen, but that would be Ph-Br-O-alkyl, which is not in the options. \\n\\nAlternatively, maybe the bromine is on the benzene ring. For example, if the oxygen is a good leaving group, and the Br attacks the benzene ring. But that seems unlikely. \\n\\nWait, let's think about the options. Option D is 2-(2,2-dimethylbutyl)phenol and 4-(2,2-dimethylbutyl)phenol. These are phenol derivatives with the (2,2-dimethylbutyl) group on positions 2 and 4. If the original compound is (2,2-dimethylbut-3-en-1-yl)oxybenzene, and the reaction is with HBr, maybe the oxygen is replaced by an -OH group (like in a nucleophilic substitution), but that would require the reaction to be with something like H2O, not HBr. Alternatively, perhaps the reaction is an addition of HBr to the double bond, leading to the formation of a bromide and the oxygen being converted to something else. But I'm not seeing it.\\n\\nAlternatively, maybe the reaction is a nucleophilic substitution where the oxygen is replaced by Br, but the bromide is on the benzene ring. For example, the original compound is Ph-O-alkyl. If the oxygen is replaced by Br, then it becomes Ph-Br-alkyl. But this is not in the options.\\n\\nWait, let's look at option A: (4-bromo-2,2-dimethylbutoxy)benzene and (3-bromo-2,2-dimethylbutoxy)benzene. These are benzene rings with bromo and butoxy groups. If the original compound is Ph-O-alkyl, and the reaction is substitution of the oxygen with Br, then it would be Ph-Br-alkyl. But that would not match the options. However, if the original compound has two different positions for the alkyl group, maybe the reaction leads to two different products due to different positions of the bromide. But I don't see how that would happen.\\n\\nAlternatively, maybe the reaction is an addition to the double bond and a substitution. For example, the HBr adds to the double bond, and the oxygen is replaced by something else. But this is getting too vague.\\n\\nWait, perhaps the starting material is (2,2-dimethylbut-3-en-1-yl)oxybenzene, and the reaction is with HBr, leading to two products: one where the bromide is on the double bond, and another where it's on a different position. But how?\\n\\nAlternatively, maybe the reaction is an SN1 mechanism where the oxygen is protonated, and the carbocation is formed at the alpha carbon. For example, the oxygen is connected to the alkyl group, and when HBr is added, the oxygen is protonated, and the carbocation forms at the carbon adjacent to the oxygen. Let's say the structure is O-CH2-C(CH3)2-CH=CH2. When the oxygen is protonated, it becomes O-H2+ and the carbocation forms on the CH2 group. This would be a primary carbocation, which is unstable. However, if there is a hydride shift from the adjacent carbon (which is CH), the carbocation could shift to a more stable position. For example, a hydride shift from the CH (carbon 3) to the CH2 (carbon 2), forming a secondary carbocation on carbon 2. This would be CH2+ from the original CH2, but after the shift, it would be CH2+ with the rest of the group. Wait, I'm not sure.\\n\\nAlternatively, if the carbocation forms at the CH2 group (carbon 1), and then a hydride shift from the adjacent carbon (carbon 2, which is C(CH3)2) to the carbocation, leading to a more stable carbocation. For example, the carbocation on carbon 1 (CH2+) could shift a hydride from carbon 2 (which is C(CH3)2) to carbon 1, making it CH3+ on carbon 1 and CH2- on carbon 2. This might not be helpful.\\n\\nAlternatively, maybe the carbocation forms at the CH group (carbon 3), which is adjacent to the double bond. This would be a secondary carbocation. Then, the Br- would attack this carbocation, leading to a bromide at carbon 3. This would give a bromide at position 3 of the alkyl group. So the structure would be CH2-C(CH3)2-CHBr-CH2. Wait, but that would be a bromide at position 3. But this would be the 3-bromo-2,2-dimethylbutyl group. So if this is attached to the oxygen, it would be Ph-O-3-bromo-2,2-dimethylbutyl. But this is not in the options. Option A has 3-bromo-2,2-dimethylbutoxy benzene. Wait, perhaps the oxygen is still there, and the bromide is on the alkyl group. So the structure would be (3-bromo-2,2-dimethylbutyl)oxybenzene. But in option A, it's 4-bromo-2,2-dimethylbutoxy and 3-bromo-2,2-dimethylbutoxy. So if the bromide is on the 3rd position of the butyl group, that would be 3-bromo-2,2-dimethylbutyl. But the butyl group in the original is 2,2-dimethylbut-3-en-1-yl, which is a five-carbon chain with two methyl groups on carbon 2 and a double bond between 3 and 4. Wait, but if the bromide is added to the double bond, it would be on the 3rd carbon of the butyl group. \\n\\nWait, but if the original butyl group is (2,2-dimethylbut-3-en-1-yl), which is CH2-C(CH3)2-CH=CH2. If the bromide is added to the double bond, making it CH2-C(CH3)2-CHBr-CH3, then the bromide is on the third carbon of the butyl group. So this would be 3-bromo-2,2-dimethylbutyl. But in the product, this group is attached to the oxygen, which is on the benzene ring. So the structure would be (3-bromo-2,2-dimethylbutyl)oxybenzene. But in option A, it's (4-bromo-2,2-dimethylbutoxy) and (3-bromo-2,2-dimethylbutoxy) benzene. So that would fit. But why would there be two spots? Perhaps there are two possible products due to different addition patterns. \\n\\nWait, if the double bond is between C3 and C4, and adding HBr could give two different products. But in Markovnikov addition, it's usually one product. However, if there is a possibility of a different addition, or if there are two different carbocations, then there could be two products. \\n\\nAlternatively, maybe the reaction involves the bromide adding to the double bond, but due to the substituents, there are two possible positions. For example, the double bond is between C3 and C4, and the addition could lead to different positions. Wait, but the double bond is between C3 and C4, which are CH and CH2. Adding HBr would give Br on the CH2 side, making it CH2-CHBr. So the bromide is on the C4 position. Wait, but the original butyl group is CH2-C(CH3)2-CH=CH2. Adding HBr to the double bond would give CH2-C(CH3)2-CH2-CH2Br? No, that doesn't make sense. Let me try to write it properly. \\n\\nThe double bond is between C3 and C4: C3 is CH and C4 is CH2. Adding HBr would add H to C3 and Br to C4, giving CH2-CHBr on the C3 and C4. Wait, no, the double bond is CH=CH2. Adding HBr gives CH2Br-CH2? No, that's not right. The correct addition would be: the double bond is CH=CH2. Adding HBr would give CH2Br-CH2? No. Wait, the correct product is CH2Br-CH2? No, it should be CH2Br-CH2? No, the correct addition is that the Br adds to the more substituted carbon. Wait, the original double bond is CH=CH2. Adding HBr, the H would add to the CH (less substituted), and Br to the CH2 (more substituted). So the product is CH2-CH2Br? No, it's CH2-CHBr. Wait, I think I'm getting confused here.\\n\\nLet me think of a simpler example: if I have CH2=CH2 and add HBr, it would form CH3-CH2Br. But in this case, the double bond is CH=CH2, and adding HBr would give CH2-CHBr. Wait, but that would be CH2Br-CH2? No, the addition would give CH2Br-CH2? No, it's CH2Br-CH2? No, it's CH2-CHBr. Wait, I think I need to draw this. Let's say the double bond is between C1 and C2: CH2=CH2. Adding HBr would give CH3-CH2Br. But in our case, the double bond is CH=CH2. Adding HBr would give CH2-CH2Br? Or CH2Br-CH2? No. Let's use the correct mechanism: the double bond is CH=CH2. The H+ adds to the CH (less substituted), forming a carbocation at CH2. Then Br- adds to the CH2, giving CH2-CH2Br. But this is a primary carbocation, which is unstable. Wait, but this is actually a primary carbocation, and the addition would be CH2-CH2Br, which is CH3-CH2Br. Wait, no. This is getting too confusing. \\n\\nMaybe I should look for another approach. Let's look at the options. Option D is about phenol with (2,2-dimethylbutyl) groups on positions 2 and 4. The starting material is an ether with a (2,2-dimethylbut-3-en-1-yl) group on the oxygen. If the reaction is an SN1 where the oxygen is replaced by Br, then the product would be (2,2-dimethylbut-3-en-1-yl)Br attached to the benzene. But this is not in the options. However, if the reaction leads to the formation of a bromide on the benzene ring, that would be different. But how?\\n\\nAlternatively, maybe the reaction is a nucleophilic substitution where the Br replaces the oxygen. So the starting material is Ph-O-alkyl. The reaction would give Ph-Br-alkyl. But this is not in any of the options. \\n\\nWait, maybe the correct answer is D. If the original compound is an ether, and when reacted with HBr, it undergoes a substitution where the oxygen is replaced by an -OH group (like in a nucleophilic substitution with H2O), but that's not HBr. Alternatively, if the reaction is with HBr, maybe it's an addition to the double bond in the alkyl group, leading to the formation of a bromide and the oxygen being replaced by something else. But I'm not sure.\\n\\nAlternatively, maybe the reaction is an SN1 where the oxygen is protonated, leading to a carbocation, and the Br- attacks, giving a bromide. If the carbocation is at the carbon adjacent to the oxygen, which is the first carbon of the alkyl group (CH2). But this would be a primary carbocation, which is unstable. However, if there is a hydride shift from the second carbon (which is C(CH3)2), then the carbocation could shift to a more stable position. For example, the carbocation at CH2 could shift a hydride from the C(CH3)2, making it a secondary carbocation. This would give a more stable carbocation at the second carbon. Then, Br- would attack this carbocation, leading to a bromide on the second carbon. So the product would be CH2-C(CH3)2\",\n",
       " 'ground_truth': 'C',\n",
       " 'score': {'score': 0.0, 'soft_format': 0.0, 'hard_format': 0.0},\n",
       " 'difficulty': None,\n",
       " 'reason': \"score: {'score': 0.0, 'soft_format': 0.0, 'hard_format': 0.0}\",\n",
       " 'final_reward': 0,\n",
       " 'summarized_response': \"<|im_start|>user\\nIn an experiment, a researcher reacted ((2,2-dimethylbut-3-en-1-yl)oxy)benzene with hydrogen bromide. After some time, they checked the progress of the reaction using TLC. They found that the reactant spot had diminished, and two new spots were formed. Which of the following could be the structures of the products?\\n\\nA) (4-bromo-2,2-dimethylbutoxy)benzene and (3-bromo-2,2-dimethylbutoxy)benzene\\nB) (4-bromo-2,2-dimethylbutoxy)benzene and ((2,3-dimethylbut-2-en-1-yl)oxy)benzene\\nC) 3,3,4-trimethylchromane and 3-isopropyl-3-methyl-2,3-dihydrobenzofuran\\nD) 2-(2,2-dimethylbutyl)phenol and 4-(2,2-dimethylbutyl)phenol\\n\\nLet's think step by step and output the final answer within \\\\boxed{}.<|im_end|>\\n<|im_start|>assistant\\n<think>\\nOkay, let's try to figure this out. The question is about a reaction between (2,2-dimethylbut-3-en-1-yl)oxybenzene and hydrogen bromide. The TLC shows that the reactant spot disappears and two new spots form. So I need to determine the possible products.\\n\\nFirst, I should recall what kind of reaction is happening here. The reactant is an ether, specifically (2,2-dimethylbut-3-en-1-yl)oxybenzene. When you react an ether with HBr, I think it's likely an SN1 or SN2 reaction. But since the alkyl group is connected to an oxygen, maybe it's a nucleophilic substitution where the oxygen attacks HBr, leading to a bromide ion substitution.\\n\\nWait, but the structure of the alkyl group is (2,2-dimethylbut-3-en-1-yl). Let me draw that out. But-3-en is a five-carbon chain with a double bond between carbons 3 and 4. But since it's 1-yl, the structure is:\\n\\nThe base is but-3-ene, which is CH2-CH2-CH=CH2, but with two methyl groups on the second carbon. Wait, no, the name is 2,2-dimethylbut-3-en-1-yl. Let me break it down.\\n\\nBut-3-ene is a four-carbon chain with a double bond between carbons 3 and 4. But then the substituents are two methyl groups on carbon 2. So the structure would be:\\n\\nCarbon 1: CH2-\\nCarbon 2: C(CH3)2-\\nCarbon 3: CH-\\nCarbon 4: CH2-\\nWait, no. But-3-en is the parent chain. Let me think. But-3-en is CH2-CH2-CH=CH2? No, but-3-en is actually CH2-CH(CH2)-CH2? Wait, no. Let me think again. The correct structure of but-3-ene is CH2-CH2-CH=CH2? No, that's actually 1-butene. But but-3-ene would be CH2-CH(CH2)-CH2? Wait, no. The correct structure is CH2-CH2-CH=CH2? No, but-3-ene is CH2-CH(CH2)-CH2? I'm confused.\\n\\nActually, the correct structure of but-3-ene is CH2CH2CH=CH2? Wait, no. Wait, but-3-ene is CH2CH2CH=CH2? No, but-3-ene is CH2-CH2-CH=CH2? Wait, no. The correct structure is CH2-CH(CH2)-CH2? No. Let me get this straight. The parent chain is butane (four carbons). The double bond is between carbons 3 and 4. So the structure would be CH2CH2CH2CH2 with the double bond between the third and fourth carbons. Wait, but that would be CH2CH2CH=CH2? Wait, that's actually 1-butene. Wait, no, but-3-ene is CH2CH(CH2)CH2? I'm getting confused here. Maybe I should look up the structure. But since I can't, I'll try to think.\\n\\nBut-3-ene is CH2CH2CH=CH2? Wait, that would be but-1-ene if the double bond is between C1 and C2. But but-3-ene would have the double bond between C3 and C4. So the structure would be CH2CH2CH=CH2? Wait, but that would be CH2CH2CH=CH2, which is actually 1-butene. Wait, no. Maybe the correct structure is CH2CH2CH=CH2. Wait, perhaps I need to think of it as CH2-CH2-CH=CH2. Wait, but that's 1-butene. Wait, no, maybe the structure is CH2CH(CH2)CH2? No. Wait, maybe I should draw it as follows:\\n\\nBut-3-ene is CH2CH2CH=CH2? Wait, no. Let me think. The correct IUPAC name for but-3-ene is CH2CH2CH=CH2. Wait, no. The correct structure is CH2CH2CH=CH2. Wait, but that's 1-butene. Wait, maybe I'm mixing up the numbering. Let me try again. The parent chain is butene. The double bond is between carbons 3 and 4. So the structure is CH2CH2CH=CH2. But that would mean the double bond is between C3 and C4. But in a four-carbon chain, that would be the same as the double bond between C1 and C2 if you number from the other end. Wait, no. If the chain is C1-C2-C3-C4, then but-3-ene would have the double bond between C3 and C4. But that would be the same as but-1-ene if you number from the other end. Wait, but but-3-ene is actually not a valid name. Wait, no. Wait, in IUPAC nomenclature, the double bond is numbered to give the lowest possible number. So but-1-ene is CH2=CHCH2CH3. But-2-ene is CH2CH=CHCH3. But-3-ene would be CH2CH2CH=CH2. But that would be the same as but-1-ene if you reverse the chain. Therefore, but-3-ene is actually not possible. Wait, so maybe the correct structure is but-2-ene. So perhaps the original question has a typo? Or maybe I'm misunderstanding.\\n\\nAlternatively, maybe the alkyl group is (2,2-dimethylbut-3-en-1-yl). Let me think again. The parent chain is but-3-en, which is a five-carbon chain? Wait, no. The parent chain is but-3-ene, which is four carbons. But with two methyl groups on carbon 2. So maybe the structure is:\\n\\nCarbon 1: CH2-\\nCarbon 2: C(CH3)2-\\nCarbon 3: CH-\\nCarbon 4: CH2-\\nBut with a double bond between C3 and C4? Wait, that would make the structure:\\n\\nCH2-C(CH3)2-CH=CH2. Wait, that would be (2,2-dimethylbut-3-en-1-yl). So the structure is 2,2-dimethylbut-3-en-1-yl. So the alkyl group is a branched chain with a double bond. Let me try to draw this. The parent chain is but-3-ene, which is four carbons with a double bond between 3 and 4. But with two methyl groups on carbon 2. So the structure would be:\\n\\nCarbon 1: CH2-\\nCarbon 2: C(CH3)2-\\nCarbon 3: CH-\\nCarbon 4: CH2-\\nBut with a double bond between 3 and 4. Wait, but that would mean the double bond is between C3 and C4. However, with two methyl groups on C2, the structure is:\\n\\nCH2-C(CH3)2-CH=CH2. So the alkyl group is (2,2-dimethylbut-3-en-1-yl). That is, the structure is:\\n\\nCH2-C(CH3)2-CH=CH2. Wait, but the position of the double bond is between C3 and C4? Wait, but if the parent chain is but-3-ene, then the double bond is between C3 and C4. But then the entire structure would be:\\n\\nCH2-CH(CH3)-CH=CH2? No, that would be but-2-ene with a methyl group. Wait, maybe I need to think of the entire alkyl group as (2,2-dimethylbut-3-en-1-yl). Let me try to write the structure as follows:\\n\\nThe base is but-3-ene. But but-3-ene would have the double bond between C3 and C4. However, with two methyl groups on C2. Wait, but if the parent chain is but-3-ene, then the structure is CH2CH2CH=CH2? No, I think I need to think of this as a five-carbon chain. Wait, but but is four carbons. Maybe the problem is that the alkyl group is (2,2-dimethylbut-3-en-1-yl). So the parent chain is but-3-ene, but with two methyl groups on the second carbon. Wait, perhaps the structure is:\\n\\nCH2-C(CH3)2-CH=CH2. That would be a five-carbon chain? No, wait. But the parent chain is but-3-ene. Wait, but if the parent chain is four carbons, and the double bond is between C3 and C4, then the structure would be:\\n\\nCH2-CH2-CH=CH2. But with two methyl groups on the second carbon. So that would be CH2-C(CH3)2-CH=CH2. Wait, but that would be a five-carbon chain? No, because the but-3-ene is four carbons. Let me think again. The parent chain is four carbons. The double bond is between C3 and C4. The second carbon (C2) has two methyl groups. So the structure is:\\n\\nCarbon 1: CH2-\\nCarbon 2: C(CH3)2-\\nCarbon 3: CH-\\nCarbon 4: CH2-\\nBut the double bond is between C3 and C4. Wait, but that would be:\\n\\nCH2-C(CH3)2-CH=CH2. Wait, but that's a five-carbon chain? No. Carbon 1 is CH2, then carbon 2 is CH(CH3)2. Then carbon 3 is CH, and carbon 4 is CH2. But with a double bond between 3 and 4. So that would make the entire structure have five carbons? Because the first carbon is CH2, then carbon 2 is connected to carbon 1 and carbon 3, which is CH. So maybe this is actually a five-carbon chain with the double bond between 3 and 4? But the parent name is but-3-ene. Wait, maybe there's a mistake here. Alternatively, maybe the structure is 2,2-dimethylbut-3-en-1-yl. Let me look at the structure again. The substituent is (2,2-dimethylbut-3-en-1-yl). So the parent chain is but-3-ene. But but-3-ene can't exist, since but-1-ene and but-2-ene are the only possibilities. So perhaps the parent chain is actually pent-3-ene? But the name is but-3-en. This is confusing. Maybe I should proceed by considering that the alkyl group is a branched alkene with two methyl groups on the second carbon and a double bond between the third and fourth.\\n\\nAlternatively, perhaps it's easier to think of the starting material as a substituted benzene with an oxygen connected to a branched alkene group. The reaction with HBr would likely lead to substitution of the oxygen with Br. But wait, in an ether, when you react with HBr, it's possible that the oxygen is attacked by Br- in an SN2 reaction, but since the alkyl group is bulky, maybe it's an SN1 reaction. However, if the oxygen is a good leaving group, then the HBr could protonate the oxygen, leading to the formation of a good leaving group (H2O), and then the Br- could attack the carbon. Wait, but the reaction of an ether with HBr usually gives an alkyl bromide. Wait, but the starting material is (2,2-dimethylbut-3-en-1-yl)oxybenzene, which is phenyl ether with an alkyl group. So the structure is:\\n\\nPh-O-CH2-C(CH3)2-CH=CH2? Wait, no. Wait, the structure is benzene ring attached to an oxygen, which is connected to a (2,2-dimethylbut-3-en-1-yl) group. So the entire alkyl group is (2,2-dimethylbut-3-en-1-yl). Let me try to draw that as a substituent on the benzene ring. So the oxygen is connected to the benzene ring and to the alkyl group. The alkyl group is (2,2-dimethylbut-3-en-1-yl). Let me think of this as:\\n\\nThe alkyl chain is 1-yl, so the chain starts with the oxygen. So the structure is:\\n\\nO-CH2-C(CH3)2-CH=CH2? No, wait. The but-3-en part is the parent chain. So the but-3-en is a four-carbon chain with a double bond between 3 and 4. So the structure would be CH2-CH2-CH=CH2, but with two methyl groups on the second carbon. So the entire alkyl group would be:\\n\\nCH2-C(CH3)2-CH=CH2. But that would be five carbons? Wait, the base is but-3-ene (four carbons). So maybe the structure is:\\n\\nCH2-C(CH3)2-CH=CH2. Wait, but that would be a five-carbon chain? No. The parent chain is four carbons. The double bond is between carbons 3 and 4, and two methyl groups on carbon 2. So the structure is CH2-CH(CH3)2-CH=CH2? No, that would be but-2-ene with two methyl groups on carbon 2? Wait, but the name is but-3-en. I think I'm stuck here. Maybe I should just consider that the alkyl group is 2,2-dimethylbut-3-en-1-yl. The key is that the structure has a double bond and two methyl groups on carbon 2. \\n\\nNow, when this compound reacts with HBr, the reaction is likely an SN1 or SN2. But since the oxygen is connected to a fairly bulky alkyl group, maybe the reaction is SN1. The mechanism would involve the oxygen being protonated by HBr, forming a good leaving group (H2O), and then the bromide ion attacking the carbocation that forms. However, if the alkyl group is a secondary carbon (but maybe not), the carbocation might be more stable if there are alkyl groups. Wait, but the alkyl group is (2,2-dimethylbut-3-en-1-yl). Let's see. The carbocation would form at the carbon adjacent to the oxygen. Wait, the structure is O-CH2-C(CH3)2-CH=CH2. Wait, no. Wait, the alkyl group is connected to the oxygen. So the structure is O-alkyl. So the alkyl group is attached to the oxygen. The oxygen is connected to the benzene ring and to the alkyl group. The alkyl group is (2,2-dimethylbut-3-en-1-yl). So the carbon that's connected to the oxygen is the first carbon of the alkyl group. The entire alkyl group is 1-yl, so the first carbon is CH2-... Wait, but the but-3-en is in the middle. Maybe the structure is:\\n\\nThe alkyl group is CH2-C(CH3)2-CH=CH2? So the oxygen is connected to the CH2 group. Then, when HBr is added, the oxygen is attacked by H+ from HBr, leading to the formation of a good leaving group (H2O), and the carbocation would form at the adjacent carbon (the CH2 group). But the carbocation would be CH2+ connected to the rest of the group. Wait, that might not be stable. Alternatively, maybe the reaction leads to the formation of a bromide at a different position.\\n\\nAlternatively, maybe the HBr adds to the double bond, leading to a bromide. But the starting material is an ether, so the reaction might be a nucleophilic substitution where the oxygen is replaced by Br. However, in the case of a branched alkyl group, the reaction might lead to different products depending on the mechanism. \\n\\nWait, but the starting material is (2,2-dimethylbut-3-en-1-yl)oxybenzene. The oxygen is connected to the benzene ring and to the alkyl group. When HBr is added, maybe the oxygen is protonated, and the Br- attacks the carbon adjacent to the oxygen. However, the alkyl group is (2,2-dimethylbut-3-en-1-yl), so the carbon next to the oxygen would be the first carbon in the alkyl group. Let me imagine that structure. The oxygen is connected to a CH2 group, which is connected to C(CH3)2, which is connected to a double bond between CH and CH2. \\n\\nIf the reaction is an SN2, the Br- would attack the carbon adjacent to the oxygen. However, if the structure has a double bond, maybe the mechanism is different. Alternatively, maybe the reaction leads to the formation of a bromide in the alkyl group, but since the oxygen is connected to the alkyl group, maybe the bromine ends up on the carbon of the alkyl group. \\n\\nWait, but how would that work? The reaction is HBr with the ether. So the oxygen is the leaving group. The mechanism would be HBr adding to the oxygen, forming a carbocation, and then Br- attacking. However, if the carbocation is formed at the carbon adjacent to the oxygen (the CH2 group), then the carbocation would be CH2+ connected to the rest of the group. But that might not be stable. Alternatively, maybe the double bond in the alkyl group allows for a different kind of reaction, such as a hydride shift or something else. \\n\\nAlternatively, maybe the reaction leads to the formation of a bromide on the double bond. Wait, if the alkyl group has a double bond, maybe the HBr adds to the double bond, but that would be an addition reaction. However, the starting material is an ether, so maybe the reaction is a nucleophilic substitution where the Br replaces the oxygen. \\n\\nBut if that's the case, the product would be (2,2-dimethylbut-3-en-1-yl) bromide attached to the benzene ring. But the problem states that two new spots are formed, meaning two products. So maybe there are two possible products, perhaps due to different carbocation rearrangements. \\n\\nAlternatively, maybe the HBr adds across the double bond, leading to a bromide on the double bond. Let me think. If the alkyl group has a double bond (CH=CH2), and HBr adds, then the bromine would add to one of the carbons. But in this case, the starting material is an ether with the alkyl group. Maybe the reaction is not addition, but substitution. \\n\\nAlternatively, maybe the oxygen is attacked by HBr, forming a bromide. Let me think: the oxygen is connected to the benzene ring and to the alkyl group. The oxygen is a good leaving group, so the HBr would attack the oxygen. The reaction would be:\\n\\nPh-O-alkyl + HBr → Ph-Br + alkyl-OH? Wait, no. Wait, the reaction of an ether with HBr is typically to form an alkyl bromide. For example, if you have R-O-R' and you add HBr, you can get R-Br and R'-OH. But in this case, the alkyl group is connected to the oxygen. So maybe the reaction would produce a bromide and an alcohol. However, in this case, the oxygen is connected to the benzene ring. So the structure is Ph-O-alkyl. When HBr is added, it would be Ph-O-alkyl + HBr → Ph-Br + alkyl-OH? Wait, that doesn't make sense. Wait, no. The mechanism would be: the oxygen is protonated by HBr, forming Ph-OH2+ and then the Br- attacks. But the alkyl group is connected to the oxygen. Wait, this is confusing. Maybe the reaction is similar to the formation of an alkyl bromide from an ether. In that case, the oxygen would be replaced by Br. So Ph-O-alkyl would become Ph-Br-alkyl? Wait, no. Wait, in the case of R-O-R', adding HBr would give R-Br and R'-OH. But here, if the R is the benzene ring, and the other R is the alkyl group, then the reaction would give Ph-Br and alkyl-OH. But in this case, the alkyl group is (2,2-dimethylbut-3-en-1-yl). So the product would be (2,2-dimethylbut-3-en-1-yl)OH and Ph-Br? But the question says that the reactant spot disappears, and two new spots appear. If the starting material is one compound, and it becomes two products, then that would be Ph-Br and the other product being (2,2-dimethylbut-3-en-1-yl)OH? But the answer options don't have that. Let me check the options.\\n\\nOption A: (4-bromo-2,2-dimethylbutoxy)benzene and (3-bromo-2,2-dimethylbutoxy)benzene. These are both benzene rings with bromo and butoxy groups. But the starting material is Ph-O-alkyl. If the reaction is substitution of O with Br, then it would be Ph-Br-alkyl? But the options don't have that. Alternatively, maybe the bromine is on the alkyl group. \\n\\nOption D: 2-(2,2-dimethylbutyl)phenol and 4-(2,2-dimethylbutyl)phenol. Phenol is OH attached to the benzene. But in the starting material, the oxygen is connected to the alkyl group. If the reaction is substitution of the oxygen with Br, then maybe not. But if the oxygen is replaced by Br, then the product would be Ph-Br-alkyl. But that's not an option. \\n\\nAlternatively, maybe the reaction is an addition reaction to the double bond in the alkyl group. If the alkyl group has a double bond, maybe HBr adds across the double bond. For example, the alkyl group is (2,2-dimethylbut-3-en-1-yl), which is CH2-C(CH3)2-CH=CH2. The double bond is between C3 and C4. Adding HBr to this double bond would give a bromide. The addition could be via Markovnikov's rule. The double bond is CH=CH2. Adding HBr would add to the double bond. The more substituted carbon would get the Br. So the structure would be CH2-C(CH3)2-CHBr-CH3? Wait, but the starting double bond is between C3 and C4, which are CH and CH2. If the addition is HBr, then the Br would add to the CH2 side? Or the CH side? \\n\\nBut this seems complicated. Also, the starting material is an ether, so maybe the HBr is reacting with the ether oxygen. Alternatively, the HBr could be reacting with the double bond in the alkyl group, leading to a bromide. \\n\\nBut if the reaction is both substitution and addition, maybe the products are two different bromides. For example, if the Br can add to two different positions due to the double bond, but that would be if there's a possibility for different additions. However, in this case, the starting material has the oxygen attached to the benzene and the alkyl group. So maybe the reaction is substitution of the oxygen with Br, leading to a bromide on the alkyl group. But the structure of the product would be (2,2-dimethylbut-3-en-1-yl)Br attached to the benzene. Wait, but that would not fit any of the options. \\n\\nLooking back at the options, let's look at option D: 2-(2,2-dimethylbutyl)phenol and 4-(2,2-dimethylbutyl)phenol. Phenol has an -OH group. So that would imply that the oxygen in the original ether is replaced by an -OH group. But that would be if the reaction were a substitution where the oxygen is replaced by OH, but that would require a different reactant. However, the reaction is with HBr, which is a source of Br- and H+. \\n\\nWait, maybe the reaction is not substitution but addition. If the double bond in the alkyl group is attacked by HBr, then the product would have a bromide on the double bond. However, the original compound has the oxygen attached to the benzene ring. So maybe the reaction is an addition to the double bond, and the oxygen is still there? That seems unlikely. \\n\\nAlternatively, maybe the reaction is a nucleophilic substitution where the Br replaces the oxygen, but the oxygen is connected to the benzene ring. Wait, but that would give a bromide connected to the benzene ring. For example, if the starting material is Ph-O-alkyl, and the product is Ph-Br-alkyl. But none of the options have that. \\n\\nWait, looking at option A: (4-bromo-2,2-dimethylbutoxy)benzene and (3-bromo-2,2-dimethylbutoxy)benzene. These are both benzene rings with butoxy groups and bromo substituents. So maybe the original compound is phenol with an ether? No, the original compound is an ether with the oxygen connected to the benzene. So if the reaction is substitution of the oxygen with Br, but that would give Ph-Br attached to the alkyl group. But the options don't have that. \\n\\nAlternatively, maybe the reaction is a nucleophilic substitution where the oxygen is replaced by Br, but the Br is on the benzene ring. That would be if the original compound is (2,2-dimethylbut-3-en-1-yl)oxybenzene, and when reacting with HBr, the Br is added to the benzene ring. But that would require the oxygen to be a leaving group, and the Br to attack the benzene ring. That seems unlikely. \\n\\nAlternatively, maybe the reaction is a nucleophilic substitution at the oxygen, but the Br is on the alkyl group. For example, the oxygen is replaced by Br, but that would be Ph-Br-alkyl. But again, that's not in any of the options. \\n\\nLooking at option D: 2-(2,2-dimethylbutyl)phenol and 4-(2,2-dimethylbutyl)phenol. These are phenols where the substituent is (2,2-dimethylbutyl) on the 2 or 4 position. But the starting material has a (2,2-dimethylbut-3-en-1-yl) group attached to the oxygen. If the reaction is somehow replacing the oxygen with an -OH group, then that would fit option D, but that would require the reaction to be with something like H2O, not HBr. \\n\\nAlternatively, maybe the reaction is not a simple substitution but involves the double bond in the alkyl group reacting with HBr. For example, the alkyl group has a double bond. Let me think. The alkyl group is (2,2-dimethylbut-3-en-1-yl), which is CH2-C(CH3)2-CH=CH2. If this alkyl group is reacting with HBr, the double bond could undergo addition. The addition of HBr to a double bond typically follows Markovnikov's rule, adding H to the less substituted carbon. So if the double bond is between CH and CH2, adding HBr would add H to the CH side and Br to the CH2 side. So the product would be CH2-C(CH3)2-CHBr-CH3. But this would be a bromide on the CH2 side. So the entire alkyl group would be CH2-C(CH3)2-CHBr-CH3. Then, this alkyl group is attached to the oxygen. But the starting material is Ph-O-alkyl. If the reaction is addition of HBr to the double bond, then the product would have Br on the alkyl group, and the oxygen remains. So the product would be Ph-O-alkyl with Br added to the double bond. But how does that fit into the options?\\n\\nAlternatively, maybe the reaction leads to two different products due to different addition patterns or carbocation rearrangements. For example, if there's a possibility of hydride shift or something else, leading to different products. \\n\\nBut let's try to analyze the structure again. The original compound has the alkyl group as (2,2-dimethylbut-3-en-1-yl). Let's try to write this as a substituted alkene. The but-3-en part is a four-carbon chain with a double bond between carbons 3 and 4. But with two methyl groups on carbon 2. So the structure is:\\n\\nCarbon 1: CH2-\\nCarbon 2: C(CH3)2-\\nCarbon 3: CH-\\nCarbon 4: CH2-\\n\\nWait, but with a double bond between carbons 3 and 4. So the structure is CH2-C(CH3)2-CH=CH2. The double bond is between the third and fourth carbon. When this reacts with HBr, the addition could be at the double bond. Let's say the addition is to the double bond. The double bond is CH=CH2. Adding HBr, the Br would go to the more substituted carbon. The left side of the double bond is CH, which is less substituted than the CH2. So according to Markovnikov, the H would add to the CH side, and Br to the CH2 side. So the product would be CH2-C(CH3)2-CH2-CH2Br? No, wait. Let me think again. The double bond is between C3 and C4, which are CH and CH2. Adding HBr would give the structure:\\n\\nCH2-C(CH3)2-CH2-CH2Br? No. Wait, the addition would be:\\n\\nOriginal double bond: CH=CH2. Adding HBr: the Br would go to the CH2 side, making it CH2-CHBr. Wait, but the structure is more complex. Let me try to write it as:\\n\\nThe original double bond is between the third and fourth carbon of the alkyl group. So, the alkyl group is: CH2-C(CH3)2-CH=CH2. Adding HBr to the double bond would give CH2-C(CH3)2-CH2-CH2Br? No, that would be adding H and Br across the double bond. Let me think about the addition: the H adds to the CH (less substituted), and the Br adds to the CH2. So the double bond becomes CH2-CHBr. Wait, but that would be:\\n\\nCH2-C(CH3)2-CHBr-CH3. So the product is CH2-C(CH3)2-CHBr-CH3. So the alkyl group now has a Br on the third carbon. This would be a 3-bromo-2,2-dimethylbutyl group. If this is attached to the oxygen, then the structure would be Ph-O-CH2-C(CH3)2-CHBr-CH3. But this would be a bromide on the third carbon of the alkyl group. However, this doesn't match any of the options directly.\\n\\nAlternatively, maybe there is a rearrangement. For example, if the carbocation formed is not stable, and there is a hydride shift. Let's say the double bond is between the third and fourth carbon. When HBr adds, the mechanism could form a carbocation at the fourth carbon (CH2+). But that would be a primary carbocation, which is unstable. So a hydride shift could occur from the third carbon (CH) to the fourth carbon, giving a more stable carbocation at the third carbon. Then, the Br would add to the third carbon. So the product would be CH2-C(CH3)2-CHBr-CH3. Wait, but this is the same as before. So the product would be 3-bromo-2,2-dimethylbutyl group attached to the oxygen.\\n\\nBut the starting material is Ph-O-alkyl, so after adding Br to the double bond, it would be Ph-O-alkyl with Br on the alkyl group. But this would mean the product is (2,2-dimethylbutyl-3-Br)oxybenzene. But the options don't have that. Option A has (4-bromo-2,2-dimethylbutoxy)benzene and (3-bromo-2,2-dimethylbutoxy)benzene. So if the bromine is on the alkyl group, but the oxygen is still attached to the benzene, that would be a different structure. Wait, maybe the oxygen is replaced by Br? No, that would be a different reaction.\\n\\nAlternatively, maybe the reaction is that the HBr adds to the oxygen, making it a bromide on the oxygen, but that would be Ph-Br-O-alkyl, which is not in the options. \\n\\nAlternatively, maybe the bromine is on the benzene ring. For example, if the oxygen is a good leaving group, and the Br attacks the benzene ring. But that seems unlikely. \\n\\nWait, let's think about the options. Option D is 2-(2,2-dimethylbutyl)phenol and 4-(2,2-dimethylbutyl)phenol. These are phenol derivatives with the (2,2-dimethylbutyl) group on positions 2 and 4. If the original compound is (2,2-dimethylbut-3-en-1-yl)oxybenzene, and the reaction is with HBr, maybe the oxygen is replaced by an -OH group (like in a nucleophilic substitution), but that would require the reaction to be with something like H2O, not HBr. Alternatively, perhaps the reaction is an addition of HBr to the double bond, leading to the formation of a bromide and the oxygen being converted to something else. But I'm not seeing it.\\n\\nAlternatively, maybe the reaction is a nucleophilic substitution where the oxygen is replaced by Br, but the bromide is on the benzene ring. For example, the original compound is Ph-O-alkyl. If the oxygen is replaced by Br, then it becomes Ph-Br-alkyl. But this is not in the options.\\n\\nWait, let's look at option A: (4-bromo-2,2-dimethylbutoxy)benzene and (3-bromo-2,2-dimethylbutoxy)benzene. These are benzene rings with bromo and butoxy groups. If the original compound is Ph-O-alkyl, and the reaction is substitution of the oxygen with Br, then it would be Ph-Br-alkyl. But that would not match the options. However, if the original compound has two different positions for the alkyl group, maybe the reaction leads to two different products due to different positions of the bromide. But I don't see how that would happen.\\n\\nAlternatively, maybe the reaction is an addition to the double bond and a substitution. For example, the HBr adds to the double bond, and the oxygen is replaced by something else. But this is getting too vague.\\n\\nWait, perhaps the starting material is (2,2-dimethylbut-3-en-1-yl)oxybenzene, and the reaction is with HBr, leading to two products: one where the bromide is on the double bond, and another where it's on a different position. But how?\\n\\nAlternatively, maybe the reaction is an SN1 mechanism where the oxygen is protonated, and the carbocation is formed at the alpha carbon. For example, the oxygen is connected to the alkyl group, and when HBr is added, the oxygen is protonated, and the carbocation forms at the carbon adjacent to the oxygen. Let's say the structure is O-CH2-C(CH3)2-CH=CH2. When the oxygen is protonated, it becomes O-H2+ and the carbocation forms on the CH2 group. This would be a primary carbocation, which is unstable. However, if there is a hydride shift from the adjacent carbon (which is CH), the carbocation could shift to a more stable position. For example, a hydride shift from the CH (carbon 3) to the CH2 (carbon 2), forming a secondary carbocation on carbon 2. This would be CH2+ from the original CH2, but after the shift, it would be CH2+ with the rest of the group. Wait, I'm not sure.\\n\\nAlternatively, if the carbocation forms at the CH2 group (carbon 1), and then a hydride shift from the adjacent carbon (carbon 2, which is C(CH3)2) to the carbocation, leading to a more stable carbocation. For example, the carbocation on carbon 1 (CH2+) could shift a hydride from carbon 2 (which is C(CH3)2) to carbon 1, making it CH3+ on carbon 1 and CH2- on carbon 2. This might not be helpful.\\n\\nAlternatively, maybe the carbocation forms at the CH group (carbon 3), which is adjacent to the double bond. This would be a secondary carbocation. Then, the Br- would attack this carbocation, leading to a bromide at carbon 3. This would give a bromide at position 3 of the alkyl group. So the structure would be CH2-C(CH3)2-CHBr-CH2. Wait, but that would be a bromide at position 3. But this would be the 3-bromo-2,2-dimethylbutyl group. So if this is attached to the oxygen, it would be Ph-O-3-bromo-2,2-dimethylbutyl. But this is not in the options. Option A has 3-bromo-2,2-dimethylbutoxy benzene. Wait, perhaps the oxygen is still there, and the bromide is on the alkyl group. So the structure would be (3-bromo-2,2-dimethylbutyl)oxybenzene. But in option A, it's 4-bromo-2,2-dimethylbutoxy and 3-bromo-2,2-dimethylbutoxy. So if the bromide is on the 3rd position of the butyl group, that would be 3-bromo-2,2-dimethylbutyl. But the butyl group in the original is 2,2-dimethylbut-3-en-1-yl, which is a five-carbon chain with two methyl groups on carbon 2 and a double bond between 3 and 4. Wait, but if the bromide is added to the double bond, it would be on the 3rd carbon of the butyl group. \\n\\nWait, but if the original butyl group is (2,2-dimethylbut-3-en-1-yl), which is CH2-C(CH3)2-CH=CH2. If the bromide is added to the double bond, making it CH2-C(CH3)2-CHBr-CH3, then the bromide is on the third carbon of the butyl group. So this would be 3-bromo-2,2-dimethylbutyl. But in the product, this group is attached to the oxygen, which is on the benzene ring. So the structure would be (3-bromo-2,2-dimethylbutyl)oxybenzene. But in option A, it's (4-bromo-2,2-dimethylbutoxy) and (3-bromo-2,2-dimethylbutoxy) benzene. So that would fit. But why would there be two spots? Perhaps there are two possible products due to different addition patterns. \\n\\nWait, if the double bond is between C3 and C4, and adding HBr could give two different products. But in Markovnikov addition, it's usually one product. However, if there is a possibility of a different addition, or if there are two different carbocations, then there could be two products. \\n\\nAlternatively, maybe the reaction involves the bromide adding to the double bond, but due to the substituents, there are two possible positions. For example, the double bond is between C3 and C4, and the addition could lead to different positions. Wait, but the double bond is between C3 and C4, which are CH and CH2. Adding HBr would give Br on the CH2 side, making it CH2-CHBr. So the bromide is on the C4 position. Wait, but the original butyl group is CH2-C(CH3)2-CH=CH2. Adding HBr to the double bond would give CH2-C(CH3)2-CH2-CH2Br? No, that doesn't make sense. Let me try to write it properly. \\n\\nThe double bond is between C3 and C4: C3 is CH and C4 is CH2. Adding HBr would add H to C3 and Br to C4, giving CH2-CHBr on the C3 and C4. Wait, no, the double bond is CH=CH2. Adding HBr gives CH2Br-CH2? No, that's not right. The correct addition would be: the double bond is CH=CH2. Adding HBr would give CH2Br-CH2? No. Wait, the correct product is CH2Br-CH2? No, it should be CH2Br-CH2? No, the correct addition is that the Br adds to the more substituted carbon. Wait, the original double bond is CH=CH2. Adding HBr, the H would add to the CH (less substituted), and Br to the CH2 (more substituted). So the product is CH2-CH2Br? No, it's CH2-CHBr. Wait, I think I'm getting confused here.\\n\\nLet me think of a simpler example: if I have CH2=CH2 and add HBr, it would form CH3-CH2Br. But in this case, the double bond is CH=CH2, and adding HBr would give CH2-CHBr. Wait, but that would be CH2Br-CH2? No, the addition would give CH2Br-CH2? No, it's CH2Br-CH2? No, it's CH2-CHBr. Wait, I think I need to draw this. Let's say the double bond is between C1 and C2: CH2=CH2. Adding HBr would give CH3-CH2Br. But in our case, the double bond is CH=CH2. Adding HBr would give CH2-CH2Br? Or CH2Br-CH2? No. Let's use the correct mechanism: the double bond is CH=CH2. The H+ adds to the CH (less substituted), forming a carbocation at CH2. Then Br- adds to the CH2, giving CH2-CH2Br. But this is a primary carbocation, which is unstable. Wait, but this is actually a primary carbocation, and the addition would be CH2-CH2Br, which is CH3-CH2Br. Wait, no. This is getting too confusing. \\n\\nMaybe I should look for another approach. Let's look at the options. Option D is about phenol with (2,2-dimethylbutyl) groups on positions 2 and 4. The starting material is an ether with a (2,2-dimethylbut-3-en-1-yl) group on the oxygen. If the reaction is an SN1 where the oxygen is replaced by Br, then the product would be (2,2-dimethylbut-3-en-1-yl)Br attached to the benzene. But this is not in the options. However, if the reaction leads to the formation of a bromide on the benzene ring, that would be different. But how?\\n\\nAlternatively, maybe the reaction is a nucleophilic substitution where the Br replaces the oxygen. So the starting material is Ph-O-alkyl. The reaction would give Ph-Br-alkyl. But this is not in any of the options. \\n\\nWait, maybe the correct answer is D. If the original compound is an ether, and when reacted with HBr, it undergoes a substitution where the oxygen is replaced by an -OH group (like in a nucleophilic substitution with H2O), but that's not HBr. Alternatively, if the reaction is with HBr, maybe it's an addition to the double bond in the alkyl group, leading to the formation of a bromide and the oxygen being replaced by something else. But I'm not sure.\\n\\nAlternatively, maybe the reaction is an SN1 where the oxygen is protonated, leading to a carbocation, and the Br- attacks, giving a bromide. If the carbocation is at the carbon adjacent to the oxygen, which is the first carbon of the alkyl group (CH2). But this would be a primary carbocation, which is unstable. However, if there is a hydride shift from the second carbon (which is C(CH3)2), then the carbocation could shift to a more stable position. For example, the carbocation at CH2 could shift a hydride from the C(CH3)2, making it a secondary carbocation. This would give a more stable carbocation at the second carbon. Then, Br- would attack this carbocation, leading to a bromide on the second carbon. So the product would be CH2-C(CH3)2</think>\\n\\n\"}"
      ]
     },
     "execution_count": 122,
     "metadata": {},
     "output_type": "execute_result"
    }
   ],
   "source": [
    "line"
   ]
  },
  {
   "cell_type": "code",
   "execution_count": 123,
   "id": "1e19a2fc",
   "metadata": {},
   "outputs": [
    {
     "name": "stderr",
     "output_type": "stream",
     "text": [
      "100%|██████████| 985/985 [00:19<00:00, 50.16it/s]\n"
     ]
    }
   ],
   "source": [
    "import numpy as np\n",
    "correctness_response_length_list = {}\n",
    "diagrrement_response_length_list = {}\n",
    "data_points = []\n",
    "from tqdm import tqdm\n",
    "for line in tqdm(data):\n",
    "    if line['data_source'] not in correctness_response_length_list:\n",
    "        correctness_response_length_list[line['data_source']] = []\n",
    "    question = line['prompt']\n",
    "    summarized_response_correctness = getCorrectness(line['summarized_response'], line['ground_truth'])\n",
    "    response_correctness = getCorrectness(line['response'], line['ground_truth'])\n",
    "    correctness_response_length_list[line['data_source']].append((question, summarized_response_correctness, len(tokenizer.encode(line['summarized_response']))))\n",
    "\n",
    "    diagreement = abs(summarized_response_correctness - response_correctness)\n",
    "    if line['data_source'] not in diagrrement_response_length_list:\n",
    "        diagrrement_response_length_list[line['data_source']] = []\n",
    "    diagrrement_response_length_list[line['data_source']].append((question, diagreement, len(tokenizer.encode(line['summarized_response']))))\n",
    "    if diagreement == 1:\n",
    "        data_points.append(line)\n",
    "            \n",
    "            \n",
    "            "
   ]
  },
  {
   "cell_type": "code",
   "execution_count": 124,
   "id": "74bf3de4",
   "metadata": {},
   "outputs": [
    {
     "data": {
      "text/plain": [
       "156"
      ]
     },
     "execution_count": 124,
     "metadata": {},
     "output_type": "execute_result"
    }
   ],
   "source": [
    "len(data_points)"
   ]
  },
  {
   "cell_type": "code",
   "execution_count": 125,
   "id": "22c5215e",
   "metadata": {},
   "outputs": [],
   "source": [
    "def compute_aucoaa(data):\n",
    "    # data is a list of (correctness, response_length) tuples\n",
    "    n = len(data)\n",
    "    tmax = max(length for _,_, length in data)\n",
    "    oaa_t_list = []\n",
    "    for t in range(tmax + 1):\n",
    "        filtered = [correct for _,correct, length in data if length < t]\n",
    "        if filtered:\n",
    "            oaa_t = sum(filtered) / n  # Denominator is always n, per definition\n",
    "        else:\n",
    "            oaa_t = 0.0\n",
    "        oaa_t_list.append(oaa_t)\n",
    "    aucoaa = sum(oaa_t_list) / len(oaa_t_list)\n",
    "    return aucoaa\n"
   ]
  },
  {
   "cell_type": "code",
   "execution_count": 126,
   "id": "08506db8",
   "metadata": {},
   "outputs": [],
   "source": [
    "import numpy as np\n",
    "from collections import defaultdict\n",
    "\n",
    "def compute_accuracy_from_runs(prompts, accuracies, n_runs=5):\n",
    "    \"\"\"\n",
    "    prompts: list of prompt IDs (each repeated n_runs times)\n",
    "    accuracies: list of 0/1, same length as prompts\n",
    "    n_runs: number of answers per prompt (default 5)\n",
    "    \n",
    "    Returns:\n",
    "        dict with per-answer, per-prompt, and per-run accuracy + std\n",
    "    \"\"\"\n",
    "    assert len(prompts) == len(accuracies), \"Both lists must have the same length\"\n",
    "\n",
    "    accuracies = np.array(accuracies)\n",
    "    total_answers = len(accuracies)\n",
    "\n",
    "    # ------------------\n",
    "    # Per-answer accuracy (binomial estimate)\n",
    "    # ------------------\n",
    "    acc_answer = accuracies.mean()\n",
    "    std_answer = np.sqrt(acc_answer * (1 - acc_answer) / total_answers)\n",
    "\n",
    "    # ------------------\n",
    "    # Per-prompt accuracy\n",
    "    # ------------------\n",
    "    prompt_correct = defaultdict(list)\n",
    "    for p, a in zip(prompts, accuracies):\n",
    "        prompt_correct[p].append(a)\n",
    "\n",
    "    prompt_solved = np.array([np.mean(v) for v in prompt_correct.values()])\n",
    "    acc_prompt = prompt_solved.mean()\n",
    "    std_prompt = prompt_solved.std(ddof=1)\n",
    "\n",
    "    # ------------------\n",
    "    # Per-run accuracy (like papers report)\n",
    "    # ------------------\n",
    "    # initialize n_runs lists (one per run)\n",
    "    run_correct = [[] for _ in range(n_runs)]\n",
    "\n",
    "    for p in set(prompts):\n",
    "        answers = prompt_correct[p]   # length = n_runs\n",
    "        for i, a in enumerate(answers):\n",
    "            run_correct[i].append(a)\n",
    "\n",
    "    run_accs = np.array([np.mean(r) for r in run_correct])\n",
    "    acc_run = run_accs.mean()\n",
    "    std_run = run_accs.std(ddof=1)\n",
    "\n",
    "    return {\n",
    "        \"per_run_accuracy\": acc_run,\n",
    "        \"per_run_std\": std_run,\n",
    "    }\n"
   ]
  },
  {
   "cell_type": "code",
   "execution_count": 127,
   "id": "9e63045f",
   "metadata": {},
   "outputs": [
    {
     "name": "stdout",
     "output_type": "stream",
     "text": [
      "Data Source:  gpqa\n",
      "Accuracy: 0.47614213197969546\n",
      "Std: 0.02418503400928242\n",
      "Response Length: 6563.295431472081\n",
      "Max Response Length: 10616\n",
      "Min Response Length: 958\n",
      "AUC-OAA:  0.23615062329402753\n",
      "diagrrement:  0.15837563451776648\n",
      "--------------------------------\n"
     ]
    }
   ],
   "source": [
    "for key in correctness_response_length_list.keys():\n",
    "    print(\"Data Source: \", key)\n",
    "    prompt_list = [prompt for prompt, _, _ in correctness_response_length_list[key]]\n",
    "    accuracy_list = [correct for _, correct, _ in correctness_response_length_list[key]]\n",
    "    response_length_list = [length for _, _, length in correctness_response_length_list[key]]\n",
    "\n",
    "    result = compute_accuracy_from_runs(prompt_list, accuracy_list)\n",
    "    print(f\"Accuracy: {result['per_run_accuracy']}\")\n",
    "    print(f\"Std: {result['per_run_std']}\")\n",
    "    print(f\"Response Length: {np.mean(response_length_list)}\")\n",
    "    print(f\"Max Response Length: {max(response_length_list)}\")\n",
    "    print(f\"Min Response Length: {min(response_length_list)}\")\n",
    "\n",
    "    print(\"AUC-OAA: \", compute_aucoaa(correctness_response_length_list[key]))\n",
    "    print(\"diagrrement: \", np.mean([diagrement for _, diagrement, _ in diagrrement_response_length_list[key]]))\n",
    "    print(\"--------------------------------\")\n",
    "    \n",
    "    # print(result)\n",
    "    "
   ]
  },
  {
   "cell_type": "code",
   "execution_count": null,
   "id": "8753d308",
   "metadata": {},
   "outputs": [],
   "source": []
  },
  {
   "cell_type": "code",
   "execution_count": null,
   "id": "856e01dd",
   "metadata": {},
   "outputs": [],
   "source": [
    "0.7951807228915663\n",
    "{'per_answer_accuracy': np.float64(0.7951807228915663), 'per_answer_std': np.float64(0.019810447580330987), 'per_prompt_accuracy': np.float64(0.7951807228915663), 'per_prompt_std': np.float64(0.35334761936606585)}\n",
    "0.4720812182741117\n",
    "{'per_answer_accuracy': np.float64(0.4720812182741117), 'per_answer_std': np.float64(0.015906469699511084), 'per_prompt_accuracy': np.float64(0.4720812182741117), 'per_prompt_std': np.float64(0.415861821515785)}\n",
    "0.45454545454545453\n",
    "{'per_answer_accuracy': np.float64(0.45454545454545453), 'per_answer_std': np.float64(0.023737862175776978), 'per_prompt_accuracy': np.float64(0.45454545454545453), 'per_prompt_std': np.float64(0.43599775674554486)}"
   ]
  },
  {
   "cell_type": "code",
   "execution_count": 127,
   "id": "3651922f",
   "metadata": {},
   "outputs": [
    {
     "name": "stdout",
     "output_type": "stream",
     "text": [
      "Data Source:  bbeh\n",
      "Accuracy:  0.18405511811023623\n",
      "Response Length:  5440.876968503937\n",
      "Number of Samples:  2032\n",
      "AUC-OAA:  0.1128701425069317\n",
      "--------------------------------\n"
     ]
    }
   ],
   "source": [
    "for key in correctness_response_length_list.keys():\n",
    "    # Each entry is (question, correctness, response_length)\n",
    "    correctness_values = [correct for _, correct, _ in correctness_response_length_list[key]]\n",
    "    response_lengths = [length for _, _, length in correctness_response_length_list[key]]\n",
    "    print(\"Data Source: \", key)\n",
    "    print(\"Accuracy: \", np.mean(correctness_values))\n",
    "    # print(\"Accuracy Std: \", np.std(correctness_values, ddof=1) if len(correctness_values) > 1 else 0.0)\n",
    "    print(\"Response Length: \", np.mean(response_lengths))\n",
    "    # print(\"Response Length Std: \", np.std(response_lengths, ddof=1) if len(response_lengths) > 1 else 0.0)\n",
    "    print(\"Number of Samples: \", len(correctness_response_length_list[key]))\n",
    "    # For AUC-OAA, need (correctness, response_length) tuples\n",
    "    aucoaa_data = [(_, correct, length) for _, correct, length in correctness_response_length_list[key]]\n",
    "    print(\"AUC-OAA: \", compute_aucoaa(aucoaa_data))\n",
    "    print(\"--------------------------------\")\n"
   ]
  },
  {
   "cell_type": "code",
   "execution_count": 8,
   "id": "ea835a98",
   "metadata": {},
   "outputs": [
    {
     "name": "stdout",
     "output_type": "stream",
     "text": [
      "Data Source:  math-amc\n",
      "Accuracy:  0.7951807228915663\n",
      "Response Length:  4156.530120481928\n",
      "Number of Samples:  415\n",
      "AUC-OAA:  0.5376238678997872\n",
      "--------------------------------\n",
      "Data Source:  gpqa\n",
      "Accuracy:  0.4720812182741117\n",
      "Response Length:  4193.119796954315\n",
      "Number of Samples:  985\n",
      "AUC-OAA:  0.30289823809497224\n",
      "--------------------------------\n",
      "Data Source:  math-aime\n",
      "Accuracy:  0.45454545454545453\n",
      "Response Length:  6651.779545454546\n",
      "Number of Samples:  440\n",
      "AUC-OAA:  0.24861373632365236\n",
      "--------------------------------\n"
     ]
    }
   ],
   "source": [
    "for key in correctness_response_length_list.keys():\n",
    "    print(\"Data Source: \", key)\n",
    "    print(\"Accuracy: \", np.mean([correct for correct, _ in correctness_response_length_list[key]]))\n",
    "    print(\"Response Length: \", np.mean([length for _, length in correctness_response_length_list[key]]))\n",
    "    print(\"Number of Samples: \", len(correctness_response_length_list[key]))\n",
    "    print(\"AUC-OAA: \", compute_aucoaa(correctness_response_length_list[key]))\n",
    "    print(\"--------------------------------\")"
   ]
  },
  {
   "cell_type": "code",
   "execution_count": 39,
   "id": "8a62bdab",
   "metadata": {},
   "outputs": [],
   "source": [
    "with open('/nas-ssd2/joykirat/code/verl-fork/verl/TTS_attention/full_math-amc-disagreement.jsonl', 'w') as f:\n",
    "    for line in data_points:\n",
    "        f.write(json.dumps(line) + '\\n')"
   ]
  },
  {
   "cell_type": "code",
   "execution_count": 26,
   "id": "7828a9c2",
   "metadata": {},
   "outputs": [
    {
     "data": {
      "text/plain": [
       "'<think>\\nOkay, so I need to figure out which of the given options A-J have the correct adjective order based on the example sentences provided. The user mentioned that in this variant of English, the adjectives follow a specific order. From the examples given, I need to determine what that order is.\\n\\nLooking at the example sentences, like \"ancient key\" (1), \"pyramidal earring\" (2), \"repulsive normal-size hammer\" (3), etc., I need to find a pattern in the adjectives. The correct adjective order in these examples probably follows a certain sequence, such as opinion, size, age, material, purpose, and then other descriptors.\\n\\nLet me try to deduce the order based on the examples. For instance, in (3) \"repulsive normal-size hammer\", the adjectives are \"repulsive\" (opinion), \"normal-size\" (size), and then \"hammer\" (noun). Similarly, (4) \"red snorkeling bag\" has \"red\" (color), \"snorkeling\" (purpose), then \"bag\". Wait, but that seems different. Wait, maybe the order is opinion, size, age, material, purpose, then other descriptors.\\n\\nWait, looking at example (1): \"ancient key\" – ancient is an adjective of age, then key. But in example (2): \"pyramidal earring\" – pyramidal is a shape descriptor. Maybe the order is opinion, size, age, material, purpose, and then other adjectives. Wait, but how do they fit?\\n\\nAlternatively, perhaps the order is:\\n\\n1. Opinion adjectives (e.g., repulsive, awful, nice, terrible)\\n2. Size adjectives (e.g., large, small, normal-size, medium-size)\\n3. Age adjectives (e.g., ancient, old, old-fashioned)\\n4. Material adjectives (e.g., steel, leather, wool)\\n5. Purpose adjectives (e.g., snorkeling, eating, driving)\\n6. Shape adjectives (e.g., pyramidal, triangular, spherical)\\n\\nBut looking at the example (3): \"repulsive normal-size hammer\" – the order is opinion (repulsive), size (normal-size), then the noun. So maybe that\\'s correct. Then in example (4): \"red snorkeling bag\" – red is a color, which is a material or maybe a different category. Wait, but the example (2): \"pyramidal earring\" – pyramidal is a shape, which is a different category. So maybe the order is:\\n\\nThe adjectives in the correct order are: opinion, size, age, material, purpose, shape.\\n\\nBut I need to check which examples fit this.\\n\\nLooking at example (3): repulsive (opinion), normal-size (size), hammer (noun). So that fits opinion, size.\\n\\nExample (4): red (color, which might be a material or a different category). But maybe color is considered a material? Hmm. Or maybe the order is opinion, size, age, material, purpose, shape. Wait, example (5): square wrench – square is a shape, so maybe that\\'s after purpose. Wait, in example (5), \"square wrench\" – the adjective is shape (square), noun. So perhaps the order is opinion, size, age, material, purpose, shape. But if that\\'s the case, then in the example (5), the adjective is a shape, which would be last. But then example (2) is \"pyramidal earring\" – pyramidal is shape, so it\\'s last. But in that example, the order is shape, then noun. But according to the examples given, the adjectives are placed before the noun, but the order of the adjectives is unclear.\\n\\nWait, looking at the example (1): \"ancient key\" – the adjective is \"ancient\", which is age. So that would be age. Then in example (2): \"pyramidal earring\" – shape. So maybe the order is: opinion, age, size, material, purpose, shape.\\n\\nBut example (3): \"repulsive normal-size hammer\" – opinion, size. Then in example (4): \"red snorkeling bag\" – red is color (maybe a material?), snorkeling is purpose. Then \"bag\".\\n\\nAnother example (7): \"nigerian box\" – \"nigerian\" is nationality, which may be a material? Or maybe not. Wait, but in the given examples, some adjectives are not in the standard order. For instance, \"pyramidal earring\" – pyramidal is shape, so maybe shape is after purpose? Or perhaps the correct order is opinion, size, age, material, purpose, shape. Let me check if that holds.\\n\\nBut looking at (4): \"red snorkeling bag\" – red (color), snorkeling (purpose). But if the order is opinion, size, age, material, purpose, shape, then \"red\" would be a material, but red is color, which is a different category. Hmm.\\n\\nAlternatively, the correct order is:\\n\\nOpinion, size, age, material, purpose, shape.\\n\\nSo for example:\\n\\n(3) repulsive (opinion) normal-size (size) hammer (noun). Correct.\\n\\n(4) red (material?) snorkeling (purpose) bag. But red is color. Maybe that\\'s considered a material? Maybe not. Alternatively, the order could be:\\n\\nOpinion, size, age, shape, material, purpose.\\n\\nBut this is getting confusing. Let\\'s look at example (4): \"red snorkeling bag\" – the adjectives are \"red\" and \"snorkeling\". If the correct order is opinion, size, age, shape, material, purpose, but that doesn\\'t fit here.\\n\\nAlternatively, perhaps the adjectives are ordered as:\\n\\nOpinion (like repulsive, awful), then size (like normal-size), then age (like ancient), then material (like steel), then purpose (like snorkeling), then shape (like pyramidal).\\n\\nSo for example (3): repulsive (opinion), normal-size (size), hammer (noun) – which fits.\\n\\nIn (4): red (color, perhaps considered a material?), snorkeling (purpose), bag. But maybe red is a color, which is a different category. However, in the example (3), the adjectives are opinion and size. So maybe the order is opinion, size, age, material, purpose, shape.\\n\\nBut then in example (4), the adjectives are red (color, maybe material) and snorkeling (purpose). So that would be material (red) and purpose (snorkeling). But according to the example, this is correct. But this might not fit the order.\\n\\nAlternatively, perhaps the adjectives are ordered as: opinion, size, age, material, purpose, shape.\\n\\nSo let\\'s check the example (2): pyramidal earring. Here, \"pyramidal\" is a shape, which would be the last. So if the correct order is opinion, size, age, material, purpose, shape, then pyramidal would be the last adjective. But in this case, \"pyramidal\" is first, which might not fit.\\n\\nAlternatively, maybe the order is: opinion, shape, size, age, material, purpose.\\n\\nBut in that case, example (2) would fit. But example (3) is repulsive (opinion), normal-size (size), so that would be first two. Then the noun.\\n\\nHmm, this is complicated. Maybe the correct order is that opinion, size, age, shape, material, purpose. Or some other order.\\n\\nAlternatively, looking at example (2): \"pyramidal earring\" – the adjective is shape. So perhaps the correct order is that the adjectives are arranged in a specific order, and the examples provided show that the order is: opinion, size, age, material, purpose, shape.\\n\\nWait, example (2) is pyramidal, which is shape. If the correct order is that shape comes after purpose, then that would not fit. But maybe the order is different.\\n\\nAlternatively, perhaps the adjectives in the examples are ordered in the following way:\\n\\n- Opinion (like repulsive, awful, nice, etc.)\\n- Size (like large, small, normal-size, etc.)\\n- Age (like ancient, old, old-fashioned)\\n- Material (like steel, leather, wool)\\n- Purpose (like snorkeling, eating, driving)\\n- Shape (like pyramidal, triangular, spherical)\\n\\nBut in the example (3), the adjectives are repulsive (opinion) and normal-size (size), then the noun. So that\\'s correct.\\n\\nIn example (4): red (color) is a material? Or maybe that\\'s a different category. However, in the example (4), \"red snorkeling bag\" is given as correct. So red is a color, and snorkeling is a purpose. But according to the order above, the correct order would be opinion, size, age, material, purpose, shape. But in example (4), the adjectives are red (color) and snorkeling (purpose). However, since red is a color, maybe that is considered a material.\\n\\nAlternatively, the order might be opinion, size, age, shape, material, purpose. But I\\'m not sure.\\n\\nAlternatively, maybe the correct order is: opinion, size, age, material, purpose, shape.\\n\\nBut how to check? Let\\'s look at example (1): ancient key – ancient (age), key (noun). So that\\'s age first. But in the example (3), the adjectives are opinion and size. So the order is opinion, size, age, etc. That seems inconsistent.\\n\\nAlternatively, maybe the correct order is:\\n\\nOpinion (like repulsive, awful, nice, etc.)\\n\\nSize (like large, small, normal-size)\\n\\nAge (ancient, old, old-fashioned)\\n\\nMaterial (steel, leather, wool)\\n\\nPurpose (snorkeling, eating, driving)\\n\\nShape (pyramidal, triangular, spherical)\\n\\nSo in that order, the adjectives should be ordered as opinion, size, age, material, purpose, shape. Then, in example (2) \"pyramidal earring\" would have the adjective as shape, which would be last. But in that example, the adjective is first. So that would not fit.\\n\\nAlternatively, maybe the correct order is: opinion, size, age, material, purpose, shape. But in example (2), the adjective is shape, so that would be placed at the end, but in the example, it\\'s first. So this is conflicting.\\n\\nAlternatively, maybe the adjectives are ordered based on their category, and the correct order is:\\n\\n1. Opinion (e.g., repulsive, awful, nice, terrible)\\n2. Size (e.g., large, small, normal-size)\\n3. Age (e.g., ancient, old, old-fashioned)\\n4. Shape (e.g., pyramidal, triangular, spherical)\\n5. Material (e.g., steel, leather, wool)\\n6. Purpose (e.g., snorkeling, eating, driving)\\n\\nSo, for example, (2) \"pyramidal earring\" would have shape as the first adjective. Then in (3) \"repulsive normal-size hammer\" would be opinion, size.\\n\\nThis might fit. Let\\'s check example (2): \"pyramidal earring\" – shape, then noun. That would fit if shape is first. So the order is shape first.\\n\\nBut in example (3), the adjectives are opinion and size. So that would be opinion first, then size. So this order would not be consistent.\\n\\nAlternatively, the correct order is that the adjectives are ordered as: opinion, size, age, material, purpose, shape. But example (2) has shape first, which would not fit.\\n\\nAlternatively, maybe the correct order is: shape, material, purpose, size, age, opinion. But this is just a guess.\\n\\nThis is really confusing. Maybe I should check the given examples again for any patterns.\\n\\nLooking at example (4): \"red snorkeling bag\" – red (color, material?), snorkeling (purpose), bag.\\n\\nExample (5): \"square wrench\" – square (shape), wrench.\\n\\nExample (6): \"awful large apple\" – awful (opinion), large (size), apple.\\n\\nSo in example (6), the adjectives are opinion and size.\\n\\nIn example (7): \"nigerian box\" – \"nigerian\" is nationality, which is a material? Or maybe not. So perhaps in this case, it\\'s a material.\\n\\nBut the problem is that the correct order is not clear. Maybe the answer is to check if the adjectives in the options are in the order that is consistent with the given examples.\\n\\nBut since the examples are given, perhaps the correct adjective order is as follows, based on the examples:\\n\\nThe order is opinion, size, age, material, purpose, shape.\\n\\nSo, in the given examples:\\n\\n(1) ancient key – ancient (age), key.\\n\\nBut that would be age, which is first. So that might not fit. But maybe the order is age, then opinion?\\n\\nAlternatively, the correct order is opinion, size, age, material, purpose, shape.\\n\\nBut example (1) has \"ancient\" (age), so that would be the third position. But example (6) is \"awful large apple\" – opinion (awful), size (large), then apple.\\n\\nSo that fits the order opinion, size.\\n\\nIn example (2): pyramidal earring – shape, then noun. So shape is the last. So according to the order, if the order is opinion, size, age, material, purpose, shape, then shape should be last. So that would fit.\\n\\nSo for example (2), the adjective is shape, so it\\'s last. That would fit.\\n\\nSo maybe the correct order is: opinion, size, age, material, purpose, shape.\\n\\nBut in example (1), the adjective is \"ancient\", which is age. So in this case, the adjective is age. So that would be third.\\n\\nBut in the example (1), it\\'s \"ancient key\" – so the adjective is age. So that would fit in the third position.\\n\\nIn example (2): pyramidal earring – shape is last.\\n\\nIn example (3): \"repulsive normal-size hammer\" – opinion, then size.\\n\\nSo that fits the first two positions.\\n\\nIn example (4): red snorkeling bag – red (color, which might be material), snorkeling (purpose). So according to the order, material should come before purpose. But red is color, which is a material. Then snorkeling is purpose. So the order would be material (red), then purpose (snorkeling). So that fits.\\n\\nExample (5): square wrench – shape (square) is last.\\n\\nExample (6): awful large apple – opinion, size.\\n\\nSo the order seems to be opinion, size, age, material, purpose, shape.\\n\\nTherefore, in the options given, each option should have adjectives in that order.\\n\\nSo let\\'s analyze each option:\\n\\n(A) iranian square violet smoking old-fashioned rubber repulsive large screwdriver\\n\\nLet\\'s break down the adjectives:\\n\\n- iranian (nationality, maybe material?)\\n- square (shape)\\n- violet (color, material)\\n- smoking (purpose)\\n- old-fashioned (age)\\n- rubber (material)\\n- repulsive (opinion)\\n- large (size)\\n- screwdriver\\n\\nWait, but according to the order opinion, size, age, material, purpose, shape, this should be:\\n\\nOpinion: repulsive\\nSize: large\\nAge: old-fashioned\\nMaterial: rubber, violet (color)\\nPurpose: smoking\\nShape: square\\n\\nBut in the option, the order is: iranian, square, violet, smoking, old-fashioned, rubber, repulsive, large, screwdriver.\\n\\nThis is not in the correct order. Because the opinion should be first, then size, etc.\\n\\nSo the correct order for this would be repulsive (opinion), large (size), old-fashioned (age), rubber (material), smoking (purpose), square (shape), and then the noun. But in the option, the order is different.\\n\\nTherefore, option A is incorrect.\\n\\n(B) mysterious little maroon whittling ancient cloth prismlike brush\\n\\nAdjectives: mysterious (opinion), little (size), maroon (color/material), whittling (purpose), ancient (age), cloth (material), prismlike (shape)\\n\\nAccording to the order, the correct sequence would be opinion (mysterious), size (little), age (ancient), material (cloth), purpose (whittling), shape (prismlike), and then the noun. But in this option, the order is:\\n\\nmysterious (opinion), little (size), maroon (color, material), whittling (purpose), ancient (age), cloth (material), prismlike (shape). But here, the age comes after the purpose. That\\'s wrong. The correct order would be opinion, size, age, material, purpose, shape. In this case, the age (ancient) is after the purpose (whittling), which is incorrect. So option B is incorrect.\\n\\n(C) silly midsize crimson eating archaic leather square brazilian banana\\n\\nAdjectives: silly (opinion), midsize (size), crimson (color/material), eating (purpose), archaic (age), leather (material), square (shape), brazilian (nationality/material)\\n\\nCorrect order should be opinion (silly), size (midsize), age (archaic), material (leather, crimson, brazilian?), purpose (eating), shape (square). But in this option, after size (midsize), we have crimson (color), then eating (purpose), then archaic (age), which is incorrect. Because age should come before purpose. So the order is incorrect. So option C is incorrect.\\n\\n(D) tiny repulsive maroon drinking ancient glass pyramidal congolese fork\\n\\nAdjectives: tiny (size), repulsive (opinion), maroon (color/material), drinking (purpose), ancient (age), glass (material), pyramidal (shape), congolese (nationality)\\n\\nCorrect order is opinion (repulsive), size (tiny), age (ancient), material (glass), purpose (drinking), shape (pyramidal), and then nationality. But in the option, the order is size (tiny), opinion (repulsive), which is incorrect. The opinion should come before size. So this is wrong. Thus, D is incorrect.\\n\\n(E) green snorkeling archaic iron large awful toolbox\\n\\nAdjectives: green (color/material), snorkeling (purpose), archaic (age), iron (material), large (size), awful (opinion), toolbox.\\n\\nAccording to the order, opinion should be first, then size, then age, then material, then purpose. But here, the order is green (color/material), snorkeling (purpose), archaic (age), iron (material), large (size), awful (opinion). This is incorrect because opinion (awful) is last. So E is incorrect.\\n\\n(F) filipino spherical yellow exercise ancient wool medium-size good calculator\\n\\nAdjectives: filipino (nationality), spherical (shape), yellow (color), exercise (purpose), ancient (age), wool (material), medium-size (size), good (opinion), calculator.\\n\\nCorrect order: opinion (good), size (medium-size), age (ancient), material (wool), purpose (exercise), shape (spherical), then nationality. But in this option, the order is filipino, spherical, yellow, exercise, ancient, wool, medium-size, good. So the opinion (good) is last, which is wrong. Also, size (medium-size) is after material (wool), which is incorrect. So F is incorrect.\\n\\n(G) triangular violet drinking brand-new fiberglass small repulsive watch\\n\\nAdjectives: triangular (shape), violet (color/material), drinking (purpose), brand-new (age), fiberglass (material), small (size), repulsive (opinion), watch.\\n\\nThe order should be opinion (repulsive), size (small), age (brand-new), material (fiberglass), purpose (drinking), shape (triangular). But in the option, it\\'s triangular, violet, drinking, brand-new, fiberglass, small, repulsive. This is incorrect because the opinion is last. So G is incorrect.\\n\\n(H) russian prismlike aqua snorkeling old cloth house\\n\\nAdjectives: russian (nationality), prismlike (shape), aqua (color), snorkeling (purpose), old (age), cloth (material), house.\\n\\nThe correct order should be opinion (none here), then size (none), age (old), material (cloth), purpose (snorkeling), shape (prismlike). But the order is different. So this is incorrect. Also, \\'russian\\' is nationality, which might not fit the order.\\n\\n(I) massive lovely gray walking new cloth pen\\n\\nAdjectives: massive (size), lovely (opinion), gray (color), walking (purpose), new (age), cloth (material), pen.\\n\\nThe correct order would be opinion (lovely), size (massive), age (new), material (cloth), purpose (walking). But in this option, the order is size (massive), opinion (lovely), which is incorrect. Because opinion should come before size. So I is incorrect.\\n\\n(J) wonderful tiny gray walking archaic wood brush\\n\\nAdjectives: wonderful (opinion), tiny (size), gray (color), walking (purpose), archaic (age), wood (material), brush.\\n\\nThe order should be opinion (wonderful), size (tiny), age (archaic), material (wood), purpose (walking). The order here is correct. So J is correct.\\n\\nWait, let me check:\\n\\nThe adjectives are wonderful (opinion), tiny (size), gray (color, material), walking (purpose), archaic (age), wood (material), brush.\\n\\nBut the correct order should be opinion, size, age, material, purpose, shape. Wait, but in this case, the adjectives are:\\n\\nopinion: wonderful\\n\\nsize: tiny\\n\\nage: archaic\\n\\nmaterial: wood, gray?\\n\\nWait, gray is a color, which is part of material or color. In the correct order, after age comes material. So here, the order is:\\n\\nwonderful (opinion), tiny (size), archaic (age), gray (color, material), walking (purpose), wood (material), brush.\\n\\nBut in the option, the order is wonderful, tiny, gray, walking, archaic, wood. So the age (archaic) is after walking (purpose), which is incorrect. So J is incorrect.\\n\\nWait, no. Let\\'s check again. The option is:\\n\\nwonderful tiny gray walking archaic wood brush.\\n\\nThe adjectives are: wonderful (opinion), tiny (size), gray (color), walking (purpose), archaic (age), wood (material), brush.\\n\\nAccording to the correct order: opinion, size, age, material, purpose, shape.\\n\\nBut in this case, the order is opinion, size, then gray (color, which is material), walking (purpose), archaic (age), wood (material). Wait, this is incorrect because age should come before purpose. So the correct order would be opinion, size, age, material, purpose, shape. But in this option, the age (archaic) comes after the purpose (walking), which is wrong.\\n\\nSo J is also incorrect.\\n\\nWait, but the correct order is opinion, size, age, material, purpose, shape. So if the adjectives are arranged in that order, then J is incorrect. But if the order is different, perhaps I\\'m missing something.\\n\\nAlternatively, maybe the order is opinion, size, material, age, purpose, shape. But that\\'s not matching the examples.\\n\\nAlternatively, maybe the correct order is: opinion, size, age, purpose, material, shape.\\n\\nBut example (3) has opinion, size, then the noun. So that\\'s correct. But this is confusing.\\n\\nGiven the confusion, perhaps the correct answer is only option J, but I\\'m not sure. Alternatively, maybe none of them are correct. But let me check again.\\n\\nOption J is:\\n\\nwonderful (opinion), tiny (size), gray (color), walking (purpose), archaic (age), wood (material), brush.\\n\\nThe order would be opinion, size, purpose, age, material. That\\'s incorrect. So J is incorrect.\\n\\nAlternatively, maybe the correct order is opinion, size, material, purpose, age, shape. But that\\'s not matching any examples.\\n\\nGiven the confusion, maybe none of the options are correct. So the answer is K.\\n\\nBut let me check each option again more carefully.\\n\\nFor example, let\\'s recheck option J:\\n\\nwonderful (opinion), tiny (size), gray (color, material), walking (purpose), archaic (age), wood (material), brush.\\n\\nThe correct order should be opinion, size, age, material, purpose, shape. So here, the age (archaic) is after the purpose (walking), which is incorrect. So option J is wrong.\\n\\nLooking at all options, none seem to fit the correct order. Therefore, the answer is K.\\n\\nBut wait, let me check option (J) again. Maybe the age is supposed to come before purpose. So if the adjectives are in the order opinion, size, age, material, purpose, shape, then the correct order is:\\n\\nopinion, size, age, material, purpose, shape.\\n\\nIn option J, the order is: opinion (wonderful), size (tiny), then gray (color/material), then walking (purpose), then archaic (age), then wood (material). That would be opinion, size, purpose, age, material. Which is wrong.\\n\\nSo none of the options are correct. Therefore, the answer is K.\\n</think>\\n\\nTo determine which of the given options use the correct adjective order in this variant of English, we need to refer to the pattern in the examples provided. Based on the examples, the correct adjective order appears to be:\\n\\n1. **Opinion adjectives** (e.g., *wonderful, awful, nice, repulsive*)\\n2. **Size adjectives** (e.g., *large, small, normal-size, medium-size*)\\n3. **Age adjectives** (e.g., *ancient, old, old-fashioned, new*)\\n4. **Material adjectives** (e.g., *steel, leather, wood, cloth*)\\n5. **Purpose adjectives** (e.g., *snorkeling, eating, driving, walking*)\\n6. **Shape adjectives** (e.g., *pyramidal, triangular, spherical*)\\n\\nThis order is consistent across the examples provided. It starts with **opinion**, followed by **size**, then **age**, then **material**, then **purpose**, and finally **shape**.\\n\\n---\\n\\nLet\\'s analyze the options based on this order:\\n\\n### (A) iranian square violet smoking old-fashioned rubber repulsive large screwdriver  \\n- Adjectives: *iranian (nationality, likely material), square (shape), violet (color, likely material), smoking (purpose), old-fashioned (age), rubber (material), repulsive (opinion), large (size), screwdriver*\\n\\nThe correct order should be: **opinion → size → age → material → purpose → shape**  \\nHere, **opinion** comes last. Incorrect.\\n\\n---\\n\\n### (B) mysterious little maroon whittling ancient cloth prismlike brush  \\n- Adjectives: *mysterious (opinion), little (size), maroon (color, material), whittling (purpose), ancient (age), cloth (material), prismlike (shape), brush*\\n\\nThe correct order should be: **opinion → size → age → material → purpose → shape**  \\nHere, **age** comes after **purpose**. Incorrect.\\n\\n---\\n\\n### (C) silly midsize crimson eating archaic leather square brazilian banana  \\n- Adjectives: *silly (opinion), midsize (size), crimson (color, material), eating (purpose), archaic (age), leather (material), square (shape), brazilian (nationality)*\\n\\nThe correct order should be: **opinion → size → age → material → purpose → shape**  \\nHere, **age** comes after **purpose**. Incorrect.\\n\\n---\\n\\n### (D) tiny repulsive maroon drinking ancient glass pyramidal congolese fork  \\n- Adjectives: *tiny (size), repulsive (opinion), maroon (color, material), drinking (purpose), ancient (age), glass (material), pyramidal (shape), congolese (nationality)*\\n\\nThe correct order should be: **opinion → size → age → material → purpose → shape**  \\nHere, **opinion** comes after **size**. Incorrect.\\n\\n---\\n\\n### (E) green snorkeling archaic iron large awful toolbox  \\n- Adjectives: *green (color, material), snorkeling (purpose), archaic (age), iron (material), large (size), awful (opinion), toolbox*\\n\\nThe correct order should be: **opinion → size → age → material → purpose → shape**  \\nHere, **opinion** comes last. Incorrect.\\n\\n---\\n\\n### (F) filipino spherical yellow exercise ancient wool medium-size good calculator  \\n- Adjectives: *filipino (nationality), spherical (shape), yellow (color, material), exercise (purpose), ancient (age), wool (material), medium-size (size), good (opinion), calculator*\\n\\nThe correct order should be: **opinion → size → age → material → purpose → shape**  \\nHere, **opinion** comes last. Incorrect.\\n\\n---\\n\\n### (G) triangular violet drinking brand-new fiberglass small repulsive watch  \\n- Adjectives: *triangular (shape), violet (color, material), drinking (purpose), brand-new (age), fiberglass (material), small (size), repulsive (opinion), watch*\\n\\nThe correct order should be: **opinion → size → age → material → purpose → shape**  \\nHere, **opinion** comes last. Incorrect.\\n\\n---\\n\\n### (H) russian prismlike aqua snorkeling old cloth house  \\n- Adjectives: *russian (nationality), prismlike (shape), aqua (color, material), snorkeling (purpose), old (age), cloth (material), house*\\n\\nThe correct order should be: **opinion → size → age → material → purpose → shape**  \\nHere, **opinion** is missing and the rest are in incorrect order. Incorrect.\\n\\n---\\n\\n### (I) massive lovely gray walking new cloth pen  \\n- Adjectives: *massive (size), lovely (opinion), gray (color, material), walking (purpose), new (age), cloth (material), pen*\\n\\nThe correct order should be: **opinion → size → age → material → purpose → shape**  \\nHere, **opinion** comes after **size**. Incorrect.\\n\\n---\\n\\n### (J) wonderful tiny gray walking archaic wood brush  \\n- Adjectives: *wonderful (opinion), tiny (size), gray (color, material), walking (purpose), archaic (age), wood (material), brush*\\n\\nThe correct order should be: **opinion → size → age → material → purpose → shape**  \\nHere, **age** comes after **purpose**. Incorrect.\\n\\n---\\n\\n### Conclusion:\\n\\nNone of the options (A–J) follow the correct adjective order as deduced from the examples. Therefore, the correct answer is:\\n\\n$$\\n\\\\boxed{K}\\n$$'"
      ]
     },
     "execution_count": 26,
     "metadata": {},
     "output_type": "execute_result"
    }
   ],
   "source": [
    "line['response']"
   ]
  },
  {
   "cell_type": "code",
   "execution_count": 10,
   "id": "fa28c910",
   "metadata": {},
   "outputs": [
    {
     "data": {
      "text/plain": [
       "4407"
      ]
     },
     "execution_count": 10,
     "metadata": {},
     "output_type": "execute_result"
    }
   ],
   "source": [
    "len(tokenizer.encode(line['response']))"
   ]
  },
  {
   "cell_type": "code",
   "execution_count": 37,
   "id": "d81e6485",
   "metadata": {},
   "outputs": [
    {
     "ename": "FileNotFoundError",
     "evalue": "[Errno 2] No such file or directory: 'your_file.jsonl'",
     "output_type": "error",
     "traceback": [
      "\u001b[31m---------------------------------------------------------------------------\u001b[39m",
      "\u001b[31mFileNotFoundError\u001b[39m                         Traceback (most recent call last)",
      "\u001b[36mCell\u001b[39m\u001b[36m \u001b[39m\u001b[32mIn[37]\u001b[39m\u001b[32m, line 3\u001b[39m\n\u001b[32m      1\u001b[39m \u001b[38;5;28;01mimport\u001b[39;00m\u001b[38;5;250m \u001b[39m\u001b[34;01mjson\u001b[39;00m\n\u001b[32m      2\u001b[39m \u001b[38;5;66;03m## read jsonl\u001b[39;00m\n\u001b[32m----> \u001b[39m\u001b[32m3\u001b[39m \u001b[38;5;28;01mwith\u001b[39;00m \u001b[38;5;28;43mopen\u001b[39;49m\u001b[43m(\u001b[49m\u001b[33;43m'\u001b[39;49m\u001b[33;43myour_file.jsonl\u001b[39;49m\u001b[33;43m'\u001b[39;49m\u001b[43m,\u001b[49m\u001b[43m \u001b[49m\u001b[33;43m'\u001b[39;49m\u001b[33;43mr\u001b[39;49m\u001b[33;43m'\u001b[39;49m\u001b[43m)\u001b[49m \u001b[38;5;28;01mas\u001b[39;00m f:\n\u001b[32m      4\u001b[39m     data = [json.loads(line) \u001b[38;5;28;01mfor\u001b[39;00m line \u001b[38;5;129;01min\u001b[39;00m f]\n",
      "\u001b[36mFile \u001b[39m\u001b[32m/nas-ssd2/joykirat/code/verl-fork/verl/venv/lib/python3.12/site-packages/IPython/core/interactiveshell.py:343\u001b[39m, in \u001b[36m_modified_open\u001b[39m\u001b[34m(file, *args, **kwargs)\u001b[39m\n\u001b[32m    336\u001b[39m \u001b[38;5;28;01mif\u001b[39;00m file \u001b[38;5;129;01min\u001b[39;00m {\u001b[32m0\u001b[39m, \u001b[32m1\u001b[39m, \u001b[32m2\u001b[39m}:\n\u001b[32m    337\u001b[39m     \u001b[38;5;28;01mraise\u001b[39;00m \u001b[38;5;167;01mValueError\u001b[39;00m(\n\u001b[32m    338\u001b[39m         \u001b[33mf\u001b[39m\u001b[33m\"\u001b[39m\u001b[33mIPython won\u001b[39m\u001b[33m'\u001b[39m\u001b[33mt let you open fd=\u001b[39m\u001b[38;5;132;01m{\u001b[39;00mfile\u001b[38;5;132;01m}\u001b[39;00m\u001b[33m by default \u001b[39m\u001b[33m\"\u001b[39m\n\u001b[32m    339\u001b[39m         \u001b[33m\"\u001b[39m\u001b[33mas it is likely to crash IPython. If you know what you are doing, \u001b[39m\u001b[33m\"\u001b[39m\n\u001b[32m    340\u001b[39m         \u001b[33m\"\u001b[39m\u001b[33myou can use builtins\u001b[39m\u001b[33m'\u001b[39m\u001b[33m open.\u001b[39m\u001b[33m\"\u001b[39m\n\u001b[32m    341\u001b[39m     )\n\u001b[32m--> \u001b[39m\u001b[32m343\u001b[39m \u001b[38;5;28;01mreturn\u001b[39;00m \u001b[43mio_open\u001b[49m\u001b[43m(\u001b[49m\u001b[43mfile\u001b[49m\u001b[43m,\u001b[49m\u001b[43m \u001b[49m\u001b[43m*\u001b[49m\u001b[43margs\u001b[49m\u001b[43m,\u001b[49m\u001b[43m \u001b[49m\u001b[43m*\u001b[49m\u001b[43m*\u001b[49m\u001b[43mkwargs\u001b[49m\u001b[43m)\u001b[49m\n",
      "\u001b[31mFileNotFoundError\u001b[39m: [Errno 2] No such file or directory: 'your_file.jsonl'"
     ]
    }
   ],
   "source": [
    "import json\n",
    "## read jsonl\n",
    "with open('your_file.jsonl', 'r') as f:\n",
    "    data = [json.loads(line) for line in f]\n"
   ]
  },
  {
   "cell_type": "code",
   "execution_count": 1,
   "id": "d0055897",
   "metadata": {},
   "outputs": [
    {
     "data": {
      "application/vnd.jupyter.widget-view+json": {
       "model_id": "55f7dbede25c49ef92fd461aeed8a3f9",
       "version_major": 2,
       "version_minor": 0
      },
      "text/plain": [
       "Generating train split:   0%|          | 0/2499 [00:00<?, ? examples/s]"
      ]
     },
     "metadata": {},
     "output_type": "display_data"
    }
   ],
   "source": [
    "from datasets import load_dataset\n",
    "train_dataset = load_dataset('/nas-ssd2/joykirat/code/verl-fork/baselines/LC-R1/dataset', split='train')"
   ]
  },
  {
   "cell_type": "code",
   "execution_count": 2,
   "id": "bd778c0c",
   "metadata": {},
   "outputs": [
    {
     "data": {
      "text/plain": [
       "Dataset({\n",
       "    features: ['problem', 'solution'],\n",
       "    num_rows: 2499\n",
       "})"
      ]
     },
     "execution_count": 2,
     "metadata": {},
     "output_type": "execute_result"
    }
   ],
   "source": [
    "train_dataset"
   ]
  },
  {
   "cell_type": "code",
   "execution_count": 3,
   "id": "b70c8c1f",
   "metadata": {},
   "outputs": [
    {
     "data": {
      "text/plain": [
       "{'problem': 'Let $x$ , $y$ and $z$ all exceed $1$ and let $w$ be a positive number such that $\\\\log_xw=24$ , $\\\\log_y w = 40$ and $\\\\log_{xyz}w=12$ . Find $\\\\log_zw$ .',\n",
       " 'solution': '60'}"
      ]
     },
     "execution_count": 3,
     "metadata": {},
     "output_type": "execute_result"
    }
   ],
   "source": [
    "train_dataset[0]"
   ]
  },
  {
   "cell_type": "code",
   "execution_count": 9,
   "id": "14e28692",
   "metadata": {},
   "outputs": [
    {
     "data": {
      "text/html": [
       "<div>\n",
       "<style scoped>\n",
       "    .dataframe tbody tr th:only-of-type {\n",
       "        vertical-align: middle;\n",
       "    }\n",
       "\n",
       "    .dataframe tbody tr th {\n",
       "        vertical-align: top;\n",
       "    }\n",
       "\n",
       "    .dataframe thead th {\n",
       "        text-align: right;\n",
       "    }\n",
       "</style>\n",
       "<table border=\"1\" class=\"dataframe\">\n",
       "  <thead>\n",
       "    <tr style=\"text-align: right;\">\n",
       "      <th></th>\n",
       "      <th>data_source</th>\n",
       "      <th>prompt</th>\n",
       "      <th>ability</th>\n",
       "      <th>reward_model</th>\n",
       "      <th>extra_info</th>\n",
       "      <th>uuid</th>\n",
       "    </tr>\n",
       "  </thead>\n",
       "  <tbody>\n",
       "    <tr>\n",
       "      <th>0</th>\n",
       "      <td>DAPO-Math-17k</td>\n",
       "      <td>[{'content': 'In triangle $ABC$, $\\sin \\angle ...</td>\n",
       "      <td>math</td>\n",
       "      <td>{'ground_truth': '34', 'style': 'rule-lighteva...</td>\n",
       "      <td>{'index': 0, 'split': 'train'}</td>\n",
       "      <td>d2ccd328-e712-4d6b-b909-a7956589db4e</td>\n",
       "    </tr>\n",
       "    <tr>\n",
       "      <th>1</th>\n",
       "      <td>DAPO-Math-17k</td>\n",
       "      <td>[{'content': 'Let $ABCD$ be a unit square in t...</td>\n",
       "      <td>math</td>\n",
       "      <td>{'ground_truth': '113', 'style': 'rule-lightev...</td>\n",
       "      <td>{'index': 1, 'split': 'train'}</td>\n",
       "      <td>5fb8b773-1e5f-48ab-b5ce-8d2ba6ed53cc</td>\n",
       "    </tr>\n",
       "    <tr>\n",
       "      <th>2</th>\n",
       "      <td>DAPO-Math-17k</td>\n",
       "      <td>[{'content': 'Let $a, b, c$ be distinct number...</td>\n",
       "      <td>math</td>\n",
       "      <td>{'ground_truth': '-3', 'style': 'rule-lighteva...</td>\n",
       "      <td>{'index': 2, 'split': 'train'}</td>\n",
       "      <td>974a3162-fb31-4720-86ab-6a3738ae84e7</td>\n",
       "    </tr>\n",
       "    <tr>\n",
       "      <th>3</th>\n",
       "      <td>DAPO-Math-17k</td>\n",
       "      <td>[{'content': 'There are $7$ boxes arranged in ...</td>\n",
       "      <td>math</td>\n",
       "      <td>{'ground_truth': '3', 'style': 'rule-lighteval...</td>\n",
       "      <td>{'index': 3, 'split': 'train'}</td>\n",
       "      <td>c47003a1-29c7-46ad-b566-977ba9018acb</td>\n",
       "    </tr>\n",
       "    <tr>\n",
       "      <th>4</th>\n",
       "      <td>DAPO-Math-17k</td>\n",
       "      <td>[{'content': 'Let $S$ be the set of triples $(...</td>\n",
       "      <td>math</td>\n",
       "      <td>{'ground_truth': '37', 'style': 'rule-lighteva...</td>\n",
       "      <td>{'index': 4, 'split': 'train'}</td>\n",
       "      <td>f8e041a5-2848-4dfb-99c4-74aa70c8d211</td>\n",
       "    </tr>\n",
       "  </tbody>\n",
       "</table>\n",
       "</div>"
      ],
      "text/plain": [
       "     data_source                                             prompt ability  \\\n",
       "0  DAPO-Math-17k  [{'content': 'In triangle $ABC$, $\\sin \\angle ...    math   \n",
       "1  DAPO-Math-17k  [{'content': 'Let $ABCD$ be a unit square in t...    math   \n",
       "2  DAPO-Math-17k  [{'content': 'Let $a, b, c$ be distinct number...    math   \n",
       "3  DAPO-Math-17k  [{'content': 'There are $7$ boxes arranged in ...    math   \n",
       "4  DAPO-Math-17k  [{'content': 'Let $S$ be the set of triples $(...    math   \n",
       "\n",
       "                                        reward_model  \\\n",
       "0  {'ground_truth': '34', 'style': 'rule-lighteva...   \n",
       "1  {'ground_truth': '113', 'style': 'rule-lightev...   \n",
       "2  {'ground_truth': '-3', 'style': 'rule-lighteva...   \n",
       "3  {'ground_truth': '3', 'style': 'rule-lighteval...   \n",
       "4  {'ground_truth': '37', 'style': 'rule-lighteva...   \n",
       "\n",
       "                       extra_info                                  uuid  \n",
       "0  {'index': 0, 'split': 'train'}  d2ccd328-e712-4d6b-b909-a7956589db4e  \n",
       "1  {'index': 1, 'split': 'train'}  5fb8b773-1e5f-48ab-b5ce-8d2ba6ed53cc  \n",
       "2  {'index': 2, 'split': 'train'}  974a3162-fb31-4720-86ab-6a3738ae84e7  \n",
       "3  {'index': 3, 'split': 'train'}  c47003a1-29c7-46ad-b566-977ba9018acb  \n",
       "4  {'index': 4, 'split': 'train'}  f8e041a5-2848-4dfb-99c4-74aa70c8d211  "
      ]
     },
     "execution_count": 9,
     "metadata": {},
     "output_type": "execute_result"
    }
   ],
   "source": [
    "## load parquet dataset\n",
    "import pandas as pd\n",
    "dataset = pd.read_parquet('/nas-ssd2/joykirat/code/verl-fork/verl/scripts/data/dapo-17k/train.parquet')\n",
    "dataset.head()"
   ]
  },
  {
   "cell_type": "code",
   "execution_count": 10,
   "id": "51a71306",
   "metadata": {},
   "outputs": [],
   "source": [
    "# convert this dataset into a dataset\n",
    "from datasets import Dataset\n",
    "dataset = Dataset.from_pandas(dataset)\n"
   ]
  },
  {
   "cell_type": "code",
   "execution_count": 12,
   "id": "322a257a",
   "metadata": {},
   "outputs": [
    {
     "data": {
      "text/plain": [
       "Dataset({\n",
       "    features: ['data_source', 'prompt', 'ability', 'reward_model', 'extra_info', 'uuid'],\n",
       "    num_rows: 20000\n",
       "})"
      ]
     },
     "execution_count": 12,
     "metadata": {},
     "output_type": "execute_result"
    }
   ],
   "source": [
    "dataset"
   ]
  },
  {
   "cell_type": "code",
   "execution_count": 13,
   "id": "61da7071",
   "metadata": {},
   "outputs": [
    {
     "data": {
      "application/vnd.jupyter.widget-view+json": {
       "model_id": "ab05b6d81e894388baf96b5dbcfc88f3",
       "version_major": 2,
       "version_minor": 0
      },
      "text/plain": [
       "Generating train split: 0 examples [00:00, ? examples/s]"
      ]
     },
     "metadata": {},
     "output_type": "display_data"
    }
   ],
   "source": [
    "dataset = load_dataset('parquet', data_files='/nas-ssd2/joykirat/code/verl-fork/verl/scripts/data/dapo-17k/train.parquet')"
   ]
  },
  {
   "cell_type": "code",
   "execution_count": 17,
   "id": "74c16f7e",
   "metadata": {},
   "outputs": [],
   "source": [
    "### remove some columsn from the dataset\n",
    "dataset = dataset.remove_columns(['data_source', 'ability', 'extra_info', 'uuid'])"
   ]
  },
  {
   "cell_type": "code",
   "execution_count": 21,
   "id": "ddacf91f",
   "metadata": {},
   "outputs": [
    {
     "data": {
      "text/plain": [
       "{'prompt': [{'content': \"In triangle $ABC$, $\\\\sin \\\\angle A = \\\\frac{4}{5}$ and $\\\\angle A < 90^\\\\circ$. Let $D$ be a point outside triangle $ABC$ such that $\\\\angle BAD = \\\\angle DAC$ and $\\\\angle BDC = 90^\\\\circ$. Suppose that $AD = 1$ and that $\\\\frac{BD}{CD} = \\\\frac{3}{2}$. If $AB + AC$ can be expressed in the form $\\\\frac{a\\\\sqrt{b}}{c}$ where $a, b, c$ are pairwise relatively prime integers, find $a + b + c$. Let's think step by step and output the final answer within \\\\boxed{}.\",\n",
       "   'role': 'user'}],\n",
       " 'reward_model': {'ground_truth': '34', 'style': 'rule-lighteval/MATH_v2'}}"
      ]
     },
     "execution_count": 21,
     "metadata": {},
     "output_type": "execute_result"
    }
   ],
   "source": [
    "dataset['train'][0]"
   ]
  },
  {
   "cell_type": "code",
   "execution_count": 22,
   "id": "b06bc9f9",
   "metadata": {},
   "outputs": [],
   "source": [
    "dataset = dataset['train']"
   ]
  },
  {
   "cell_type": "code",
   "execution_count": 24,
   "id": "5646a45f",
   "metadata": {},
   "outputs": [],
   "source": [
    "# create a new column with problem name from prompt\n",
    "dataset = dataset.add_column('problem', [d['prompt'][0]['content'].replace(\"Let's think step by step and output the final answer within \\\\boxed{}.\", '').strip() for d in dataset])\n"
   ]
  },
  {
   "cell_type": "code",
   "execution_count": 27,
   "id": "ab61e1cd",
   "metadata": {},
   "outputs": [],
   "source": [
    "dataset = dataset.add_column('solution', [d['reward_model']['ground_truth'] for d in dataset])"
   ]
  },
  {
   "cell_type": "code",
   "execution_count": 29,
   "id": "d949b790",
   "metadata": {},
   "outputs": [],
   "source": [
    "dataset = dataset.remove_columns(['prompt', 'reward_model'])"
   ]
  },
  {
   "cell_type": "code",
   "execution_count": 30,
   "id": "26564142",
   "metadata": {},
   "outputs": [
    {
     "data": {
      "text/plain": [
       "Dataset({\n",
       "    features: ['problem', 'solution'],\n",
       "    num_rows: 20000\n",
       "})"
      ]
     },
     "execution_count": 30,
     "metadata": {},
     "output_type": "execute_result"
    }
   ],
   "source": [
    "dataset"
   ]
  },
  {
   "cell_type": "code",
   "execution_count": 34,
   "id": "868bb2f8",
   "metadata": {},
   "outputs": [],
   "source": [
    "### save the dataset locally in dataset format '/nas-ssd2/joykirat/code/verl-fork/baselines/LC-R1/dapo-17k'\n",
    "from datasets import load_dataset, load_from_disk\n",
    "# dataset.save_to_disk('/nas-ssd2/joykirat/code/verl-fork/baselines/LC-R1/dapo-17k')"
   ]
  },
  {
   "cell_type": "code",
   "execution_count": 35,
   "id": "93053ad7",
   "metadata": {},
   "outputs": [],
   "source": [
    "# load the dataset from the local dataset format\n",
    "dataset = load_from_disk('/nas-ssd2/joykirat/code/verl-fork/baselines/LC-R1/dapo-17k')"
   ]
  },
  {
   "cell_type": "code",
   "execution_count": 6,
   "id": "8960bb8b",
   "metadata": {},
   "outputs": [
    {
     "name": "stdout",
     "output_type": "stream",
     "text": [
      "607\n"
     ]
    }
   ],
   "source": [
    "# dataset_name = 'full'\n",
    "# folder_name = f'{dataset_name}_test_dataset'\n",
    "from datasets import load_dataset\n",
    "import pandas as pd\n",
    "dataset_name = 'overthink'\n",
    "\n",
    "df = pd.read_parquet(f\"/nas-ssd2/joykirat/code/verl-fork/verl/scripts/data/{dataset_name}_test_dataset/test.parquet\")\n",
    "\n",
    "print(len(df))"
   ]
  },
  {
   "cell_type": "code",
   "execution_count": null,
   "id": "9f444b99",
   "metadata": {},
   "outputs": [],
   "source": []
  }
 ],
 "metadata": {
  "kernelspec": {
   "display_name": "venv",
   "language": "python",
   "name": "python3"
  },
  "language_info": {
   "codemirror_mode": {
    "name": "ipython",
    "version": 3
   },
   "file_extension": ".py",
   "mimetype": "text/x-python",
   "name": "python",
   "nbconvert_exporter": "python",
   "pygments_lexer": "ipython3",
   "version": "3.12.3"
  }
 },
 "nbformat": 4,
 "nbformat_minor": 5
}
